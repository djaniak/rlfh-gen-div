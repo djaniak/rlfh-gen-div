{
 "cells": [
  {
   "cell_type": "code",
   "execution_count": 1,
   "metadata": {},
   "outputs": [],
   "source": [
    "%load_ext autoreload\n",
    "%autoreload 2"
   ]
  },
  {
   "cell_type": "code",
   "execution_count": 2,
   "metadata": {},
   "outputs": [],
   "source": [
    "import sys\n",
    "\n",
    "sys.path.append(\"../\")"
   ]
  },
  {
   "cell_type": "code",
   "execution_count": 3,
   "metadata": {},
   "outputs": [
    {
     "data": {
      "text/plain": [
       "device(type='cuda')"
      ]
     },
     "execution_count": 3,
     "metadata": {},
     "output_type": "execute_result"
    }
   ],
   "source": [
    "import os\n",
    "import torch\n",
    "\n",
    "os.environ[\"CUDA_DEVICE_ORDER\"] = \"PCI_BUS_ID\"\n",
    "os.environ[\"CUDA_VISIBLE_DEVICES\"] = \"1\"\n",
    "\n",
    "device = torch.device(\"cuda\") if torch.cuda.is_available() else torch.device(\"cpu\")\n",
    "device"
   ]
  },
  {
   "cell_type": "code",
   "execution_count": 4,
   "metadata": {},
   "outputs": [],
   "source": [
    "# !pip install transformers==4.36.2"
   ]
  },
  {
   "cell_type": "code",
   "execution_count": 21,
   "metadata": {},
   "outputs": [
    {
     "data": {
      "text/plain": [
       "DatasetDict({\n",
       "    train: Dataset({\n",
       "        features: ['id', 'doc_text', 'summary'],\n",
       "        num_rows: 32480\n",
       "    })\n",
       "})"
      ]
     },
     "execution_count": 21,
     "metadata": {},
     "output_type": "execute_result"
    }
   ],
   "source": [
    "from datasets import load_dataset\n",
    "\n",
    "dataset_name = 'clarin-knext/summarization-chat-annotated'\n",
    "dataset = load_dataset(dataset_name)\n",
    "dataset"
   ]
  },
  {
   "cell_type": "code",
   "execution_count": 22,
   "metadata": {},
   "outputs": [
    {
     "data": {
      "text/plain": [
       "{'id': 'complexqa_806054',\n",
       " 'doc_text': 'Zamach w Sarajewie Zamach w Sarajewie – zamach na następcę austro-węgierskiego tronu, arcyksięcia Franciszka Ferdynanda i jego żonę Zofię, księżnę Hohenberg, dokonany 28 czerwca 1914 roku przez bośniackiego Serba Gavrila Principa, członka serbskiej nacjonalistycznej organizacji \"Młoda Bośnia\". Princip wraz z pięcioma innymi uczestnikami zamachu powiązany był z serbską tajną organizacją \"Zjednoczenie lub śmierć\", popularnie nazywaną \"Czarna Ręka\", którą kierował Dragutin Dimitrijević pseudonim \"Apis\", szef serbskiego wywiadu wojskowego. Morderstwo następcy tronu austro-węgierskiego stworzyło napięcie pomiędzy Wiedniem a Belgradem. Austro-Węgry wysunęły ultimatum domagając się usunięcia wrogiej propagandy, a także udziału reprezentantów rządu cesarsko-królewskiego w śledztwie na terenie Serbii. Odrzucenie części żądań przez Serbię doprowadziło do tzw. kryzysu lipcowego, a w konsekwencji do wybuchu I wojny światowej. Przygotowania Przygotowania do zamachu rozpoczęto w marcu 1914 r., gdy prasa zapowiedziała przyjazd Franciszka Ferdynanda do Sarajewa. Ćwiczenia prowadzono w lasach pod Belgradem. Nedeljko Čabrinović, Gavrilo Princip i Trifko Grabež dotarli do Sarajewa 4 czerwca i zamieszkali u krewnych lub znajomych. Zamachowcy byli wyposażeni w cztery pistolety, sześć bomb domowej roboty i kapsułki z cyjankiem. Koordynacją działań na miejscu zajmował się miejscowy dziennikarz Danilo Ilić, on też zwerbował na miejscu Cvjetka Popovicia i Muhameda Mehmedbašicia. Zamachowcy zajęli pozycje na liczącej 4 km trasie z dworca kolejowego do ratusza, gdzie na arcyksięcia czekały władze miasta. Obstawili odcinek 300 metrów od Mostu Ćumurija, gdzie czekali Popović i Ilić, do Mostu Cesarskiego. Przy kawiarni Mostar oczekiwali Mehmedbašić i Čubrilović, Čabrinović na wysokości Drewnianego Mostu, Princip przy Moście Łacińskim, a Grabež przy Moście Cesarskim. Przebieg wydarzenia 28 czerwca 1914 roku arcyksiążę Franciszek Ferdynand Habsburg wraz z towarzyszącą mu małżonką Zofią von Chotek obchodzili rocznicę swojego ślubu. Z tej okazji wzięli udział we mszy odprawionej w hotelu „Bosna” w kurorcie Ilidža (godz. 9:00), 10 km na zachód od Sarajewa, do którego wyruszyli pociągiem około godz. 9:42. Do samego Sarajewa para przybyła o godz. 10:07. Na dworcu miejskim czekała kolumna sześciu aut, w tym oliwkowoszara sportowa limuzyna marki Gräf &amp; Stift ze składanym dachem dla wizytującej pary. W limuzynie wraz z Franciszkiem Ferdynandem i jego żoną jechali także: szofer Leopold Lojka, szef straży przybocznej – hrabia Franz von Harrach oraz wojskowy gubernator Bośni i Hercegowiny – Oskar Potiorek. Trasa przejazdu była publicznie podana do wiadomości kilka dni wcześniej. W trakcie przejazdu pierwszemu z zamachowców, Mehmedbašiciowi, nie udało się rozeznać, w którym aucie siedzi arcyksiążę. Kolejny ze spiskowców, Vaso Čubrilović, nie odważył się strzelać, widząc w pojeździe Franciszka i jego żonę, a Popović stał zbyt daleko i ze względu na słaby wzrok nie wiedział, w kogo celować. Pierwsza próba zamachu miała miejsce około godz. 10:26 przy Moście Ćumurija. Čabrinović rzucił w kierunku auta ręczny granat, ale dzięki refleksowi kierowcy limuzyny z arcyksięciem granat odbił się od płóciennego dachu samochodu i eksplodując, zniszczył następny samochód jadący w kolumnie raniąc pasażerów, policjanta i osoby z tłumu – łącznie 17 osób. Stojący w pobliżu Princip nie zaatakował, gdyż jego uwagę przyciągnęło aresztowanie Čabrinovicia, a Grabež był nieprzygotowany na to, że samochód arcyksięcia będzie poruszać się tak szybko. Para książęca przybyła do sarajewskiego ratusza o godzinie 10:30. Dziesięć minut później Franciszek Ferdynand z żoną opuścił ratusz z zamiarem odwiedzenia rannych w wyniku eksplozji, a ochrona zdecydowała o zmianie trasy przejazdu. Samochód z arcyksięciem, zwalniając na zakręcie na wysokości Mostu Łacińskiego, mijał kolejnego spiskowca, Grabeža, który nie chciał ryzykować postrzału postronnych osób. W tym miejscu samochód miał skręcić w prawo, a nie jak pierwotnie planowano pojechać prosto, ale kierowca nie dowiedział się o zmianie planów. Po przejechaniu skrzyżowania szofer zatrzymał auto na rozkaz szefa ochrony i zaczął zawracać. Drugi ze znajdujących się przypadkowo przy drugim przejeździe arcyksięcia zamachowiec, Princip, oddał dwa strzały w kierunku pary arcyksiążęcej. Pierwszy strzał trafił Zofię von Chotek w podbrzusze, druga kula przeszyła tchawicę i tętnicę szyjną jej męża. Oboje nie przeżyli (atak Principa około godz. 10:50). Napastnika zauważył detektyw Smail Spahović, który usiłował go obezwładnić, jednak Princip uderzył go pistoletem w głowę. Princip usiłował się zastrzelić, ale broń wytrącił mu detektyw Anto Velić. Następnie bezskutecznie próbował otruć się przygotowaną dawką cyjanku. Tłum chciał go zlinczować, lecz nie dopuściła do tego policja. Kolumna samochodów ze śmiertelnie postrzeloną parą o godz. 10:55 dotarła do rezydencji (konaku), gdzie urzędował Oskar Potiorek, współpasażer tragicznej jazdy pary arcyksiążęcej. Akt zgonu określił śmierć arcyksięcia Ferdynanda i jego żony na',\n",
       " 'summary': '28 czerwca 1914 roku w Sarajewie doszło do zamachu na arcyksięcia Franciszka Ferdynanda i jego żonę Zofię. Zamach został przeprowadzony przez bośniackiego Serba Gavrila Principa, członka serbskiej organizacji \"Młoda Bośnia\". Princip był powiązany z tajną organizacją \"Czarna Ręka\", która kierowała serbskim wywiadem wojskowym. Zamach wywołał napięcie między Austro-Węgrami a Serbią, co doprowadziło do wybuchu I wojny światowej. Przygotowania do zamachu rozpoczęto w marcu 1914 roku, a zamachowcy byli wyposażeni w broń i bomby domowej roboty. Zamach odbył się podczas przejazdu arcyksięcia i jego żony przez miasto. Pierwsza próba zamachu nie powiodła się, ale druga, przeprowadzona przez Principa, zakończyła się śmiercią arcyksięcia i jego żony. Zamachowiec został aresztowany i nie udało mu się popełnić samobójstwa. Zamach spowodował zmianę polityczną i wybuch wojny.'}"
      ]
     },
     "execution_count": 22,
     "metadata": {},
     "output_type": "execute_result"
    }
   ],
   "source": [
    "dataset['train'][0]"
   ]
  },
  {
   "cell_type": "code",
   "execution_count": 13,
   "metadata": {},
   "outputs": [
    {
     "name": "stderr",
     "output_type": "stream",
     "text": [
      "/home/djaniak/anaconda3/envs/rlhf-gen-div/lib/python3.10/site-packages/huggingface_hub/file_download.py:1150: FutureWarning: `resume_download` is deprecated and will be removed in version 1.0.0. Downloads always resume when possible. If you want to force a new download, use `force_download=True`.\n",
      "  warnings.warn(\n",
      "Downloading shards:   0%|          | 0/3 [00:00<?, ?it/s]/home/djaniak/anaconda3/envs/rlhf-gen-div/lib/python3.10/site-packages/huggingface_hub/file_download.py:1150: FutureWarning: `resume_download` is deprecated and will be removed in version 1.0.0. Downloads always resume when possible. If you want to force a new download, use `force_download=True`.\n",
      "  warnings.warn(\n",
      "Downloading shards: 100%|██████████| 3/3 [01:42<00:00, 34.23s/it]\n",
      "Loading checkpoint shards: 100%|██████████| 3/3 [00:04<00:00,  1.66s/it]\n",
      "/home/djaniak/anaconda3/envs/rlhf-gen-div/lib/python3.10/site-packages/huggingface_hub/file_download.py:1150: FutureWarning: `resume_download` is deprecated and will be removed in version 1.0.0. Downloads always resume when possible. If you want to force a new download, use `force_download=True`.\n",
      "  warnings.warn(\n"
     ]
    }
   ],
   "source": [
    "\n",
    "import torch\n",
    "from transformers import AutoTokenizer, AutoModelForCausalLM\n",
    "\n",
    "\n",
    "# model_name = \"speakleash/Bielik-7B-v0.1\"\n",
    "model_name = \"speakleash/Bielik-7B-Instruct-v0.1\"\n",
    "\n",
    "tokenizer = AutoTokenizer.from_pretrained(model_name)\n",
    "model = AutoModelForCausalLM.from_pretrained(model_name, torch_dtype=torch.float16, load_in_8bit=True, device_map=\"auto\")\n"
   ]
  },
  {
   "cell_type": "code",
   "execution_count": 16,
   "metadata": {},
   "outputs": [
    {
     "name": "stdout",
     "output_type": "stream",
     "text": [
      "Twoim zadaniem jest przeczytanie podanego tekstu i napisanie streszczenia w języku polskim. Streszczenie powinno zawierać najważniejsze informacje i wydarzenia opisane w tekście, być zwięzłe i dobrze zorganizowane. Unikaj wprowadzania nowych informacji oraz osobistych opinii.\n",
      "\n",
      "###\n",
      "\n",
      "Zamach w Sarajewie Zamach w Sarajewie – zamach na następcę austro-węgierskiego tronu, arcyksięcia Franciszka Ferdynanda i jego żonę Zofię, księżnę Hohenberg, dokonany 28 czerwca 1914 roku przez bośniackiego Serba Gavrila Principa, członka serbskiej nacjonalistycznej organizacji \"Młoda Bośnia\". Princip wraz z pięcioma innymi uczestnikami zamachu powiązany był z serbską tajną organizacją \"Zjednoczenie lub śmierć\", popularnie nazywaną \"Czarna Ręka\", którą kierował Dragutin Dimitrijević pseudonim \"Apis\", szef serbskiego wywiadu wojskowego. Morderstwo następcy tronu austro-węgierskiego stworzyło napięcie pomiędzy Wiedniem a Belgradem. Austro-Węgry wysunęły ultimatum domagając się usunięcia wrogiej propagandy, a także udziału reprezentantów rządu cesarsko-królewskiego w śledztwie na terenie Serbii. Odrzucenie części żądań przez Serbię doprowadziło do tzw. kryzysu lipcowego, a w konsekwencji do wybuchu I wojny światowej. Przygotowania Przygotowania do zamachu rozpoczęto w marcu 1914 r., gdy prasa zapowiedziała przyjazd Franciszka Ferdynanda do Sarajewa. Ćwiczenia prowadzono w lasach pod Belgradem. Nedeljko Čabrinović, Gavrilo Princip i Trifko Grabež dotarli do Sarajewa 4 czerwca i zamieszkali u krewnych lub znajomych. Zamachowcy byli wyposażeni w cztery pistolety, sześć bomb domowej roboty i kapsułki z cyjankiem. Koordynacją działań na miejscu zajmował się miejscowy dziennikarz Danilo Ilić, on też zwerbował na miejscu Cvjetka Popovicia i Muhameda Mehmedbašicia. Zamachowcy zajęli pozycje na liczącej 4 km trasie z dworca kolejowego do ratusza, gdzie na arcyksięcia czekały władze miasta. Obstawili odcinek 300 metrów od Mostu Ćumurija, gdzie czekali Popović i Ilić, do Mostu Cesarskiego. Przy kawiarni Mostar oczekiwali Mehmedbašić i Čubrilović, Čabrinović na wysokości Drewnianego Mostu, Princip przy Moście Łacińskim, a Grabež przy Moście Cesarskim. Przebieg wydarzenia 28 czerwca 1914 roku arcyksiążę Franciszek Ferdynand Habsburg wraz z towarzyszącą mu małżonką Zofią von Chotek obchodzili rocznicę swojego ślubu. Z tej okazji wzięli udział we mszy odprawionej w hotelu „Bosna” w kurorcie Ilidža (godz. 9:00), 10 km na zachód od Sarajewa, do którego wyruszyli pociągiem około godz. 9:42. Do samego Sarajewa para przybyła o godz. 10:07. Na dworcu miejskim czekała kolumna sześciu aut, w tym oliwkowoszara sportowa limuzyna marki Gräf &amp; Stift ze składanym dachem dla wizytującej pary. W limuzynie wraz z Franciszkiem Ferdynandem i jego żoną jechali także: szofer Leopold Lojka, szef straży przybocznej – hrabia Franz von Harrach oraz wojskowy gubernator Bośni i Hercegowiny – Oskar Potiorek. Trasa przejazdu była publicznie podana do wiadomości kilka dni wcześniej. W trakcie przejazdu pierwszemu z zamachowców, Mehmedbašiciowi, nie udało się rozeznać, w którym aucie siedzi arcyksiążę. Kolejny ze spiskowców, Vaso Čubrilović, nie odważył się strzelać, widząc w pojeździe Franciszka i jego żonę, a Popović stał zbyt daleko i ze względu na słaby wzrok nie wiedział, w kogo celować. Pierwsza próba zamachu miała miejsce około godz. 10:26 przy Moście Ćumurija. Čabrinović rzucił w kierunku auta ręczny granat, ale dzięki refleksowi kierowcy limuzyny z arcyksięciem granat odbił się od płóciennego dachu samochodu i eksplodując, zniszczył następny samochód jadący w kolumnie raniąc pasażerów, policjanta i osoby z tłumu – łącznie 17 osób. Stojący w pobliżu Princip nie zaatakował, gdyż jego uwagę przyciągnęło aresztowanie Čabrinovicia, a Grabež był nieprzygotowany na to, że samochód arcyksięcia będzie poruszać się tak szybko. Para książęca przybyła do sarajewskiego ratusza o godzinie 10:30. Dziesięć minut później Franciszek Ferdynand z żoną opuścił ratusz z zamiarem odwiedzenia rannych w wyniku eksplozji, a ochrona zdecydowała o zmianie trasy przejazdu. Samochód z arcyksięciem, zwalniając na zakręcie na wysokości Mostu Łacińskiego, mijał kolejnego spiskowca, Grabeža, który nie chciał ryzykować postrzału postronnych osób. W tym miejscu samochód miał skręcić w prawo, a nie jak pierwotnie planowano pojechać prosto, ale kierowca nie dowiedział się o zmianie planów. Po przejechaniu skrzyżowania szofer zatrzymał auto na rozkaz szefa ochrony i zaczął zawracać. Drugi ze znajdujących się przypadkowo przy drugim przejeździe arcyksięcia zamachowiec, Princip, oddał dwa strzały w kierunku pary arcyksiążęcej. Pierwszy strzał trafił Zofię von Chotek w podbrzusze, druga kula przeszyła tchawicę i tętnicę szyjną jej męża. Oboje nie przeżyli (atak Principa około godz. 10:50). Napastnika zauważył detektyw Smail Spahović, który usiłował go obezwładnić, jednak Princip uderzył go pistoletem w głowę. Princip usiłował się zastrzelić, ale broń wytrącił mu detektyw Anto Velić. Następnie bezskutecznie próbował otruć się przygotowaną dawką cyjanku. Tłum chciał go zlinczować, lecz nie dopuściła do tego policja. Kolumna samochodów ze śmiertelnie postrzeloną parą o godz. 10:55 dotarła do rezydencji (konaku), gdzie urzędował Oskar Potiorek, współpasażer tragicznej jazdy pary arcyksiążęcej. Akt zgonu określił śmierć arcyksięcia Ferdynanda i jego żony na\n",
      "\n"
     ]
    }
   ],
   "source": [
    "doc_text = dataset['train'][0]['doc_text']\n",
    "\n",
    "def get_prompt(doc_text):\n",
    "    return f\"Twoim zadaniem jest przeczytanie podanego tekstu i napisanie streszczenia w języku polskim. Streszczenie powinno zawierać najważniejsze informacje i wydarzenia opisane w tekście, być zwięzłe i dobrze zorganizowane. Unikaj wprowadzania nowych informacji oraz osobistych opinii.\\n\\n###\\n\\n{doc_text}\\n\"\n",
    "\n",
    "print(get_prompt(doc_text))"
   ]
  },
  {
   "cell_type": "code",
   "execution_count": 15,
   "metadata": {},
   "outputs": [],
   "source": [
    "# !pip install alpaca-eval"
   ]
  },
  {
   "cell_type": "code",
   "execution_count": 25,
   "metadata": {},
   "outputs": [
    {
     "data": {
      "text/plain": [
       "torch.Size([1, 2078])"
      ]
     },
     "execution_count": 25,
     "metadata": {},
     "output_type": "execute_result"
    }
   ],
   "source": [
    "inputs['input_ids'].shape"
   ]
  },
  {
   "cell_type": "code",
   "execution_count": 34,
   "metadata": {},
   "outputs": [],
   "source": [
    "alpaca_eval = load_dataset(\n",
    "    \"tatsu-lab/alpaca_eval\", \"alpaca_eval\"\n",
    ")[\"eval\"]"
   ]
  },
  {
   "cell_type": "code",
   "execution_count": 36,
   "metadata": {},
   "outputs": [
    {
     "data": {
      "text/plain": [
       "Dataset({\n",
       "    features: ['instruction', 'output', 'generator', 'dataset'],\n",
       "    num_rows: 805\n",
       "})"
      ]
     },
     "execution_count": 36,
     "metadata": {},
     "output_type": "execute_result"
    }
   ],
   "source": [
    "alpaca_eval"
   ]
  },
  {
   "cell_type": "code",
   "execution_count": 35,
   "metadata": {},
   "outputs": [
    {
     "data": {
      "text/plain": [
       "{'instruction': 'What are the names of some famous actors that started their careers on Broadway?',\n",
       " 'output': 'Some famous actors that started their careers on Broadway include: \\n1. Hugh Jackman \\n2. Meryl Streep \\n3. Denzel Washington \\n4. Julia Roberts \\n5. Christopher Walken \\n6. Anthony Rapp \\n7. Audra McDonald \\n8. Nathan Lane \\n9. Sarah Jessica Parker \\n10. Lin-Manuel Miranda',\n",
       " 'generator': 'text_davinci_003',\n",
       " 'dataset': 'helpful_base'}"
      ]
     },
     "execution_count": 35,
     "metadata": {},
     "output_type": "execute_result"
    }
   ],
   "source": [
    "alpaca_eval[0]"
   ]
  },
  {
   "cell_type": "code",
   "execution_count": null,
   "metadata": {},
   "outputs": [],
   "source": [
    "alpaca_eval"
   ]
  },
  {
   "cell_type": "code",
   "execution_count": 69,
   "metadata": {},
   "outputs": [
    {
     "name": "stderr",
     "output_type": "stream",
     "text": [
      "0it [00:00, ?it/s]/home/djaniak/anaconda3/envs/rlhf-gen-div/lib/python3.10/site-packages/transformers/generation/configuration_utils.py:389: UserWarning: `do_sample` is set to `False`. However, `temperature` is set to `0.2` -- this flag is only used in sample-based generation modes. You should set `do_sample=True` or unset `temperature`.\n",
      "  warnings.warn(\n",
      "/home/djaniak/anaconda3/envs/rlhf-gen-div/lib/python3.10/site-packages/transformers/generation/configuration_utils.py:394: UserWarning: `do_sample` is set to `False`. However, `top_p` is set to `0.4` -- this flag is only used in sample-based generation modes. You should set `do_sample=True` or unset `top_p`.\n",
      "  warnings.warn(\n",
      "Setting `pad_token_id` to `eos_token_id`:2 for open-end generation.\n",
      "1it [00:50, 50.69s/it]Setting `pad_token_id` to `eos_token_id`:2 for open-end generation.\n",
      "2it [01:03, 28.29s/it]Setting `pad_token_id` to `eos_token_id`:2 for open-end generation.\n",
      "3it [01:52, 37.65s/it]Setting `pad_token_id` to `eos_token_id`:2 for open-end generation.\n",
      "4it [02:39, 41.47s/it]Setting `pad_token_id` to `eos_token_id`:2 for open-end generation.\n",
      "5it [03:28, 44.14s/it]Setting `pad_token_id` to `eos_token_id`:2 for open-end generation.\n",
      "6it [04:17, 45.95s/it]Setting `pad_token_id` to `eos_token_id`:2 for open-end generation.\n"
     ]
    }
   ],
   "source": [
    "import datasets\n",
    "from tqdm import tqdm\n",
    "\n",
    "eval_data = []\n",
    "N = 20\n",
    "temp = 0.2\n",
    "top_p = 0.4\n",
    "\n",
    "for i, example in tqdm(enumerate(dataset[\"train\"])):\n",
    "    if i == N:\n",
    "        break\n",
    "    prompt = get_prompt(example[\"doc_text\"])\n",
    "    inputs = tokenizer(prompt, return_tensors=\"pt\").to(device)\n",
    "    inputs_length = len(inputs['input_ids'][0])\n",
    "    output = model.generate(**inputs, temperature=temp, top_p=top_p, max_new_tokens=int(inputs_length * 0.1))\n",
    "    generated_text = tokenizer.decode(output[0][inputs_length:], skip_special_tokens=True)\n",
    "    eval_data.append({\"instruction\": prompt, \"output\": generated_text, \"generator\": model_name.split(\"/\")[-1], \"dataset\": dataset_name.split(\"/\")[-1], \"datasplit\": \"train\"})"
   ]
  },
  {
   "cell_type": "code",
   "execution_count": null,
   "metadata": {},
   "outputs": [
    {
     "data": {
      "text/plain": [
       "10"
      ]
     },
     "execution_count": 41,
     "metadata": {},
     "output_type": "execute_result"
    }
   ],
   "source": [
    "len(eval_data)"
   ]
  },
  {
   "cell_type": "code",
   "execution_count": null,
   "metadata": {},
   "outputs": [
    {
     "name": "stderr",
     "output_type": "stream",
     "text": [
      "10it [00:00, 5279.17it/s]\n"
     ]
    }
   ],
   "source": [
    "from copy import deepcopy\n",
    "\n",
    "reference_data = deepcopy(eval_data)\n",
    "\n",
    "for i, example in tqdm(enumerate(dataset[\"train\"])):\n",
    "    if i == N:\n",
    "        break\n",
    "    reference_data[i][\"output\"] = example[\"summary\"]\n",
    "\n"
   ]
  },
  {
   "cell_type": "code",
   "execution_count": null,
   "metadata": {},
   "outputs": [
    {
     "data": {
      "text/plain": [
       "[{'instruction': 'Twoim zadaniem jest przeczytanie podanego tekstu i napisanie streszczenia w języku polskim. Streszczenie powinno zawierać najważniejsze informacje i wydarzenia opisane w tekście, być zwięzłe i dobrze zorganizowane. Unikaj wprowadzania nowych informacji oraz osobistych opinii.\\n\\n###\\n\\nZamach w Sarajewie Zamach w Sarajewie – zamach na następcę austro-węgierskiego tronu, arcyksięcia Franciszka Ferdynanda i jego żonę Zofię, księżnę Hohenberg, dokonany 28 czerwca 1914 roku przez bośniackiego Serba Gavrila Principa, członka serbskiej nacjonalistycznej organizacji \"Młoda Bośnia\". Princip wraz z pięcioma innymi uczestnikami zamachu powiązany był z serbską tajną organizacją \"Zjednoczenie lub śmierć\", popularnie nazywaną \"Czarna Ręka\", którą kierował Dragutin Dimitrijević pseudonim \"Apis\", szef serbskiego wywiadu wojskowego. Morderstwo następcy tronu austro-węgierskiego stworzyło napięcie pomiędzy Wiedniem a Belgradem. Austro-Węgry wysunęły ultimatum domagając się usunięcia wrogiej propagandy, a także udziału reprezentantów rządu cesarsko-królewskiego w śledztwie na terenie Serbii. Odrzucenie części żądań przez Serbię doprowadziło do tzw. kryzysu lipcowego, a w konsekwencji do wybuchu I wojny światowej. Przygotowania Przygotowania do zamachu rozpoczęto w marcu 1914 r., gdy prasa zapowiedziała przyjazd Franciszka Ferdynanda do Sarajewa. Ćwiczenia prowadzono w lasach pod Belgradem. Nedeljko Čabrinović, Gavrilo Princip i Trifko Grabež dotarli do Sarajewa 4 czerwca i zamieszkali u krewnych lub znajomych. Zamachowcy byli wyposażeni w cztery pistolety, sześć bomb domowej roboty i kapsułki z cyjankiem. Koordynacją działań na miejscu zajmował się miejscowy dziennikarz Danilo Ilić, on też zwerbował na miejscu Cvjetka Popovicia i Muhameda Mehmedbašicia. Zamachowcy zajęli pozycje na liczącej 4 km trasie z dworca kolejowego do ratusza, gdzie na arcyksięcia czekały władze miasta. Obstawili odcinek 300 metrów od Mostu Ćumurija, gdzie czekali Popović i Ilić, do Mostu Cesarskiego. Przy kawiarni Mostar oczekiwali Mehmedbašić i Čubrilović, Čabrinović na wysokości Drewnianego Mostu, Princip przy Moście Łacińskim, a Grabež przy Moście Cesarskim. Przebieg wydarzenia 28 czerwca 1914 roku arcyksiążę Franciszek Ferdynand Habsburg wraz z towarzyszącą mu małżonką Zofią von Chotek obchodzili rocznicę swojego ślubu. Z tej okazji wzięli udział we mszy odprawionej w hotelu „Bosna” w kurorcie Ilidža (godz. 9:00), 10 km na zachód od Sarajewa, do którego wyruszyli pociągiem około godz. 9:42. Do samego Sarajewa para przybyła o godz. 10:07. Na dworcu miejskim czekała kolumna sześciu aut, w tym oliwkowoszara sportowa limuzyna marki Gräf &amp; Stift ze składanym dachem dla wizytującej pary. W limuzynie wraz z Franciszkiem Ferdynandem i jego żoną jechali także: szofer Leopold Lojka, szef straży przybocznej – hrabia Franz von Harrach oraz wojskowy gubernator Bośni i Hercegowiny – Oskar Potiorek. Trasa przejazdu była publicznie podana do wiadomości kilka dni wcześniej. W trakcie przejazdu pierwszemu z zamachowców, Mehmedbašiciowi, nie udało się rozeznać, w którym aucie siedzi arcyksiążę. Kolejny ze spiskowców, Vaso Čubrilović, nie odważył się strzelać, widząc w pojeździe Franciszka i jego żonę, a Popović stał zbyt daleko i ze względu na słaby wzrok nie wiedział, w kogo celować. Pierwsza próba zamachu miała miejsce około godz. 10:26 przy Moście Ćumurija. Čabrinović rzucił w kierunku auta ręczny granat, ale dzięki refleksowi kierowcy limuzyny z arcyksięciem granat odbił się od płóciennego dachu samochodu i eksplodując, zniszczył następny samochód jadący w kolumnie raniąc pasażerów, policjanta i osoby z tłumu – łącznie 17 osób. Stojący w pobliżu Princip nie zaatakował, gdyż jego uwagę przyciągnęło aresztowanie Čabrinovicia, a Grabež był nieprzygotowany na to, że samochód arcyksięcia będzie poruszać się tak szybko. Para książęca przybyła do sarajewskiego ratusza o godzinie 10:30. Dziesięć minut później Franciszek Ferdynand z żoną opuścił ratusz z zamiarem odwiedzenia rannych w wyniku eksplozji, a ochrona zdecydowała o zmianie trasy przejazdu. Samochód z arcyksięciem, zwalniając na zakręcie na wysokości Mostu Łacińskiego, mijał kolejnego spiskowca, Grabeža, który nie chciał ryzykować postrzału postronnych osób. W tym miejscu samochód miał skręcić w prawo, a nie jak pierwotnie planowano pojechać prosto, ale kierowca nie dowiedział się o zmianie planów. Po przejechaniu skrzyżowania szofer zatrzymał auto na rozkaz szefa ochrony i zaczął zawracać. Drugi ze znajdujących się przypadkowo przy drugim przejeździe arcyksięcia zamachowiec, Princip, oddał dwa strzały w kierunku pary arcyksiążęcej. Pierwszy strzał trafił Zofię von Chotek w podbrzusze, druga kula przeszyła tchawicę i tętnicę szyjną jej męża. Oboje nie przeżyli (atak Principa około godz. 10:50). Napastnika zauważył detektyw Smail Spahović, który usiłował go obezwładnić, jednak Princip uderzył go pistoletem w głowę. Princip usiłował się zastrzelić, ale broń wytrącił mu detektyw Anto Velić. Następnie bezskutecznie próbował otruć się przygotowaną dawką cyjanku. Tłum chciał go zlinczować, lecz nie dopuściła do tego policja. Kolumna samochodów ze śmiertelnie postrzeloną parą o godz. 10:55 dotarła do rezydencji (konaku), gdzie urzędował Oskar Potiorek, współpasażer tragicznej jazdy pary arcyksiążęcej. Akt zgonu określił śmierć arcyksięcia Ferdynanda i jego żony na\\n',\n",
       "  'output': '28 czerwca 1914 roku w Sarajewie doszło do zamachu na arcyksięcia Franciszka Ferdynanda i jego żonę Zofię. Zamach został przeprowadzony przez bośniackiego Serba Gavrila Principa, członka serbskiej organizacji \"Młoda Bośnia\". Princip był powiązany z tajną organizacją \"Czarna Ręka\", która kierowała serbskim wywiadem wojskowym. Zamach wywołał napięcie między Austro-Węgrami a Serbią, co doprowadziło do wybuchu I wojny światowej. Przygotowania do zamachu rozpoczęto w marcu 1914 roku, a zamachowcy byli wyposażeni w broń i bomby domowej roboty. Zamach odbył się podczas przejazdu arcyksięcia i jego żony przez miasto. Pierwsza próba zamachu nie powiodła się, ale druga, przeprowadzona przez Principa, zakończyła się śmiercią arcyksięcia i jego żony. Zamachowiec został aresztowany i nie udało mu się popełnić samobójstwa. Zamach spowodował zmianę polityczną i wybuch wojny.',\n",
       "  'generator': 'Bielik-7B-Instruct-v0.1',\n",
       "  'dataset': 'summarization-chat-annotated',\n",
       "  'datasplit': 'train'},\n",
       " {'instruction': 'Twoim zadaniem jest przeczytanie podanego tekstu i napisanie streszczenia w języku polskim. Streszczenie powinno zawierać najważniejsze informacje i wydarzenia opisane w tekście, być zwięzłe i dobrze zorganizowane. Unikaj wprowadzania nowych informacji oraz osobistych opinii.\\n\\n###\\n\\nLiteratura faktu\\n\\nLiteratura faktu (ang. non-fiction) – formy literackie, które przedstawiają autentyczne postacie i wydarzenia, jak np. reportaż (relacja, raport), dziennik, pamiętnik (wspomnienia), biografia, wywiad, według niektórych klasyfikacji również felieton i publicystyczny esej.\\n\\nCelem powstania i publikowania tego rodzaju utworów jest przedstawienie wiarygodnej relacji, opartej na wydarzeniach, faktach i zebranych materiałach. Literatura faktu nie jest synonimem literatury fachowej, ale nie należy też do beletrystyki. Ma przede wszystkim charakter dokumentarny, zwykle jest jednak częściowo beletryzowana. Z powieści czerpie techniki narracji i beletryzacji zdarzeń, z tekstami fachowymi zaś łączy ją rzeczowość i informatywność. Niektóre utwory literatury faktu, ze względu na walory literackie i moralne, zaliczają się do literatury pięknej.\\n\\nTermin ten pojawił się na początku XX wieku jako hasło programowe, żądające od literatury odrzucenia fikcji i zwrócenia się ku dokumentowaniu rzeczywistości. Nazwa „literatura faktu” pojawiła się w polskiej terminologii na przełomie lat 20. i 30.\\n\\n',\n",
       "  'output': 'Literatura faktu to forma literacka, która przedstawia autentyczne postacie i wydarzenia. Należą do niej takie gatunki jak reportaż, dziennik, pamiętnik, biografia, wywiad, felieton i publicystyczny esej. Celem literatury faktu jest przedstawienie wiarygodnej relacji opartej na faktach. Nie jest to jednak literatura fachowa ani beletrystyka, choć często ma charakter dokumentarny. Literatura faktu łączy techniki narracji z powieści i rzeczowość z tekstami fachowymi. Niektóre utwory literatury faktu są również uznawane za literaturę piękną. Termin \"literatura faktu\" pojawił się na początku XX wieku i został wprowadzony do polskiej terminologii w latach 20. i 30.',\n",
       "  'generator': 'Bielik-7B-Instruct-v0.1',\n",
       "  'dataset': 'summarization-chat-annotated',\n",
       "  'datasplit': 'train'},\n",
       " {'instruction': 'Twoim zadaniem jest przeczytanie podanego tekstu i napisanie streszczenia w języku polskim. Streszczenie powinno zawierać najważniejsze informacje i wydarzenia opisane w tekście, być zwięzłe i dobrze zorganizowane. Unikaj wprowadzania nowych informacji oraz osobistych opinii.\\n\\n###\\n\\nUkraina mówi: #5 Wyrabianie cyfrowej odporności Cykl debat Fundacji im. Stefana Batorego i tygodnika „Polityka” Rosyjska agresja i wojna z Ukrainą zdominowały uwagę mediów publicznych. Patrzymy w napięciu na doniesienia z pola walki. Z trwogą przyglądamy się bombardowaniu miast i cierpieniu ludności cywilnej. Informacje i widok osób uciekających przed wojną wywołują współczucie i gesty bezprecedensowej solidarności. W natłoku doniesień i wiadomości ginie często głos samej Ukrainy, jej mieszkanek i mieszkańców. Skąd się bierze taka skuteczność ukraińskiego sprzeciwu i odporność społeczeństwa? Jakie cele wyznaczają sobie Ukraińcy, stawiając zbrojny opór rosyjskiej agresji? Jakie są granice pokojowego kompromisu? Jakie są aspiracje ukraińskiego społeczeństwa wobec Unii Europejskiej, NATO i innych sojuszy? Jak ma wyglądać powojenna odbudowa kraju? Jak będą układać się relacje Ukrainy z państwami sąsiednimi? To tylko kilka pytań, które zadamy ukraińskim ekspertom, publicystom, artystom, politykom. Nie mamy wątpliwości, że w Ukrainie tworzy się dziś przyszłość, a jej kształt w wielkim stopniu zależeć będzie od mieszkańców i mieszkanek Ukrainy. Posłuchajmy ich. Tematem piątej dyskusji w cyklu była ukraińska odporność cyfrowa. Odbyła się̨ 15 czerwca 2022 roku z udziałem Mstysława Banika, Ołeny Huńko, Nadiji Babynskiej, Wiktora Nestuli oraz prowadzącego rozmowę Krzysztofa Izdebskiego. Krzysztof Izdebski Ukraina jest stawiana za wzór kraju, który systemowo podszedł do transformacji cyfrowej. Model decentralizacyjny nie był wprowadzany wyłącznie w kontekście reformy samorządu, ale wykorzystywano go również w budowie i wdrażaniu rozwiązań technologicznych. Ostatnio wielokrotnie mówił o tym Wasyl Zadwornyj, który odpowiada m.in. za stworzenie systemu zamówień publicznych ProZorro. Ten model decentralizacyjny ma duże znaczenie również dla obecnej sytuacji cyfryzacyjnej czy technologicznej w kontekście odporności Ukrainy wobec agresji Rosji. Takie podejście przesądziło o sukcesie aplikacji Diia nie tylko w czasie pokoju, ale również wojny, która wymusiła szybki rozwój usług cyfrowych i stała się trwałym elementem zarządzania państwem. To nie jest nowy fenomen. W Ukrainie od wielu lat są wdrażane polityki otwierania danych publicznych, zarówno na poziomie rządowym – np. wspomniany system zamówień publicznych ProZorro – jak i samorządowym. Lwów jest jednym z tych miast, gdzie otworzono wiele zasobów danych, co pozwoliło na stworzenie lepszych polityk miejskich. Technologie umożliwiły również zwiększenie skuteczności walki z korupcją oraz zaangażowanie obywateli i organizacji społecznych. Na tej bazie wyrosło powszechnie podziwiane zaangażowanie Ukraińców i Ukrainek we wsparcie wysiłku wojennego również w internecie (np. słynna Armia IT). Wojna ma jednak także negatywny wpływ na otwartość danych publicznych. Część z baz danych zamknięto, co spotkało się ze sprzeciwem wielu aktywistów i aktywistek. Zastanowimy się, czy to tylko przejściowy trend, czy ryzyko cofnięcia się do czasów przed transformacją cyfrową. Czy sami Ukraińcy są zadowoleni z tej transformacji? Wiemy, jak wyglądała współpraca różnych sektorów w jej wprowadzaniu, i doceniamy fakt, że wdrażano zmiany przy udziale wielu aktorów. Czy ten model sprawdza się w czasie wojny? Wielu ekspertów mówi, że Ukraina nabyła cyfrową odporność. Co to znaczy? Czy można się podpisać pod takim stwierdzeniem i uznać, że to cyfrowo odporny kraj? Mstysław Banik Po pierwsze, cyfrowa transformacja serwisów, którą wprowadzamy w Ukrainie poprzez aplikację Diia, jest ukierunkowana na indywidualne potrzeby. Te rozwiązania cyfrowe na początku agresji rosyjskiej pomogły wielu ludziom, np. podczas przekraczania granic chociażby z Polską. Wiele osób pozostawiało fizyczne dokumenty w domu czy je gubiło; wtedy pomagały im rozwiązania cyfrowe. Po drugie, chciałbym wspomnieć o kwestii, która dotyczy transformacji cyfrowej na rządowym poziomie. Diia to aplikacja z dokumentami i usługami, rozwijająca się podobnie, jak polska aplikacja mObywatel. Nasza aplikacja Diia wyświetla dokumenty, które istnieją w rejestrach, ale nie przechowujemy tych danych u siebie. W aplikacji jest część publiczna i niepubliczna. Publiczna, czyli to, z czego ludzie korzystają, jeśli chodzi o kopie dokumentów czy wnioski, jakie składają na różne usługi. Ale część tej góry lodowej znajduje się pod wodą: do tej części należą usprawnianie działania rejestrów państwowych, zwiększanie ich zabezpieczeń, ochrona danych itd. Jeśli chodzi o odporność, to ataki w cyberprzestrzeni zaczęły się o wiele wcześniej, zanim nastąpiła rosyjska inwazja; wyjątkowo duże ataki odnotowaliśmy i w styczniu, i w lutym. W połowie lutego, mniej więcej półtora tygodnia przed agresją, podjęto próby zniszczenia całego ukraińskiego systemu bankowego, uzyskania dostępu do rejestrów państwowych itd. Na szczęście mogę zapewnić, że wszystkie ukraińskie systemy wytrzymały, architektura bezpieczeństwa była w odpowiedni sposób ustawiona. Te niekończące się ataki dodatkowo motywowały obecne Ministerstwo Transformacji Cyfrowej i inne instytucje do tego, aby zwiększać poziom dostępnych zabezpieczeń. Udało się\\n',\n",
       "  'output': 'W piątej debacie cyklu organizowanego przez Fundację im. Stefana Batorego i tygodnik \"Polityka\" poruszono temat ukraińskiej odporności cyfrowej. Ukraina jest uważana za przykład kraju, który skutecznie przeprowadził transformację cyfrową. Model decentralizacji, stosowany nie tylko w reformie samorządu, ale także w budowie rozwiązań technologicznych, odegrał ważną rolę w odporności Ukrainy na agresję Rosji. Ukraina od wielu lat otwiera dane publiczne, co pozwala na tworzenie lepszych polityk miejskich i zwiększenie skuteczności walki z korupcją. Jednak wojna ma także negatywny wpływ na otwartość danych publicznych. Podczas debaty zastanawiano się, czy Ukraina jest cyfrowo odpornym krajem i czy transformacja cyfrowa sprawdza się w czasie wojny. Mówiono również o atakach w cyberprzestrzeni, które miały miejsce przed rosyjską inwazją i motywowały władze do zwiększania zabezpieczeń.',\n",
       "  'generator': 'Bielik-7B-Instruct-v0.1',\n",
       "  'dataset': 'summarization-chat-annotated',\n",
       "  'datasplit': 'train'},\n",
       " {'instruction': 'Twoim zadaniem jest przeczytanie podanego tekstu i napisanie streszczenia w języku polskim. Streszczenie powinno zawierać najważniejsze informacje i wydarzenia opisane w tekście, być zwięzłe i dobrze zorganizowane. Unikaj wprowadzania nowych informacji oraz osobistych opinii.\\n\\n###\\n\\njeżeli nie ma bazy dokumentów, to w jaki sposób dana osoba może np. wyjechać za granicę? Udało nam się wytrzymać i przeciwstawić atakom, jakie przed 24 lutego wymierzono w Ukrainę. Od rana 24 lutego prawie wszystkie rejestry państwowe zostały odłączone ze względu na dodatkowe zabezpieczenia. W ciągu marca stopniowo wracano do trybu online i ponownie otwierano dostęp. Ołena Huńko Jeśli chodzi o otwarte dane, to portale są niedostępne. Nie możemy publikować informacji w formacie danych źródłowych, bo tam są informacje wrażliwe o krytycznych obiektach infrastruktury. Nie chcemy, aby z tej informacji skorzystano w złym celu. Skoro mowa o odporności, warto wspomnieć o serwisach, które utworzono na podstawie otwartych danych. W pierwszych dniach wojny ograniczyliśmy dostęp do portalu otwartych danych Lwowa, ale działanie kontynuują serwisy na podstawie tych samych otwartych danych, np. bot „City Helper bot”, gdzie utworzyliśmy dział z informacją o schronach przeciwbombowych znajdujących się najbliżej mieszkańca. Te informacje można łatwo uzyskać w wygodnym komunikatorze, gdy ktoś chce się dowiedzieć, gdzie znaleźć bezpieczne miejsce w chwili alarmu przeciwlotniczego. Te serwisy, które wcześniej zostały zbudowane na podstawie otwartych danych, także są elementem uprzednio zapewnionej odporności. Wiktor Nestula Chciałbym, abyśmy porozmawiali na temat otwartych i zamkniętych danych: które serwisy obecnie funkcjonują i w jaki sposób? Jeśli chodzi o odporność, to moim zdaniem zmieniło się nasze nastawienie do serwisów IT. Pamiętam rok 2014, kiedy na Amazonie zaczęliśmy tworzyć system ProZorro. Dmytro Szymkiw agitował wtedy za ustawą dotyczącą wykorzystywania zewnętrznych serwisów w chmurze. Ostatecznie nic nie uchwalono i ProZorro zostało zobowiązane do migracji danych do ukraińskiego centrum danych. Ale potem w Ukrainie wybuchła wojna i ze względu na ryzyko związane z tym, że spadają rakiety i mogą zniszczyć ukraińskie centra danych, wiele serwisów zaczęło migrować z powrotem na Amazon. Obecnie wszyscy są zobowiązani do posiadania backupu na zewnątrz. PrywatBank, największy bank państwowy Ukrainy, zorganizował przeniesienie całej swojej infrastruktury za granicę, aby zminimalizować te ryzyka. Weszliśmy w nowy etap, kiedy nie tylko Ukraina, ale zapewne też inne kraje – zakładam, że wiele z nich obserwuje Ukrainę – zastanawiają się, jak zapewnić odporność w sytuacji zagrożeń międzynarodowych. Nie tylko z punktu widzenia zagrożeń cybernetycznych – ale w naszym przypadku na centrum przechowywania informacji może spaść rakieta... Mamy duży postęp i jestem dumny z tego, na jakim poziomie jest obecnie Ukraina: funkcjonują nasza aplikacja Diia i systemy elektroniczne dotyczące np. ochrony zdrowia czy zamówień publicznych. Jeszcze wiele musimy się nauczyć. Trzeba wejść głębiej w temat odporności rozumianej jako stabilność systemu i zrównoważenia (stability and sustainability). Z punktu widzenia sustainability mam obawy, kiedy rozmawiamy o otwartych danych. Chciałbym znaleźć jakieś środki zapobiegawcze, aby rzeczywiście te dane zostawały otwarte i abyśmy po wojnie pozostali liderami w tym obszarze. Ale to będzie już później. Mstysław Banik Dodam kilka słów ze swojej strony. Obiecuję, że dane będą znowu otwarte, to też część mojego departamentu. Ten krok był niestety wymuszony. Dla lepszego zrozumienia dodam, że są różne typy otwartych danych. Niektóre nie zawierają danych osobowych. Ale mówiąc ogólnie, gdy przestępcy uzyskają dostęp do starszych baz, to podczas wojny mogą metodą parsingu uzupełniać dane, które wcześniej były zdepersonalizowane. Może się okazać, że dane staną się przydatne dla wroga, np. do wykrywania wolontariuszy czy ujawnienia, kto wcześniej walczył w ramach operacji antyterrorystycznej. Dlatego ze względu na dodatkowe bezpieczeństwo to zostało zablokowane. Ale na pewno będziemy przywracać ten dostęp. W zeszłym roku byliśmy w rankingu otwartości danych na szóstym miejscu na świecie i mieliśmy plan, aby wejść do pierwszej trójki krajów przewodzących w transparentności danych. Niestety z powodu rosyjskiego ataku na Ukrainę stało się inaczej. Nadija Babynska Nie jestem urzędniczką państwową ani nie należę do organizacji obywatelskiej, reprezentuję wspólnotę horyzontalną: to ludzie, którzy interesują się otwartymi danymi, pracują z nimi i korzystają z nich w swoim biznesie czy aktywności społecznej, jak choćby działania Civic Tech czy projekty dziennikarskie. Zebraliśmy się, aby promować otwartość danych na różnych poziomach, zarówno na poziomie lokalnym, jak i krajowym. Jak sytuacja wygląda obecnie? 24 lutego w związku z początkiem wojny na pełną skalę – wojna tak naprawdę trwa już od ośmiu lat! – zostały zamknięte wszystkie znane rejestry i dane. W całości został zamknięty portal otwartych danych, wprowadzono ograniczenia na publikacje ProZorro. Pytanie nie dotyczy dostępu do danych, tylko tego, co jest publikowane. Jak powiedział jeden z uczestników naszej inicjatywy,\\n',\n",
       "  'output': 'tekst opisuje sytuację na Ukrainie w kontekście dostępu do danych i ich otwartości. W związku z rozpoczęciem wojny, wiele rejestrów państwowych zostało zamkniętych, a dostęp do portali otwartych danych został ograniczony. Decyzja ta wynikała z obaw o bezpieczeństwo informacji wrażliwych, które mogłyby zostać wykorzystane w złym celu. Jednakże, mimo tych ograniczeń, wiele serwisów nadal funkcjonuje na podstawie otwartych danych, takich jak aplikacja \"City Helper bot\", która udostępnia informacje o schronach przeciwbombowych. W kontekście odporności systemu, wiele instytucji i serwisów przeniosło swoje dane i infrastrukturę za granicę, aby zminimalizować ryzyko zniszczenia w wyniku działań wojennych. Autorzy tekstu wyrażają również obawy dotyczące zrównoważonego rozwoju otwartych danych po zakończeniu konfliktu. Mimo tych trudności, społeczność horyzontalna działająca w obszarze otwartych danych nadal stara się promować ich otwartość na różnych poziomach.',\n",
       "  'generator': 'Bielik-7B-Instruct-v0.1',\n",
       "  'dataset': 'summarization-chat-annotated',\n",
       "  'datasplit': 'train'},\n",
       " {'instruction': 'Twoim zadaniem jest przeczytanie podanego tekstu i napisanie streszczenia w języku polskim. Streszczenie powinno zawierać najważniejsze informacje i wydarzenia opisane w tekście, być zwięzłe i dobrze zorganizowane. Unikaj wprowadzania nowych informacji oraz osobistych opinii.\\n\\n###\\n\\nwszystko to kontrolować i analizować. Podam przykład – koledzy poprosili mnie o przeanalizowanie, w jaki sposób złagodzić szkodę spowodowaną przez wojnę dla przemysłu wydobywczego. Nie można tego teraz zrobić nawet przy największych chęciach. Niestety, na stronach przemysłu wydobywczego i na portalu urzędowym zawierającym dane o przemyśle wydobywczym brak informacji, które mogłyby także rządowi pomóc przeanalizować, jak wyjść z kryzysu. Podobnie jest w wielu innych sektorach. Jak powiedzieli moi przedmówcy, w Ukrainie otwarte dane były na dość wysokim poziomie, w porównaniu z innymi krajami byliśmy trendsetterami i fasttrackerami, mimo zarzutów dotyczących tego, jak i co publikowano. Zamknięcie danych jest często uzasadniane tym, że wróg się czegoś dowie i coś zrobi. Jednak bądźmy realistami – wróg ma dostęp do wszystkich danych, jakich potrzebuje. Dane ze wspólnego rejestru osób fizycznych i prawnych, gdzie znajdują się informacje o adresach czy telefonach, są otwarte na zasadach płatnego dostępu. Firmy – także te o rosyjskim pochodzeniu – mają dostęp do płatnego serwisu udostępnianego przez Ministerstwo Sprawiedliwości. Można zapytać, na ile uzasadnione jest zamknięcie wszystkich danych. Czy nie naruszamy zasady przejrzystości działania władzy, gdy decydujemy o tym, co zamykamy, a czego nie zamykamy – bez wyjaśnień? 24 lutego decyzja była szybka, ale wojna trwa już ponad pięć miesięcy, więc jeśli chodzi o odporność cyfrową, musimy zwrócić uwagę na to, jak wchodzimy w kryzys i jak na niego reagujemy, jaki mamy algorytm działań i jakie działania podejmujemy, jakie instrukcje przekazujemy tym, którzy są interesariuszami otwartych danych. Chodzi także o instytucje rządowe. Lokalne organy władzy zwracały się do mnie o radę. Pytałam wtedy, czy wiedzieli, co robić z otwartymi danymi, czy ktoś im powiedział, które serwisy zamykać, a które nie. Musi istnieć kompleksowa polityka państwowa. Po paru miesiącach wojny możemy zaczynać budować odporność cyfrową w zakresie dostępu do danych – nie mówię tylko o danych prywatnych i bezpieczeństwie cyfrowym, ale też o otwartych danych. To są informacje publiczne, więc tam z zasady nie powinno być nic takiego, co szkodzi interesom narodowym czy jedności terytorialnej. Takie są zasady otwartości: otwarte jest to, co nie szkodzi i w zakresie czego interes publiczny staje się ważniejszy od potencjalnej szkody. W Polsce jest tak samo, a Polska też nie leży daleko od Rosji. Nie wiadomo, w jakim kierunku to wszystko pójdzie. Trzeba się zastanowić, jak zbudować obszar otwartych danych w warunkach kryzysu i zagrożenia. Nie wypowiadam się o cyfrowej odporności czy – węziej – o cyberbezpieczeństwie w kontekście otwartych danych i innych państwowych rozwiązaniach IT, bo tutaj nie jestem ekspertką. Krzysztof Izdebski Ołena Huńko została wywołana niejako w imieniu samorządów, które podejmują działania nie tylko w zakresie transformacji cyfrowej. W wielu innych aspektach tej wojny są wzorem działań, które możemy nazwać odpornością. Cieszy mnie przede wszystkim deklaracja Mstysława Banika, że po wojnie dane będą otwierane. Oczywiście wszyscy życzymy sobie, aby tak się stało jak najszybciej, aby Ukraina zwyciężyła i nastąpił, na ile to możliwe, powrót do normalności. Tą normalnością była też transformacja cyfrowa. Chciałbym na chwilę zająć się społeczeństwem. W Polsce byliśmy pod ogromnym wrażeniem zaangażowania ze strony rządu i samorządów, ale widzieliśmy też zaangażowanie społeczeństwa w rodzaj walki w mediach społecznościowych, z wykorzystaniem technologii. Odniosłem wrażenie, że społeczeństwo ukraińskie otworzyło swoje komputery i Ukraińcy zostali swoistymi wojownikami klawiatury. Pojawiło się wcześniej przypomniane przeze mnie pojęcie „Armii IT”, która ma charakter rozproszony, a jednak sprawia wrażenie skoordynowanej. Jak można ocenić zaangażowanie społeczeństwa ukraińskiego w cyfrową walkę z okupantem? Na ile wynika to z działań, jakie podejmowano od lat? Mówimy, że wojna wybuchła w lutym 2022 roku, ale doskonale wiemy, że tak naprawdę zaczęła się dużo wcześniej, w roku 2014. Działania cyfryzacyjne i angażujące społeczeństwo były jeszcze wcześniejsze. To jest efekt konsekwentnych działań. Z czego wynika to zaangażowanie społeczeństwa? Jak inne kraje mogą działać w przypadku kryzysów, chociażby COVID-19? Jak przygotować społeczeństwo do takiego zaangażowania? Wiktor Nestula Jestem ciekaw opinii Ministerstwa Transformacji Cyfrowej, bo ono w bardzo dobry sposób koordynowało społeczność IT; działania były m.in. koordynowane poprzez kanały Telegram i inne środki łączności. Od pierwszych dni wojny nasza społeczność DoZorro, która zajmowała się monitorowaniem zamówień publicznych – dość duża grupa w całej Ukrainie: dziennikarze, działacze społeczni – postawiła sobie za cel utrudnianie funkcjonowania systemu zamówień publicznych w Rosji. Od pierwszych dni robiliśmy wszystko, aby ich serwisy zamówień publicznych po prostu leżały i właściwie żadna\\n',\n",
       "  'output': 'W tekście poruszane są kwestie związane z kontrolą i analizą danych w czasie wojny oraz otwartością danych publicznych. Autor zwraca uwagę na brak informacji dotyczących przemysłu wydobywczego, które mogłyby pomóc w analizie i złagodzeniu szkód spowodowanych przez wojnę. Podkreśla również, że zamknięcie danych jest często nieuzasadnione, ponieważ wrogowie mają dostęp do potrzebnych informacji. Autor sugeruje, że istnieje potrzeba budowania odporności cyfrowej w zakresie dostępu do danych, w tym otwartych danych publicznych. W kontekście zaangażowania społeczeństwa ukraińskiego w cyfrową walkę, autor podkreśla rolę społeczeństwa i działań podejmowanych od lat, które doprowadziły do zaangażowania społeczeństwa w walkę z okupantem. Zastanawia się również, jak inne kraje mogą przygotować swoje społeczeństwa do takiego zaangażowania w przypadku kryzysów.',\n",
       "  'generator': 'Bielik-7B-Instruct-v0.1',\n",
       "  'dataset': 'summarization-chat-annotated',\n",
       "  'datasplit': 'train'},\n",
       " {'instruction': 'Twoim zadaniem jest przeczytanie podanego tekstu i napisanie streszczenia w języku polskim. Streszczenie powinno zawierać najważniejsze informacje i wydarzenia opisane w tekście, być zwięzłe i dobrze zorganizowane. Unikaj wprowadzania nowych informacji oraz osobistych opinii.\\n\\n###\\n\\npomagają walczyć z korupcją, z praniem brudnych pieniędzy, z przestępczością. Teraz aktywnie zajmujemy się agitowaniem za otwarciem informacji o osobach związanych z Kremlem, które prowadzą działalność biznesową w Europie. Namawiamy do tego m.in. w krążącej w krajach Unii Europejskiej petycji w tej sprawie. Kiedy pojawiła się potrzeba ustalenia, jakie firmy rosyjskie otrzymują kontrakty za pośrednictwem przetargów organizowanych przez instytucje Unii Europejskiej, wspólnie z kolegami z YouControl, m.in. z Serhijem Milmanem, zaczęliśmy szukać zbiorów danych (data sets) w różnych krajach. Jeśli chodzi o zamówienia publiczne, to właściwie nie było problemów. Ale kiedy pojawiła się kwestia beneficjentów rzeczywistych, to okazało się, że jest tutaj duża luka. Aktywiści społeczni bardzo szybko zmobilizowali się i ustalili wszystkie możliwe zbiory danych dotyczących zamówień ze wszystkich możliwych krajów. Konieczna jest koordynacja – i tutaj prośba o pomoc europejskich przyjaciół, także z Polski. Mobilizujmy społeczeństwo po to, aby podwyższać standardy udostępniania danych i zapewniać dostęp do niezbędnej informacji, która pozwoli nam wszystkim walczyć z antydemokracją. Nie mówimy tutaj tylko o Federacji Rosyjskiej. To wszystko, co dotyczy korupcji i prania pieniędzy – z jednej strony mogliśmy organizować szybkie działania po to, aby bronić Ukrainę, z drugiej zaś teraz aktualna jest kwestia obrony świata demokratycznego. Aby to zrobić, musimy zminimalizować wpływ korupcyjnego kapitału. Ukraińskie społeczeństwo szybko się zmobilizowało – to bardzo ważne, aby europejskie społeczeństwo też się zmobilizowało w celu podwyższenia standardów udostępniania danych, zminimalizowania możliwości korupcji, prania brudnych pieniędzy, nadużyć. Mam nadzieję, że ta ukraińska lekcja stanie się też natchnieniem dla wszystkich Europejczyków. Mstysław Banik Możemy mówić bardzo dużo na temat Armii IT. To, co najważniejsze – dla Ukraińców ta wojna jest wojną o ojczyznę. Armia IT czy inne formy cyberaktywności to są przejawy sprzeciwu narodowego, które odpowiadają naszym czasom. W dowolnej wojnie za ojczyznę, kiedy okupant przychodził do innego kraju, próbując przejąć teren – zawsze byli ludzie, którzy zostawali partyzantami, zawsze był sprzeciw narodowy na tym lub innym poziomie. I tak dzieje się też teraz: ponieważ świat w wielu dziedzinach jest cyfrowy, ludziom przy pomocy narzędzi cyfrowych znacznie łatwiej połączyć swoje wysiłki. Mamy osobny, nowy front, dotąd nieznany z punktu widzenia wojny. Jeszcze przed pojawieniem się Armii IT były różne inicjatywy, poza strukturami zbrojnymi i poza służbą bezpieczeństwa Ukrainy czy policją. Pojawiały się różne nieskoordynowane próby, aby atakować te lub inne zasoby wroga. Później wszystko się połączyło we wspólny ruch wolontariuszy Armii IT i odtąd mamy globalne próby wpłynięcia na aparat państwowy w kwestii np. zamówień publicznych w Rosji, ruchu samolotów i pociągów, upadku serwisów pocztowych itd. Na kanale Armii IT publikujemy cele i efekty. Innym poziomem zainteresowania są serwisy społecznościowe, z których korzystają rosyjscy obywatele: uniemożliwienie ich funkcjonowania lub dyskomfort wywołany tym, że nie działają, ma skłaniać Rosjan do myślenia. Oni mają czuć, że to ich kraj zaatakował Ukrainę. Wszyscy dobrze wiedzą, jaki jest procent poparcia społeczeństwa rosyjskiego dla wojny, dlatego nie można oddzielać działań państwa rosyjskiego od społeczeństwa. Zwykli obywatele też są uczestnikami tej inwazji i mają to poczuć na sobie. Armia IT okazała się e-fenomenem jako bardzo dobrze działający ruch około 300 tysięcy wolontariuszy. To nadzwyczajna liczba: do grupy tej należą nie tylko obywatele Ukrainy, są tam ludzie ze wszystkich zakątków świata, którzy mogą przyłączyć się do działań na tym froncie. Tak jak 55 krajów ma swoją reprezentację w zagranicznym legionie Sił Zbrojnych Ukrainy, tak samo w przypadku ukraińskiej Armii IT działania też są skoordynowane. Fenomen polega częściowo na tym, że tak naprawdę nie znamy tych ludzi, nie mamy ich nazwisk czy adresów, ale udaje się koordynować ich działania. To wszystko jest zbudowane na ich inicjatywie. Oczywiście ci ludzie mają różne poziomy przygotowania, tylko niektórzy są profesjonalistami w sferze cyberbezpieczeństwa. Znam wiele przykładów, kiedy dana osoba, która jest designerem i wie, że ma komputer z dużą mocą, może użyć go w takim celu. Są instrukcje i ta osoba wykorzystuje swój komputer do ataków DDoS itd. Oprócz Armii IT i oprócz tego doświadczenia, z którego po wojnie całej społeczności światowej przyjdzie wyciągać wnioski, funkcjonuje nasz chatbot e-Wróg. Poprzez komunikator Telegramu można w chatbotach informować o przemieszczaniu się wojska okupantów rosyjskich, co pomaga naszym siłom zbrojnym wykrywać i niszczyć wroga. Mechanizm ten uruchomiliśmy w drugiej połowie marca, mniej niż miesiąc od rozpoczęcia agresji rosyjskiej. Mamy 250–270 tysięcy zgłoszeń w tym chatbocie. Na czym polega jego wyjątkowość?\\n',\n",
       "  'output': 'Podany tekst dotyczy działań podejmowanych w celu walki z korupcją, praniem brudnych pieniędzy i przestępczością. Aktywiści społeczni mobilizują się, aby otworzyć informacje o osobach związanych z Kremlem prowadzących działalność biznesową w Europie. Wspólnie z partnerami z YouControl rozpoczęli poszukiwania danych dotyczących kontraktów firm rosyjskich otrzymywanych za pośrednictwem przetargów UE. W przypadku zamówień publicznych nie było większych problemów, ale identyfikacja rzeczywistych beneficjentów okazała się trudniejsza. Społeczeństwo ukraińskie szybko się zmobilizowało i ustaliło dostępne zbiory danych dotyczące zamówień. Prosi się o pomoc europejskich przyjaciół w podniesieniu standardów udostępniania danych i zwalczaniu korupcji. W drugiej części tekstu mówi się o Armii IT, która jest formą cyberaktywności i sprzeciwu narodowego. Armia IT składa się z około 300 tysięcy wolontariuszy, którzy podejmują różne działania mające na celu wpływ na aparat państwowy Rosji. Wykorzystują narzędzia cyfrowe, takie jak ataki DDoS czy zakłócanie działania serwisów społecznościowych, aby skłonić Rosjan do myślenia o inwazji Ukrainy. Armia IT jest globalnym ruchem, w którym udział biorą ludzie z różnych krajów. W tekście wspomina się również o chatbocie e-Wróg, który służy do informowania o przemieszczaniu się wojska rosyjskiego i pomaga w wykrywaniu i niszczeniu wroga. Chatbot zgromadził już ponad 250 tysięcy zgłoszeń.',\n",
       "  'generator': 'Bielik-7B-Instruct-v0.1',\n",
       "  'dataset': 'summarization-chat-annotated',\n",
       "  'datasplit': 'train'},\n",
       " {'instruction': 'Twoim zadaniem jest przeczytanie podanego tekstu i napisanie streszczenia w języku polskim. Streszczenie powinno zawierać najważniejsze informacje i wydarzenia opisane w tekście, być zwięzłe i dobrze zorganizowane. Unikaj wprowadzania nowych informacji oraz osobistych opinii.\\n\\n###\\n\\nz treścią raportu, tylko o potwierdzenie, że dana osoba ma aplikację Diia. Tak pozbywamy się spamu, bo poprzez chatbota w Telegramie Rosjanie próbują wprowadzać rozmieszczenie ukraińskich żołnierzy i ukraińską geolokację. Weryfikacja osoby pomaga nam sprawdzić informacje, które nasi pracownicy przeglądają i przekazują siłom zbrojnym. Te 250–270 tysięcy raportów to też jest sprzeciw narodowy. Czym to się różni od zatrutych pasztecików lub innych metod, poprzez które próbuje działać starsze pokolenie? Tak naprawdę w żaden sposób się nie różni, to są po prostu dodatkowe narzędzia, które naprawdę działają, co mogę potwierdzić po wielu rozmowach, także z kolegami z zagranicy. „Stara” część Europy jest pod ogromnym wrażeniem udziału zwykłych ludzi i funkcjonowania chatbota e-Wróg. Biorą w tym udział setki tysięcy osób i można to nazwać jeszcze jedną siłą wojskową, która pojawiła się we współczesnej wojnie. To wszystko świadczy o tym, że dla nas to jest wojna o nasz kraj i o naszą niepodległość. Ołena Huńko Nasza społeczność IT zmobilizowała się nie tylko w postaci Armii IT, ale również tworzyła inne aplikacje, chatboty czy serwisy, które powstały w pierwszym miesiącu wojny. To niesamowite, jak szybko były tworzone i odpowiadały ówczesnym potrzebom. Jedną z najpopularniejszych jest aplikacja mobilna Powitriana trywoha (Trywoha – Alarm), która w statystykach zapewne wyprzedziła w liczbie pobrań aplikację Diia. Trywoha poinformuje każdą osobę, w każdym miejscu i o każdej porze, o alarmie przeciwlotniczym. Powstała w ciągu dwóch dni i cały czas ją udoskonalano. Początkowo wiele osób było niezadowolonych, ale teraz bardzo im to pomaga. Stary system informowania nie odpowiadał wielu osobom, bo nie był skuteczny. Chodzi o informowanie każdego, kto znajdzie się np. na ulicy, ale też pozostaje z dala od dużych skupisk ludzkich. Każde miasto i każda administracja na początku otrzymywały wiele zażaleń, że ludzie nie słyszą alarmu przeciwlotniczego. Urywała się gorąca linia: „Dlaczego nie słychać alarmu bombowego? Jak mamy reagować w takim przypadku?”. Najpierw powstał kanał Telegram z powiadomieniami i później aplikacja, która rzeczywiście zaalarmuje każdą osobę. Tworząc tę aplikację, firmy połączyły swoje wysiłki, podzieliły się technologiami i dlatego Trywoha stała się jeszcze bardziej przydatna. Oprócz e-Wróg są też inne chatboty – również lokalne, serwisy wolontariuszy i najróżniejsze systemy informacyjne, które pomagają zarządzać pomocą humanitarną, inwentaryzować ją, przekazywać między regionami i na poziomie całego kraju. Koordynacja wspólnoty osób zajmujących się tworzeniem rozwiązań cyfrowych, bardzo często nieznanych sobie nawzajem ludzi, przyniosła niesamowite efekty w najróżniejszych dziedzinach. Krzysztof Izdebski Chciałbym zrozumieć, jak ludzie byli przygotowywani do tego, aby tak się zaangażować. To się nie stało nagle, 24 lutego. Od lat obserwuję to, co się dzieje w Ukrainie, np. wiem, jak wyglądał proces wdrażania systemu ProZorro. Już wcześniej była wyrobiona tradycja współpracy pomiędzy różnymi sektorami. Mstysław Banik przyszedł z biznesu, Ołena Huńko była zaangażowana w działalność społeczną, Wiktor Nestula zajmował się i biznesem, i działalnością społeczną, był też urzędnikiem państwowym, a Nadija Babynska współpracuje z urzędnikami. To fenomen, że w Ukrainie potrafiliście wypracować taką formę współpracy z różnymi sektorami. Czy to jest nowa rzecz, którą zainspirowała wojna? Nadija Babynska Po prostu mamy bardzo „dobrego” sąsiada, który zawsze trzyma nas w napięciu i skłania do tego, że musimy być w gotowości, aby w jednej sekundzie się zorganizować. Mamy za sobą kampanię „Ukraina bez Kuczmy” (2000–2001), a potem pomarańczoną rewolucję (2004–2005; byłam wtedy zastępczynią kierownika związku studentów i wtedy też musieliśmy się organizować); mamy za sobą Euromajdan i rewolucję godności (2013–2014). Narzędzia cyfrowe stawały się też narzędziami do koordynacji, organizacji, pozyskiwania funduszy i innych inicjatyw. Teraz mamy chatboty w różnych komunikatorach, np. w Telegramie, na Facebooku itp. To zwykłe serwisy, które w sytuacji kryzysu stają się niezbędnymi kanałami komunikacyjnymi i organizacyjnymi, gdzie można powiadomić o potrzebach, wszystko załatwić i skoordynować. To nie jest dziwne, że przed wojną 2022 roku zapaliła się czerwona lampka i wszyscy sobie przypomnieli – korzystajcie z tego, co jest, i twórzcie nowe. Nastąpiła social disruption – kiedy kryzys prowokuje kreatywność. Jak powiedział Mstysław Banik, po prostu nie mamy innego wyboru. Mamy jeden kraj, Ukrainę, i jesteśmy zmuszeni robić wszystko, co możliwe, bazując na swoich kompetencjach, wiedzy, zasobach, pieniądzach albo też na przekazywaniu informacji o tym, co tu się dzieje, zagranicznej opinii publicznej. Ta olbrzymia fala aktywności społecznej dokonała się dzięki wysiłkowi wolontariuszy. Chciałabym, aby to pozostało po zwycięstwie, w czasie odbudowy. Wiktor Nestula Przyłączam się do pragnienia, abyśmy po zwycięstwie\\n',\n",
       "  'output': 'Podczas wojny na Ukrainie społeczność IT zaangażowała się w tworzenie różnych aplikacji i chatbotów, które pomogły w zarządzaniu sytuacją kryzysową. Jedną z popularnych aplikacji jest Powitriana trywoha, informująca o alarmach przeciwlotniczych. Oprócz tego, istnieją też inne chatboty, serwisy wolontariuszy i systemy informacyjne, które pomagają w zarządzaniu pomocą humanitarną. Wszystko to dowodzi, że dla społeczności IT wojna na Ukrainie to walka o kraj i niepodległość. Współpraca pomiędzy różnymi sektorami jest tradycją na Ukrainie i narzędzia cyfrowe są wykorzystywane do koordynacji i organizacji. W obliczu kryzysu społeczność mobilizuje się i tworzy nowe rozwiązania. Wszystko to jest możliwe dzięki wysiłkowi wolontariuszy i chęci działania dla dobra kraju.',\n",
       "  'generator': 'Bielik-7B-Instruct-v0.1',\n",
       "  'dataset': 'summarization-chat-annotated',\n",
       "  'datasplit': 'train'},\n",
       " {'instruction': 'Twoim zadaniem jest przeczytanie podanego tekstu i napisanie streszczenia w języku polskim. Streszczenie powinno zawierać najważniejsze informacje i wydarzenia opisane w tekście, być zwięzłe i dobrze zorganizowane. Unikaj wprowadzania nowych informacji oraz osobistych opinii.\\n\\n###\\n\\numieli wspólnie pracować. Istnieje wiele możliwości współpracy, mnóstwo wspaniałych inicjatyw i organizacji, które są gotowe jako wolontariusze pomagać, działać, inwestować swoje zasoby, aby pokonać wroga i aby Ukraina zwyciężyła. Później będziemy musieli budować swoją świetlaną przyszłość. To nie jest wyjątkowa cecha Ukraińców: widzimy, że światowe tendencje są podobne. Technologie pomagają zmobilizować ludzi i ułatwiają życie, np. serwis inwestycyjny Robin Hood. Zwykły obywatel ma szansę wpływać na rynki, przy użyciu współczesnych technologii można inaczej podejść do złożonych spraw. Ważne, aby znaleźć możliwości, które dają nowoczesne technologie, i nie stracić tego w przyszłości, w okresie odbudowy. Mstysław Banik W naszym społeczeństwie mamy wielkie dążenie do demokracji. Gdy nie trzeba łączyć wysiłków w walce ze wspólnym wrogiem, jesteśmy wolnymi ludźmi: każdy ma własne zdanie i własną wizję. Po prostu musimy trochę lepiej nauczyć się działać wspólnie. W odpowiedzi na pytanie, jak nam się udało uruchomić narzędzia IT: Ukraina jest jednym z największych eksporterów produktów IT na rynku światowym. Wiele ukraińskich firm IT działa w ramach outsourcingu na rynki zagraniczne Europy i Stanów Zjednoczonych; ukraińskie środowisko osób zajmujących się IT jest wielkie. Może działa nieco w ukryciu, ponieważ nie ma wielkiej liczby firm-jednorożców, jak mogłoby się wydawać osobom z zagranicy. Wybiły się takie produkty, jak Reface czy Ajax (który jest jednocześnie firmą technologiczną). Ci wszyscy ludzie, niezależnie od zadań, jakie wykonują w ramach obowiązków w pracy, wykorzystują swoje umiejętności i kompetencje, biorąc udział w pracy Armii IT. Są takie firmy, które działają w Ukrainie, ale skupiają się na rynkach zagranicznych. Jeden z moich przyjaciół pracuje w firmie, którą uważałem za amerykańską, ale okazało się, że całe biuro i wszyscy informatycy znajdują się w Ukrainie. Ta firma podjęła decyzję, że w okresie wojny nie będzie stosowała kluczowych wskaźników efektywności (Key Performance Indicators, KIP). Każdy może zrobić coś pożytecznego dla państwa w ramach Armii IT, jako wolontariusz może działać z pomocą humanitarną czy dla wojska. Firma nadal płaci pracownikom pełne wynagrodzenie i po prostu jest zadowolona, jeśli nadążają oni z wykonywaniem swoich obowiązków. Są różne przykłady, jak firma może włączyć się w pomaganie państwu: opracowuje jakiś produkt, przeznacza część środków na wsparcie armii czy kupuje sprzęt. Gdy firma w całości utrzymuje pełne wynagrodzenie wszystkich pracowników i jednocześnie może poświęcić wysiłki tych ludzi, aby pomagać innym w czasie wojny – to doskonały przykład, jak można łączyć różne cele. To wszystko dzięki temu, że mamy wielką wspólnotę i rozwinięte produkty informatyczne. Nadija Babynska W pierwszych miesiącach rozmawiałam z informatykami, którzy do nas przychodzili i pytali, jak mogą pomóc. Tutaj upatruję podłoże psychologiczne. 24 lutego wszyscy zamarli. Nie wiedzieliśmy, co będzie dalej i ile to potrwa. Później były kolejki do wojskowych punktów rekrutacyjnych, do obrony terytorialnej. Ale przyszedł taki okres, kiedy wszyscy zrozumieli, że każdy może pomagać w obszarze, który najlepiej zna, tym, co najlepiej umie. Informatycy także się zmobilizowali: może nie umiemy dobrze walczyć czy nawet odpowiednio trzymać broni, ale możemy dobrze opracować aplikację, która pomoże ludziom w walce. To ma psychologiczne podłoże, aby nie zwariować w tej trudnej sytuacji, a jednocześnie tu i teraz pomóc zwykłą, codzienną pracą, np. w ramach outsourcingu. Mstysław Banik W latach 2019–2020 pierwszą wersję aplikacji Diia, która zawierała prawo jazdy, dowód rejestracyjny, paszport i dowód osobisty, stworzyła ukraińska firma EPAM. Oni to zrobili bezpłatnie, to był ich wkład społeczny. Wiktor Nastula W ostatnich kilku latach bardzo zaktywizowało się społeczeństwo obywatelskie i nastąpił olbrzymi postęp w cyfryzacji oraz opracowywaniu różnych serwisów. Oczywiście liderem jest tutaj państwo. Ale przy wielkiej wspólnocie wolontariuszy i informatyków-aktywistów plusem jest wsparcie sponsorów, które było bardzo elastyczne. Na początku wojny wielu międzynarodowych partnerów zapewniało o swojej gotowości, a nawet pozwoliło licznym projektom, które wcześniej były skupione na innych zadaniach, wykorzystać przyznane finansowanie na cele wynikające z potrzeb wojennych, częściowo na pomoc humanitarną, ale też różne serwisy informatyczne czy opracowanie koniecznych programowych zabezpieczeń. Bardzo ważne były obecność wspólnoty plus jakieś niewielkie zasoby finansowe i grono wolontariuszy, osób gotowych się angażować, rozumiejących wartość, jaką tworzą. Swoją rolę odegrało tutaj partnerstwo budowane od lat między władzą a społeczeństwem obywatelskim. W wielu obszarach mamy wysoki poziom zaufania i współdziałania; tym Ukraina wyróżnia się na tle wielu krajów w regionie. Gdy spojrzymy na instytucje państwowe i organizacje społeczne w sąsiednich krajach, to tam brakuje tak wysokiego zaufania do siebie. Nasze współdziałanie i partnerstwo sprzyjały\\n',\n",
       "  'output': 'Współpraca i zaangażowanie społeczeństwa obywatelskiego, zwłaszcza osób związanych z branżą IT, odegrały kluczową rolę w walce i odbudowie Ukrainy. Ukraińskie firmy IT od lat działają na rynkach zagranicznych, a produkty takie jak Reface czy Ajax zdobyły międzynarodowe uznanie. W czasie wojny wiele firm IT zaangażowało się w pomoc państwu, opracowując aplikacje czy przeznaczając część środków na wsparcie armii. Społeczeństwo ukraińskie wykazało się również dużym zaangażowaniem i gotowością do pomocy. Wsparcie sponsorów, elastyczność finansowania oraz zaufanie i współpraca między władzą a społeczeństwem obywatelskim odegrały kluczową rolę w postępie cyfryzacji i opracowywaniu serwisów. Ukraina wyróżnia się na tle innych krajów regionu pod względem zaufania i współdziałania między instytucjami państwowymi a organizacjami społecznymi.',\n",
       "  'generator': 'Bielik-7B-Instruct-v0.1',\n",
       "  'dataset': 'summarization-chat-annotated',\n",
       "  'datasplit': 'train'},\n",
       " {'instruction': 'Twoim zadaniem jest przeczytanie podanego tekstu i napisanie streszczenia w języku polskim. Streszczenie powinno zawierać najważniejsze informacje i wydarzenia opisane w tekście, być zwięzłe i dobrze zorganizowane. Unikaj wprowadzania nowych informacji oraz osobistych opinii.\\n\\n###\\n\\n– łączność: mowa tutaj nie tylko o internecie, ale też o zasięgu telefonii komórkowej na terenach okupowanych przez wroga, gdzie Rosjanie próbowali pozbawić ludzi dostępu do internetu i telewizji. Co istotne – było dużo pomocy sponsorów i zakup Starlinków w Europie, aby Ukraina miała dostęp do internetu. Są takie regiony, które nie ucierpiały z powodu wojny, ale z powodu dużej liczby gości, osób wewnętrznie przesiedlonych, pojawiły się wyzwania w komunikacji. Zresztą tak naprawdę rakiety leciały wszędzie... Kiedy wróg ustąpił i obwód czernihowski został uwolniony, wiele miejscowości pozostało bez jakiegokolwiek dostępu do łączności, nawet bez telefonii komórkowej. Zdajemy sobie sprawę, że zapewnienie łączności ze światem i dostępu do informacji to kwestia życia, ponieważ kiedy przyjeżdżają karetki, gdy ratowane jest ludzkie życie, ratownicy muszą wiedzieć, czy w danym szpitalu są wolne miejsca, czy należy jechać gdzie indziej. Ludzie przemieszczali się wewnątrz Ukrainy i wielu nie ma ze sobą kontaktu, jak to bywa na wojnie. Oglądaliśmy to kiedyś w filmach i czytaliśmy w książkach, kiedy różne osoby tracą kontakt ze sobą, a później próbują się odnaleźć. Starlinki bardzo pomogły w rozwiązywaniu takich problemów. Starlink to nie jest antena na ulicy, taka że każdy, kto wokół niej chodzi, ma dostęp do sieci. Starlink działa jako łączność satelitarna. Satelita daje sygnał, jest talerz, który go przyjmuje, i router rozdający internet jak wi-fi. Było wiele adaptacji hybrydowych, kiedy np. operator komórkowy, a nawet operator łączności stacjonarnej mógł na swoim sprzęcie zainstalować Starlink i przekazywać dostęp do internetu, aby ludzie mieli możliwość skorzystania z niego. Oczywiście dużo sprzętu pojechało do obiektów infrastruktury socjalnej: szkół, szpitali, przedszkoli. Wróg, niszcząc nasze obiekty infrastruktury łączności, oprócz oczywistych celów, które w ten sposób osiąga, pozbawia też ludzi informacji o tym, co tak naprawdę dzieje się w kraju. Wszyscy widzieliśmy kadry z ostrzału wież telewizyjnych i słyszeliśmy informacje o przejęciu studiów po to, aby opowiadać kłamstwa, że ukraińska armia skapitulowała, a prezydent Zełenski się poddał itd. Rosjanie chcieli manipulować i tworzyć inny obraz świata dla ludzi, którzy przebywają na terenach okupowanych. Dlatego praktycznie od samego początku w aplikacji Diia uruchomiliśmy telewizję i radio. Przed wojną nie mieliśmy w planach, aby telewizja i radio były w aplikacji z dokumentami i usługami publicznymi, ale teraz zdaliśmy sobie sprawę, że jeżeli ktoś ma jakikolwiek dostęp do mobilnego internetu, może w aplikacji Diia oglądać lub słuchać wiadomości. To świetne rozwiązanie, że większość najważniejszych ukraińskich kanałów ma wspólny eter, aby ludzie uzyskiwali te same informacje. Istnieje mnóstwo serwisów, które pozwalają oglądać streamy itd. To wszystko umożliwiło dostęp do kanałów telewizyjnych. W Ukrainie działa serwis MEGOGO, gdzie są udostępnione filmy i telewizja. Aby dana osoba mogła bezpłatnie oglądać kanały telewizyjne czy inne rzeczy na MEGOGO, musi mieć jakiekolwiek doświadczenie, jak to działa. To samo dotyczy transmisji na takich kanałach, jak YouTube. Wszystkim się zdaje, że każdy potrafi z tego korzystać, tymczasem wiele osób nadal odkrywa YT dla siebie. Możliwość oglądania takich kanałów w aplikacji Diia zwiększa szanse, bo nie trzeba podejmować dodatkowych wysiłków, aby uzyskać dostęp do aktualnych wiadomości w telewizji lub radiu. Odkąd zaczęliśmy działać w ten sposób, przyniosło to duże korzyści i spora liczba ludzi otrzymała dostęp. Z czasem zdecydowaliśmy, że będziemy utrzymywać tylko kanały telewizyjne, np. puściliśmy w aplikacji Diia transmisję Eurowizji, którą obejrzało ponad milion osób. Fenomenalny wynik, ale co ważniejsze, to wywołało pozytywne emocje. Ukraińcy są dumni z aplikacji Diia, szczególnie ci, którzy wyjechali za granicę, gdzie mają do czynienia z serwisami offline, podczas gdy oni już przywykli do rozwiązań online. Widziałem dużą liczbę postów na Twitterze: „W aplikacji Diia jest cyfrowy dowód i cyfrowe prawo jazdy, oglądasz Eurowizję. A co będzie dalej?”. Z jednej strony taka rzecz jak transmisja Eurowizji w czasie wojny wydaje się niezgodna z profilem aplikacji; z drugiej strony – jest dla nas ważne, w jakim stanie emocjonalnym są ludzie, a my za cenę niedużych wysiłków możemy przynajmniej na jakiś czas polepszyć im nastrój, dodać motywacji, patriotyzmu i odpowiedniego ducha. Wszyscy są naprawdę w trudnej sytuacji. Tu udaje się zrobić rzecz poboczną i nie taką oczywistą. Wiktor Nestula Byłem jednym z miliona widzów, którzy oglądali ukraińskie zwycięstwo w konkursie Eurowizji poprzez aplikację Diia. Chcę podziękować za to Ministerstwu Transformacji Cyfrowej. To był rzeczywiście świetny pomysł. Mam nadzieję, że ta aplikacja faktycznie pomaga ratować życie ludzi i zapewnia dostęp do\\n',\n",
       "  'output': 'internetu i informacji w trudnych warunkach wojennych. Jestem pod wrażeniem, że aplikacja Diia umożliwia oglądanie telewizji i słuchanie radia, co jest szczególnie ważne dla osób, które nie mają innych źródeł informacji. Dodatkowo, możliwość oglądania Eurowizji przez aplikację przyniosła wiele pozytywnych emocji i dodała patriotyzmu w trudnym czasie dla Ukrainy. Jestem wdzięczny Ministerstwu Transformacji Cyfrowej za takie innowacyjne rozwiązania.',\n",
       "  'generator': 'Bielik-7B-Instruct-v0.1',\n",
       "  'dataset': 'summarization-chat-annotated',\n",
       "  'datasplit': 'train'},\n",
       " {'instruction': 'Twoim zadaniem jest przeczytanie podanego tekstu i napisanie streszczenia w języku polskim. Streszczenie powinno zawierać najważniejsze informacje i wydarzenia opisane w tekście, być zwięzłe i dobrze zorganizowane. Unikaj wprowadzania nowych informacji oraz osobistych opinii.\\n\\n###\\n\\nW przypadku ataków rakietowych następowały przerwy w dostawach energii. Przewidujący ludzie mieli powerbanki, ale wiele osób całe tygodnie siedziało bez dostępu do prądu, nie mając możliwości naładowania telefonów. Znam historię z prywatnych domów, które mają panele słoneczne. Dużo mówimy o Zielonym Ładzie, o zrównoważonej transformacji i o tym, że Ukraina ma się nie tylko odbudować, ale też zmodernizować. Cała infrastruktura ma odpowiadać zielonym wymaganiom. Należy jeszcze raz zastanowić się nad rolą prywatnych gospodarstw w tym obszarze, aby domy, które są wyposażone w panele słoneczne pod atakami bombowymi i pod okupacją, pomagały innym ładować telefony i utrzymywać łączność. Być może to też stanie się elementem polityki państwowej. Jeśli chodzi o samorządy – muszą one zmierzyć się z wyzwaniem, jak zapewniać źródła energii odnawialnej nie na poziomie centralnym i nie na ropę, bo paliwo do silników diesla też może szybko się skończyć. Jak to uwzględniać na przyszłość, bo paliwo w obecnej cenie jest teraz w Ukrainie produktem deficytowym. Europejczycy być może tego nie zrozumieją. Nadija Babynska W Ukrainie nie w każdym gospodarstwie domowym jest dostęp do internetu, a umiejętności cyfrowe też nie są na zbyt wysokim poziomie. Musimy o tym myśleć i pamiętać o zachowaniu inkluzyjnego podejścia do wprowadzania różnorodnych technologii, w tym także służących przekazywaniu informacji. Należy mieć świadomość, że nie każdy może korzystać ze smartfona. Trzeba myśleć, jak nie wykluczać tych, którzy nie mają dostępu do tych technologii albo nie chcą, nie mogą lub nie wiedzą, jak z nich korzystać. Dotyczy to szczególnie sytuacji kryzysowych. Jeżeli popatrzymy na sytuację osób, których domy zniszczono, warto pomyśleć o stworzeniu prostego i zrozumiałego algorytmu, co należy zrobić w takiej sytuacji. Pojawiła się baza, nad którą pracuje rząd. Prowadzono już rozmowy, aby wszystko skupić i aby wszystkie procesy odbywały się w aplikacji Diia, ale rozumiemy, że rzecz polega na tym, aby nikogo nie dyskryminować. Muszą być różne opcje dla osób, które korzystają ze smartfonów czy z portalu internetowego. Trzeba realizować różne potrzeby i należy zrozumieć, że zarówno aplikacja Diia, jak i inne serwisy cyfrowe są po prostu otoczką dla różnych procesów wewnętrznych. Bez względu na to, czy to Polska, czy Ukraina – nawet najlepsza otoczka nie jest w stanie ukryć bałaganu, jaki mamy wewnątrz. Gdy budujemy nowe narzędzie w aplikacji Diia, należy zmieniać procesy biznesowe, które działają wewnątrz. To dotyczy zarówno wznoszenia nowych budynków, jak i zmiany miejsca pobytu. Miejsce zamieszkania nie powinno być takim radzieckim resentymentem. My próbujemy „nawlec” nowoczesne narzędzie Diia na pozostałości starego systemu. Musimy zmienić nasze podejście. Należy przemyśleć i zmienić konstrukcję procesów biznesowych, a dopiero na to nałożyć nowoczesne, cyfrowe rozwiązania. Mstysław Banik Od początku istnienia Ministerstwa Transformacji Cyfrowej założyliśmy cztery cele. Pierwszy to objęcie Ukrainy szybkim internetem, aby ludzie mieli dostęp do serwisów – dość skutecznie szliśmy w tym kierunku. Drugim celem jest polepszenie umiejętności cyfrowych wśród mieszkańców. Trzeci cel to dostępność w każdym przypadku: większość serwisów, które istnieją w Ukrainie, jeśli są dostępne online, to przeważnie funkcjonują także offline. Są różne rozwiązania, np. we wspominanym systemie składania powiadomień o zniszczonych miejscach zamieszkania. To działa też na poziomie samorządów, jest odpowiedni formularz. Współpracujemy w tym zakresie z samorządami w danych regionach. Diia to otoczka, ale ta aplikacja nie świadczy usług będących zamiennikiem innych organów państwowych. Żadna usługa cyfrowa nie pojawia się w aplikacji bez udoskonalenia takiego czy innego systemu ze strony organów państwa. Rzeczywiście, problem stanowią i przestarzała architektura, i częste wątpliwości dotyczące bezpieczeństwa. Wobec 17 milionów ludzi z dowodami papierowymi, zanim pojawiły się paszporty, z rejestrem dawniej pracowało mniej niż tysiąc osób. Te dane mówią o zupełnie innym systemie pracy rejestru, bezpieczeństwa i jego przepustowości. Krzysztof Izdebski Powtórzę zastrzeżenie: nie można podtrzymywać takiego wrażenia, że wystarczy cyfryzacja i państwo działa lepiej. Sam często mówię, że nie uda się cyfryzacja, która polega na digitalizowaniu biurokracji. To musi być połączone z pomysłem na transformację państwa. Wiem, że w Ukrainie był taki pomysł. Pewnie mogło to wypaść lepiej, ale chyba nie było też tak źle. Warto podkreślić, że tutaj wiodącą rolę odegrały samorządy. Ołena Huńko Jeśli chodzi o serwisy elektroniczne, m.in. te, które dotyczą rejestracji miejsca zamieszkania, to nasza współpraca z Ministerstwem Transformacji Cyfrowej jest bardzo ścisła. Ta usługa jest świadczona przez samorząd, ale jednocześnie rozumiemy, że musimy reagować na ogólne tendencje. Mimo iż mamy swój rejestr, ciągle współpracujemy z\\n',\n",
       "  'output': 'Ministerstwem Transformacji Cyfrowej w celu udoskonalenia procesu rejestracji miejsca zamieszkania. Ważne jest, aby zapewnić dostępność różnych usług cyfrowych dla wszystkich mieszkańców, bez wykluczania tych, którzy nie mają dostępu do technologii cyfrowych. Cyfryzacja powinna iść w parze z transformacją państwa, a samorządy odgrywają kluczową rolę w tym procesie.',\n",
       "  'generator': 'Bielik-7B-Instruct-v0.1',\n",
       "  'dataset': 'summarization-chat-annotated',\n",
       "  'datasplit': 'train'}]"
      ]
     },
     "execution_count": 61,
     "metadata": {},
     "output_type": "execute_result"
    }
   ],
   "source": [
    "reference_data"
   ]
  },
  {
   "cell_type": "code",
   "execution_count": null,
   "metadata": {},
   "outputs": [],
   "source": [
    "import json\n",
    "\n",
    "with open(\"eval_data.json\", \"w\") as f:\n",
    "    json.dump(eval_data, f)\n",
    "\n",
    "\n",
    "with open(\"reference_data.json\", \"w\") as f:\n",
    "    json.dump(reference_data, f)"
   ]
  },
  {
   "cell_type": "code",
   "execution_count": 55,
   "metadata": {},
   "outputs": [
    {
     "name": "stderr",
     "output_type": "stream",
     "text": [
      "huggingface/tokenizers: The current process just got forked, after parallelism has already been used. Disabling parallelism to avoid deadlocks...\n",
      "To disable this warning, you can either:\n",
      "\t- Avoid using `tokenizers` before the fork if possible\n",
      "\t- Explicitly set the environment variable TOKENIZERS_PARALLELISM=(true | false)\n"
     ]
    }
   ],
   "source": [
    "!export OPENAI_API_KEY=..."
   ]
  },
  {
   "cell_type": "code",
   "execution_count": null,
   "metadata": {},
   "outputs": [
    {
     "name": "stderr",
     "output_type": "stream",
     "text": [
      "huggingface/tokenizers: The current process just got forked, after parallelism has already been used. Disabling parallelism to avoid deadlocks...\n",
      "To disable this warning, you can either:\n",
      "\t- Avoid using `tokenizers` before the fork if possible\n",
      "\t- Explicitly set the environment variable TOKENIZERS_PARALLELISM=(true | false)\n"
     ]
    },
    {
     "name": "stdout",
     "output_type": "stream",
     "text": [
      "INFO:root:Evaluating the Bielik-7B-Instruct-v0.1 outputs.\n",
      "INFO:root:Creating the annotator from `weighted_alpaca_eval_gpt4_turbo`.\n",
      "INFO:root:Saving annotations to `/home/djaniak/anaconda3/envs/rlhf-gen-div/lib/python3.10/site-packages/alpaca_eval/evaluators_configs/weighted_alpaca_eval_gpt4_turbo/annotations_seed0_configs.json`.\n",
      "INFO:root:Loading all annotations from /home/djaniak/anaconda3/envs/rlhf-gen-div/lib/python3.10/site-packages/alpaca_eval/evaluators_configs/weighted_alpaca_eval_gpt4_turbo/annotations_seed0_configs.json.\n",
      "Annotation chunk:   0%|                                   | 0/1 [00:00<?, ?it/s]INFO:root:Annotating 0 examples with weighted_alpaca_eval_gpt4_turbo\n",
      "INFO:root:Saving all annotations to /home/djaniak/anaconda3/envs/rlhf-gen-div/lib/python3.10/site-packages/alpaca_eval/evaluators_configs/weighted_alpaca_eval_gpt4_turbo/annotations_seed0_configs.json.\n",
      "INFO:root:Loading all annotations from /home/djaniak/anaconda3/envs/rlhf-gen-div/lib/python3.10/site-packages/alpaca_eval/evaluators_configs/weighted_alpaca_eval_gpt4_turbo/annotations_seed0_configs.json.\n",
      "Annotation chunk: 100%|███████████████████████████| 1/1 [00:00<00:00, 39.07it/s]\n",
      "WARNING:root:Length controlled win rate is very different from the raw one: 50.0% vs 0.3%. This might be a sign of failure of the GLM.\n",
      "INFO:root:Saving all results to weighted_alpaca_eval_gpt4_turbo\n",
      "INFO:root:Not saving the result to the cached leaderboard because precomputed_leaderboard is not a path but <class 'NoneType'>.\n",
      "                         length_controlled_winrate  win_rate  standard_error  n_total  avg_length\n",
      "Bielik-7B-Instruct-v0.1                      50.00      0.31            0.30       10         297\n"
     ]
    }
   ],
   "source": [
    "!alpaca_eval --model_outputs 'eval_data.json' --reference_outputs 'reference_data.json'"
   ]
  },
  {
   "cell_type": "code",
   "execution_count": null,
   "metadata": {},
   "outputs": [],
   "source": []
  },
  {
   "cell_type": "code",
   "execution_count": null,
   "metadata": {},
   "outputs": [],
   "source": []
  },
  {
   "cell_type": "code",
   "execution_count": null,
   "metadata": {},
   "outputs": [],
   "source": []
  },
  {
   "cell_type": "code",
   "execution_count": null,
   "metadata": {},
   "outputs": [],
   "source": []
  },
  {
   "cell_type": "code",
   "execution_count": null,
   "metadata": {},
   "outputs": [],
   "source": []
  },
  {
   "cell_type": "code",
   "execution_count": 7,
   "metadata": {},
   "outputs": [],
   "source": [
    "# !pip install bitsandbytes"
   ]
  },
  {
   "cell_type": "code",
   "execution_count": 14,
   "metadata": {},
   "outputs": [
    {
     "name": "stdout",
     "output_type": "stream",
     "text": [
      "2556\n"
     ]
    },
    {
     "name": "stderr",
     "output_type": "stream",
     "text": [
      "  6%|▋         | 1/16 [01:10<17:30, 70.03s/it]"
     ]
    },
    {
     "name": "stdout",
     "output_type": "stream",
     "text": [
      "Twoim zadaniem jest przeczytanie podanego tekstu i napisanie streszczenia w języku polskim. Streszczenie powinno zawierać najważniejsze informacje i wydarzenia opisane w tekście, być zwięzłe i dobrze zorganizowane. Unikaj wprowadzania nowych informacji oraz osobistych opinii.\n",
      "\n",
      "###\n",
      "\n",
      "Tekst: Zamach w Sarajewie Zamach w Sarajewie – zamach na następcę austro-węgierskiego tronu, arcyksięcia Franciszka Ferdynanda i jego żonę Zofię, księżnę Hohenberg, dokonany 28 czerwca 1914 roku przez bośniackiego Serba Gavrila Principa, członka serbskiej nacjonalistycznej organizacji \"Młoda Bośnia\". Princip wraz z pięcioma innymi uczestnikami zamachu powiązany był z serbską tajną organizacją \"Zjednoczenie lub śmierć\", popularnie nazywaną \"Czarna Ręka\", którą kierował Dragutin Dimitrijević pseudonim \"Apis\", szef serbskiego wywiadu wojskowego. Morderstwo następcy tronu austro-węgierskiego stworzyło napięcie pomiędzy Wiedniem a Belgradem. Austro-Węgry wysunęły ultimatum domagając się usunięcia wrogiej propagandy, a także udziału reprezentantów rządu cesarsko-królewskiego w śledztwie na terenie Serbii. Odrzucenie części żądań przez Serbię doprowadziło do tzw. kryzysu lipcowego, a w konsekwencji do wybuchu I wojny światowej. Przygotowania Przygotowania do zamachu rozpoczęto w marcu 1914 r., gdy prasa zapowiedziała przyjazd Franciszka Ferdynanda do Sarajewa. Ćwiczenia prowadzono w lasach pod Belgradem. Nedeljko Čabrinović, Gavrilo Princip i Trifko Grabež dotarli do Sarajewa 4 czerwca i zamieszkali u krewnych lub znajomych. Zamachowcy byli wyposażeni w cztery pistolety, sześć bomb domowej roboty i kapsułki z cyjankiem. Koordynacją działań na miejscu zajmował się miejscowy dziennikarz Danilo Ilić, on też zwerbował na miejscu Cvjetka Popovicia i Muhameda Mehmedbašicia. Zamachowcy zajęli pozycje na liczącej 4 km trasie z dworca kolejowego do ratusza, gdzie na arcyksięcia czekały władze miasta. Obstawili odcinek 300 metrów od Mostu Ćumurija, gdzie czekali Popović i Ilić, do Mostu Cesarskiego. Przy kawiarni Mostar oczekiwali Mehmedbašić i Čubrilović, Čabrinović na wysokości Drewnianego Mostu, Princip przy Moście Łacińskim, a Grabež przy Moście Cesarskim. Przebieg wydarzenia 28 czerwca 1914 roku arcyksiążę Franciszek Ferdynand Habsburg wraz z towarzyszącą mu małżonką Zofią von Chotek obchodzili rocznicę swojego ślubu. Z tej okazji wzięli udział we mszy odprawionej w hotelu „Bosna” w kurorcie Ilidža (godz. 9:00), 10 km na zachód od Sarajewa, do którego wyruszyli pociągiem około godz. 9:42. Do samego Sarajewa para przybyła o godz. 10:07. Na dworcu miejskim czekała kolumna sześciu aut, w tym oliwkowoszara sportowa limuzyna marki Gräf &amp; Stift ze składanym dachem dla wizytującej pary. W limuzynie wraz z Franciszkiem Ferdynandem i jego żoną jechali także: szofer Leopold Lojka, szef straży przybocznej – hrabia Franz von Harrach oraz wojskowy gubernator Bośni i Hercegowiny – Oskar Potiorek. Trasa przejazdu była publicznie podana do wiadomości kilka dni wcześniej. W trakcie przejazdu pierwszemu z zamachowców, Mehmedbašiciowi, nie udało się rozeznać, w którym aucie siedzi arcyksiążę. Kolejny ze spiskowców, Vaso Čubrilović, nie odważył się strzelać, widząc w pojeździe Franciszka i jego żonę, a Popović stał zbyt daleko i ze względu na słaby wzrok nie wiedział, w kogo celować. Pierwsza próba zamachu miała miejsce około godz. 10:26 przy Moście Ćumurija. Čabrinović rzucił w kierunku auta ręczny granat, ale dzięki refleksowi kierowcy limuzyny z arcyksięciem granat odbił się od płóciennego dachu samochodu i eksplodując, zniszczył następny samochód jadący w kolumnie raniąc pasażerów, policjanta i osoby z tłumu – łącznie 17 osób. Stojący w pobliżu Princip nie zaatakował, gdyż jego uwagę przyciągnęło aresztowanie Čabrinovicia, a Grabež był nieprzygotowany na to, że samochód arcyksięcia będzie poruszać się tak szybko. Para książęca przybyła do sarajewskiego ratusza o godzinie 10:30. Dziesięć minut później Franciszek Ferdynand z żoną opuścił ratusz z zamiarem odwiedzenia rannych w wyniku eksplozji, a ochrona zdecydowała o zmianie trasy przejazdu. Samochód z arcyksięciem, zwalniając na zakręcie na wysokości Mostu Łacińskiego, mijał kolejnego spiskowca, Grabeža, który nie chciał ryzykować postrzału postronnych osób. W tym miejscu samochód miał skręcić w prawo, a nie jak pierwotnie planowano pojechać prosto, ale kierowca nie dowiedział się o zmianie planów. Po przejechaniu skrzyżowania szofer zatrzymał auto na rozkaz szefa ochrony i zaczął zawracać. Drugi ze znajdujących się przypadkowo przy drugim przejeździe arcyksięcia zamachowiec, Princip, oddał dwa strzały w kierunku pary arcyksiążęcej. Pierwszy strzał trafił Zofię von Chotek w podbrzusze, druga kula przeszyła tchawicę i tętnicę szyjną jej męża. Oboje nie przeżyli (atak Principa około godz. 10:50). Napastnika zauważył detektyw Smail Spahović, który usiłował go obezwładnić, jednak Princip uderzył go pistoletem w głowę. Princip usiłował się zastrzelić, ale broń wytrącił mu detektyw Anto Velić. Następnie bezskutecznie próbował otruć się przygotowaną dawką cyjanku. Tłum chciał go zlinczować, lecz nie dopuściła do tego policja. Kolumna samochodów ze śmiertelnie postrzeloną parą o godz. 10:55 dotarła do rezydencji (konaku), gdzie urzędował Oskar Potiorek, współpasażer tragicznej jazdy pary arcyksiążęcej. Akt zgonu określił śmierć arcyksięcia Ferdynanda i jego żony na\n",
      "\n",
      "Streszczenie:\n",
      "Lekki myśliwiec Swiss WW1 według mnie wyglądałby tak\n",
      "Z zewnątrz z 5 wielkich śmigieł i silników odrzutowych. Podwozie jak odrzutowy myśliwiec spod I wojny światowej.\n",
      "Uzbrojenie: wyrzutnie rakiet typu AGM\n",
      "Napęd: 1 silnik odrzutowy i 4 elektryczne.\n",
      "Oblatany w 2050 Modernizacja wojsk lądowych - Sigma 3\n",
      "Wydaje mi się, że przed następnym pokoleniem modernizacyjnym dotyczącym generalnej modernizacji czołgów i wozów bojowych warto byłoby trochę zmodyfikować wojska lądowe. Dlatego proponuję tutaj dwa takie ulepszenia, a mianowicie:\n",
      "1. Obrona przeciwlotnicza.\n",
      "2. Rezerwy - m.in. rezerwiści.\n",
      "Luty 2046.\n",
      "Sytuacja na : Wojska północnokoreańskie wkraczają do południowokoreańskiego miasta Soham. Atak wojsk KRLD zaskakuje NATO. USA wysyłają w tym rejon kon\n",
      "==============================\n"
     ]
    },
    {
     "name": "stderr",
     "output_type": "stream",
     "text": [
      "  6%|▋         | 1/16 [01:16<19:06, 76.46s/it]\n"
     ]
    },
    {
     "ename": "KeyboardInterrupt",
     "evalue": "",
     "output_type": "error",
     "traceback": [
      "\u001b[0;31m---------------------------------------------------------------------------\u001b[0m",
      "\u001b[0;31mKeyboardInterrupt\u001b[0m                         Traceback (most recent call last)",
      "\u001b[1;32m/home/djaniak/projects/rlfh-gen-div/notebooks/diversity.ipynb Cell 15\u001b[0m line \u001b[0;36m1\n\u001b[1;32m     <a href='vscode-notebook-cell://ssh-remote%2Bthorium.engine.kdm.wcss.pl/home/djaniak/projects/rlfh-gen-div/notebooks/diversity.ipynb#X23sdnNjb2RlLXJlbW90ZQ%3D%3D?line=11'>12</a>\u001b[0m \u001b[39mfor\u001b[39;00m _ \u001b[39min\u001b[39;00m tqdm(\u001b[39mrange\u001b[39m(\u001b[39m16\u001b[39m)):\n\u001b[1;32m     <a href='vscode-notebook-cell://ssh-remote%2Bthorium.engine.kdm.wcss.pl/home/djaniak/projects/rlfh-gen-div/notebooks/diversity.ipynb#X23sdnNjb2RlLXJlbW90ZQ%3D%3D?line=12'>13</a>\u001b[0m     \u001b[39mwith\u001b[39;00m torch\u001b[39m.\u001b[39mno_grad():\n\u001b[0;32m---> <a href='vscode-notebook-cell://ssh-remote%2Bthorium.engine.kdm.wcss.pl/home/djaniak/projects/rlfh-gen-div/notebooks/diversity.ipynb#X23sdnNjb2RlLXJlbW90ZQ%3D%3D?line=13'>14</a>\u001b[0m         output \u001b[39m=\u001b[39m model\u001b[39m.\u001b[39;49mgenerate(prompt_input_ids\u001b[39m.\u001b[39;49mto(device),\n\u001b[1;32m     <a href='vscode-notebook-cell://ssh-remote%2Bthorium.engine.kdm.wcss.pl/home/djaniak/projects/rlfh-gen-div/notebooks/diversity.ipynb#X23sdnNjb2RlLXJlbW90ZQ%3D%3D?line=14'>15</a>\u001b[0m                                 pad_token_id\u001b[39m=\u001b[39;49mtokenizer\u001b[39m.\u001b[39;49meos_token_id,\n\u001b[1;32m     <a href='vscode-notebook-cell://ssh-remote%2Bthorium.engine.kdm.wcss.pl/home/djaniak/projects/rlfh-gen-div/notebooks/diversity.ipynb#X23sdnNjb2RlLXJlbW90ZQ%3D%3D?line=15'>16</a>\u001b[0m                                 do_sample\u001b[39m=\u001b[39;49m\u001b[39mTrue\u001b[39;49;00m, \n\u001b[1;32m     <a href='vscode-notebook-cell://ssh-remote%2Bthorium.engine.kdm.wcss.pl/home/djaniak/projects/rlfh-gen-div/notebooks/diversity.ipynb#X23sdnNjb2RlLXJlbW90ZQ%3D%3D?line=16'>17</a>\u001b[0m                                 max_length\u001b[39m=\u001b[39;49mmax_length,\n\u001b[1;32m     <a href='vscode-notebook-cell://ssh-remote%2Bthorium.engine.kdm.wcss.pl/home/djaniak/projects/rlfh-gen-div/notebooks/diversity.ipynb#X23sdnNjb2RlLXJlbW90ZQ%3D%3D?line=17'>18</a>\u001b[0m                                 temperature\u001b[39m=\u001b[39;49m\u001b[39m1.0\u001b[39;49m, \n\u001b[1;32m     <a href='vscode-notebook-cell://ssh-remote%2Bthorium.engine.kdm.wcss.pl/home/djaniak/projects/rlfh-gen-div/notebooks/diversity.ipynb#X23sdnNjb2RlLXJlbW90ZQ%3D%3D?line=18'>19</a>\u001b[0m                                 top_k\u001b[39m=\u001b[39;49m\u001b[39m0\u001b[39;49m,\n\u001b[1;32m     <a href='vscode-notebook-cell://ssh-remote%2Bthorium.engine.kdm.wcss.pl/home/djaniak/projects/rlfh-gen-div/notebooks/diversity.ipynb#X23sdnNjb2RlLXJlbW90ZQ%3D%3D?line=19'>20</a>\u001b[0m                                 top_p\u001b[39m=\u001b[39;49m\u001b[39m1\u001b[39;49m\n\u001b[1;32m     <a href='vscode-notebook-cell://ssh-remote%2Bthorium.engine.kdm.wcss.pl/home/djaniak/projects/rlfh-gen-div/notebooks/diversity.ipynb#X23sdnNjb2RlLXJlbW90ZQ%3D%3D?line=20'>21</a>\u001b[0m                                 )\n\u001b[1;32m     <a href='vscode-notebook-cell://ssh-remote%2Bthorium.engine.kdm.wcss.pl/home/djaniak/projects/rlfh-gen-div/notebooks/diversity.ipynb#X23sdnNjb2RlLXJlbW90ZQ%3D%3D?line=21'>22</a>\u001b[0m         generated_text \u001b[39m=\u001b[39m tokenizer\u001b[39m.\u001b[39mdecode(output[\u001b[39m0\u001b[39m], skip_special_tokens\u001b[39m=\u001b[39m\u001b[39mTrue\u001b[39;00m)\n\u001b[1;32m     <a href='vscode-notebook-cell://ssh-remote%2Bthorium.engine.kdm.wcss.pl/home/djaniak/projects/rlfh-gen-div/notebooks/diversity.ipynb#X23sdnNjb2RlLXJlbW90ZQ%3D%3D?line=22'>23</a>\u001b[0m     \u001b[39mprint\u001b[39m(generated_text)\n",
      "File \u001b[0;32m~/anaconda3/envs/rlhf-gen-div/lib/python3.10/site-packages/torch/utils/_contextlib.py:115\u001b[0m, in \u001b[0;36mcontext_decorator.<locals>.decorate_context\u001b[0;34m(*args, **kwargs)\u001b[0m\n\u001b[1;32m    112\u001b[0m \u001b[39m@functools\u001b[39m\u001b[39m.\u001b[39mwraps(func)\n\u001b[1;32m    113\u001b[0m \u001b[39mdef\u001b[39;00m \u001b[39mdecorate_context\u001b[39m(\u001b[39m*\u001b[39margs, \u001b[39m*\u001b[39m\u001b[39m*\u001b[39mkwargs):\n\u001b[1;32m    114\u001b[0m     \u001b[39mwith\u001b[39;00m ctx_factory():\n\u001b[0;32m--> 115\u001b[0m         \u001b[39mreturn\u001b[39;00m func(\u001b[39m*\u001b[39;49margs, \u001b[39m*\u001b[39;49m\u001b[39m*\u001b[39;49mkwargs)\n",
      "File \u001b[0;32m~/anaconda3/envs/rlhf-gen-div/lib/python3.10/site-packages/transformers/generation/utils.py:1764\u001b[0m, in \u001b[0;36mGenerationMixin.generate\u001b[0;34m(self, inputs, generation_config, logits_processor, stopping_criteria, prefix_allowed_tokens_fn, synced_gpus, assistant_model, streamer, negative_prompt_ids, negative_prompt_attention_mask, **kwargs)\u001b[0m\n\u001b[1;32m   1756\u001b[0m     input_ids, model_kwargs \u001b[39m=\u001b[39m \u001b[39mself\u001b[39m\u001b[39m.\u001b[39m_expand_inputs_for_generation(\n\u001b[1;32m   1757\u001b[0m         input_ids\u001b[39m=\u001b[39minput_ids,\n\u001b[1;32m   1758\u001b[0m         expand_size\u001b[39m=\u001b[39mgeneration_config\u001b[39m.\u001b[39mnum_return_sequences,\n\u001b[1;32m   1759\u001b[0m         is_encoder_decoder\u001b[39m=\u001b[39m\u001b[39mself\u001b[39m\u001b[39m.\u001b[39mconfig\u001b[39m.\u001b[39mis_encoder_decoder,\n\u001b[1;32m   1760\u001b[0m         \u001b[39m*\u001b[39m\u001b[39m*\u001b[39mmodel_kwargs,\n\u001b[1;32m   1761\u001b[0m     )\n\u001b[1;32m   1763\u001b[0m     \u001b[39m# 13. run sample\u001b[39;00m\n\u001b[0;32m-> 1764\u001b[0m     \u001b[39mreturn\u001b[39;00m \u001b[39mself\u001b[39;49m\u001b[39m.\u001b[39;49msample(\n\u001b[1;32m   1765\u001b[0m         input_ids,\n\u001b[1;32m   1766\u001b[0m         logits_processor\u001b[39m=\u001b[39;49mlogits_processor,\n\u001b[1;32m   1767\u001b[0m         logits_warper\u001b[39m=\u001b[39;49mlogits_warper,\n\u001b[1;32m   1768\u001b[0m         stopping_criteria\u001b[39m=\u001b[39;49mstopping_criteria,\n\u001b[1;32m   1769\u001b[0m         pad_token_id\u001b[39m=\u001b[39;49mgeneration_config\u001b[39m.\u001b[39;49mpad_token_id,\n\u001b[1;32m   1770\u001b[0m         eos_token_id\u001b[39m=\u001b[39;49mgeneration_config\u001b[39m.\u001b[39;49meos_token_id,\n\u001b[1;32m   1771\u001b[0m         output_scores\u001b[39m=\u001b[39;49mgeneration_config\u001b[39m.\u001b[39;49moutput_scores,\n\u001b[1;32m   1772\u001b[0m         return_dict_in_generate\u001b[39m=\u001b[39;49mgeneration_config\u001b[39m.\u001b[39;49mreturn_dict_in_generate,\n\u001b[1;32m   1773\u001b[0m         synced_gpus\u001b[39m=\u001b[39;49msynced_gpus,\n\u001b[1;32m   1774\u001b[0m         streamer\u001b[39m=\u001b[39;49mstreamer,\n\u001b[1;32m   1775\u001b[0m         \u001b[39m*\u001b[39;49m\u001b[39m*\u001b[39;49mmodel_kwargs,\n\u001b[1;32m   1776\u001b[0m     )\n\u001b[1;32m   1778\u001b[0m \u001b[39melif\u001b[39;00m generation_mode \u001b[39m==\u001b[39m GenerationMode\u001b[39m.\u001b[39mBEAM_SEARCH:\n\u001b[1;32m   1779\u001b[0m     \u001b[39m# 11. prepare beam search scorer\u001b[39;00m\n\u001b[1;32m   1780\u001b[0m     beam_scorer \u001b[39m=\u001b[39m BeamSearchScorer(\n\u001b[1;32m   1781\u001b[0m         batch_size\u001b[39m=\u001b[39mbatch_size,\n\u001b[1;32m   1782\u001b[0m         num_beams\u001b[39m=\u001b[39mgeneration_config\u001b[39m.\u001b[39mnum_beams,\n\u001b[0;32m   (...)\u001b[0m\n\u001b[1;32m   1787\u001b[0m         max_length\u001b[39m=\u001b[39mgeneration_config\u001b[39m.\u001b[39mmax_length,\n\u001b[1;32m   1788\u001b[0m     )\n",
      "File \u001b[0;32m~/anaconda3/envs/rlhf-gen-div/lib/python3.10/site-packages/transformers/generation/utils.py:2861\u001b[0m, in \u001b[0;36mGenerationMixin.sample\u001b[0;34m(self, input_ids, logits_processor, stopping_criteria, logits_warper, max_length, pad_token_id, eos_token_id, output_attentions, output_hidden_states, output_scores, return_dict_in_generate, synced_gpus, streamer, **model_kwargs)\u001b[0m\n\u001b[1;32m   2858\u001b[0m model_inputs \u001b[39m=\u001b[39m \u001b[39mself\u001b[39m\u001b[39m.\u001b[39mprepare_inputs_for_generation(input_ids, \u001b[39m*\u001b[39m\u001b[39m*\u001b[39mmodel_kwargs)\n\u001b[1;32m   2860\u001b[0m \u001b[39m# forward pass to get next token\u001b[39;00m\n\u001b[0;32m-> 2861\u001b[0m outputs \u001b[39m=\u001b[39m \u001b[39mself\u001b[39;49m(\n\u001b[1;32m   2862\u001b[0m     \u001b[39m*\u001b[39;49m\u001b[39m*\u001b[39;49mmodel_inputs,\n\u001b[1;32m   2863\u001b[0m     return_dict\u001b[39m=\u001b[39;49m\u001b[39mTrue\u001b[39;49;00m,\n\u001b[1;32m   2864\u001b[0m     output_attentions\u001b[39m=\u001b[39;49moutput_attentions,\n\u001b[1;32m   2865\u001b[0m     output_hidden_states\u001b[39m=\u001b[39;49moutput_hidden_states,\n\u001b[1;32m   2866\u001b[0m )\n\u001b[1;32m   2868\u001b[0m \u001b[39mif\u001b[39;00m synced_gpus \u001b[39mand\u001b[39;00m this_peer_finished:\n\u001b[1;32m   2869\u001b[0m     \u001b[39mcontinue\u001b[39;00m  \u001b[39m# don't waste resources running the code we don't need\u001b[39;00m\n",
      "File \u001b[0;32m~/anaconda3/envs/rlhf-gen-div/lib/python3.10/site-packages/torch/nn/modules/module.py:1501\u001b[0m, in \u001b[0;36mModule._call_impl\u001b[0;34m(self, *args, **kwargs)\u001b[0m\n\u001b[1;32m   1496\u001b[0m \u001b[39m# If we don't have any hooks, we want to skip the rest of the logic in\u001b[39;00m\n\u001b[1;32m   1497\u001b[0m \u001b[39m# this function, and just call forward.\u001b[39;00m\n\u001b[1;32m   1498\u001b[0m \u001b[39mif\u001b[39;00m \u001b[39mnot\u001b[39;00m (\u001b[39mself\u001b[39m\u001b[39m.\u001b[39m_backward_hooks \u001b[39mor\u001b[39;00m \u001b[39mself\u001b[39m\u001b[39m.\u001b[39m_backward_pre_hooks \u001b[39mor\u001b[39;00m \u001b[39mself\u001b[39m\u001b[39m.\u001b[39m_forward_hooks \u001b[39mor\u001b[39;00m \u001b[39mself\u001b[39m\u001b[39m.\u001b[39m_forward_pre_hooks\n\u001b[1;32m   1499\u001b[0m         \u001b[39mor\u001b[39;00m _global_backward_pre_hooks \u001b[39mor\u001b[39;00m _global_backward_hooks\n\u001b[1;32m   1500\u001b[0m         \u001b[39mor\u001b[39;00m _global_forward_hooks \u001b[39mor\u001b[39;00m _global_forward_pre_hooks):\n\u001b[0;32m-> 1501\u001b[0m     \u001b[39mreturn\u001b[39;00m forward_call(\u001b[39m*\u001b[39;49margs, \u001b[39m*\u001b[39;49m\u001b[39m*\u001b[39;49mkwargs)\n\u001b[1;32m   1502\u001b[0m \u001b[39m# Do not call functions when jit is used\u001b[39;00m\n\u001b[1;32m   1503\u001b[0m full_backward_hooks, non_full_backward_hooks \u001b[39m=\u001b[39m [], []\n",
      "File \u001b[0;32m~/anaconda3/envs/rlhf-gen-div/lib/python3.10/site-packages/accelerate/hooks.py:169\u001b[0m, in \u001b[0;36madd_hook_to_module.<locals>.new_forward\u001b[0;34m(module, *args, **kwargs)\u001b[0m\n\u001b[1;32m    167\u001b[0m         output \u001b[39m=\u001b[39m module\u001b[39m.\u001b[39m_old_forward(\u001b[39m*\u001b[39margs, \u001b[39m*\u001b[39m\u001b[39m*\u001b[39mkwargs)\n\u001b[1;32m    168\u001b[0m \u001b[39melse\u001b[39;00m:\n\u001b[0;32m--> 169\u001b[0m     output \u001b[39m=\u001b[39m module\u001b[39m.\u001b[39;49m_old_forward(\u001b[39m*\u001b[39;49margs, \u001b[39m*\u001b[39;49m\u001b[39m*\u001b[39;49mkwargs)\n\u001b[1;32m    170\u001b[0m \u001b[39mreturn\u001b[39;00m module\u001b[39m.\u001b[39m_hf_hook\u001b[39m.\u001b[39mpost_forward(module, output)\n",
      "File \u001b[0;32m~/anaconda3/envs/rlhf-gen-div/lib/python3.10/site-packages/transformers/models/mistral/modeling_mistral.py:1053\u001b[0m, in \u001b[0;36mMistralForCausalLM.forward\u001b[0;34m(self, input_ids, attention_mask, position_ids, past_key_values, inputs_embeds, labels, use_cache, output_attentions, output_hidden_states, return_dict)\u001b[0m\n\u001b[1;32m   1050\u001b[0m return_dict \u001b[39m=\u001b[39m return_dict \u001b[39mif\u001b[39;00m return_dict \u001b[39mis\u001b[39;00m \u001b[39mnot\u001b[39;00m \u001b[39mNone\u001b[39;00m \u001b[39melse\u001b[39;00m \u001b[39mself\u001b[39m\u001b[39m.\u001b[39mconfig\u001b[39m.\u001b[39muse_return_dict\n\u001b[1;32m   1052\u001b[0m \u001b[39m# decoder outputs consists of (dec_features, layer_state, dec_hidden, dec_attn)\u001b[39;00m\n\u001b[0;32m-> 1053\u001b[0m outputs \u001b[39m=\u001b[39m \u001b[39mself\u001b[39;49m\u001b[39m.\u001b[39;49mmodel(\n\u001b[1;32m   1054\u001b[0m     input_ids\u001b[39m=\u001b[39;49minput_ids,\n\u001b[1;32m   1055\u001b[0m     attention_mask\u001b[39m=\u001b[39;49mattention_mask,\n\u001b[1;32m   1056\u001b[0m     position_ids\u001b[39m=\u001b[39;49mposition_ids,\n\u001b[1;32m   1057\u001b[0m     past_key_values\u001b[39m=\u001b[39;49mpast_key_values,\n\u001b[1;32m   1058\u001b[0m     inputs_embeds\u001b[39m=\u001b[39;49minputs_embeds,\n\u001b[1;32m   1059\u001b[0m     use_cache\u001b[39m=\u001b[39;49muse_cache,\n\u001b[1;32m   1060\u001b[0m     output_attentions\u001b[39m=\u001b[39;49moutput_attentions,\n\u001b[1;32m   1061\u001b[0m     output_hidden_states\u001b[39m=\u001b[39;49moutput_hidden_states,\n\u001b[1;32m   1062\u001b[0m     return_dict\u001b[39m=\u001b[39;49mreturn_dict,\n\u001b[1;32m   1063\u001b[0m )\n\u001b[1;32m   1065\u001b[0m hidden_states \u001b[39m=\u001b[39m outputs[\u001b[39m0\u001b[39m]\n\u001b[1;32m   1066\u001b[0m logits \u001b[39m=\u001b[39m \u001b[39mself\u001b[39m\u001b[39m.\u001b[39mlm_head(hidden_states)\n",
      "File \u001b[0;32m~/anaconda3/envs/rlhf-gen-div/lib/python3.10/site-packages/torch/nn/modules/module.py:1501\u001b[0m, in \u001b[0;36mModule._call_impl\u001b[0;34m(self, *args, **kwargs)\u001b[0m\n\u001b[1;32m   1496\u001b[0m \u001b[39m# If we don't have any hooks, we want to skip the rest of the logic in\u001b[39;00m\n\u001b[1;32m   1497\u001b[0m \u001b[39m# this function, and just call forward.\u001b[39;00m\n\u001b[1;32m   1498\u001b[0m \u001b[39mif\u001b[39;00m \u001b[39mnot\u001b[39;00m (\u001b[39mself\u001b[39m\u001b[39m.\u001b[39m_backward_hooks \u001b[39mor\u001b[39;00m \u001b[39mself\u001b[39m\u001b[39m.\u001b[39m_backward_pre_hooks \u001b[39mor\u001b[39;00m \u001b[39mself\u001b[39m\u001b[39m.\u001b[39m_forward_hooks \u001b[39mor\u001b[39;00m \u001b[39mself\u001b[39m\u001b[39m.\u001b[39m_forward_pre_hooks\n\u001b[1;32m   1499\u001b[0m         \u001b[39mor\u001b[39;00m _global_backward_pre_hooks \u001b[39mor\u001b[39;00m _global_backward_hooks\n\u001b[1;32m   1500\u001b[0m         \u001b[39mor\u001b[39;00m _global_forward_hooks \u001b[39mor\u001b[39;00m _global_forward_pre_hooks):\n\u001b[0;32m-> 1501\u001b[0m     \u001b[39mreturn\u001b[39;00m forward_call(\u001b[39m*\u001b[39;49margs, \u001b[39m*\u001b[39;49m\u001b[39m*\u001b[39;49mkwargs)\n\u001b[1;32m   1502\u001b[0m \u001b[39m# Do not call functions when jit is used\u001b[39;00m\n\u001b[1;32m   1503\u001b[0m full_backward_hooks, non_full_backward_hooks \u001b[39m=\u001b[39m [], []\n",
      "File \u001b[0;32m~/anaconda3/envs/rlhf-gen-div/lib/python3.10/site-packages/accelerate/hooks.py:169\u001b[0m, in \u001b[0;36madd_hook_to_module.<locals>.new_forward\u001b[0;34m(module, *args, **kwargs)\u001b[0m\n\u001b[1;32m    167\u001b[0m         output \u001b[39m=\u001b[39m module\u001b[39m.\u001b[39m_old_forward(\u001b[39m*\u001b[39margs, \u001b[39m*\u001b[39m\u001b[39m*\u001b[39mkwargs)\n\u001b[1;32m    168\u001b[0m \u001b[39melse\u001b[39;00m:\n\u001b[0;32m--> 169\u001b[0m     output \u001b[39m=\u001b[39m module\u001b[39m.\u001b[39;49m_old_forward(\u001b[39m*\u001b[39;49margs, \u001b[39m*\u001b[39;49m\u001b[39m*\u001b[39;49mkwargs)\n\u001b[1;32m    170\u001b[0m \u001b[39mreturn\u001b[39;00m module\u001b[39m.\u001b[39m_hf_hook\u001b[39m.\u001b[39mpost_forward(module, output)\n",
      "File \u001b[0;32m~/anaconda3/envs/rlhf-gen-div/lib/python3.10/site-packages/transformers/models/mistral/modeling_mistral.py:938\u001b[0m, in \u001b[0;36mMistralModel.forward\u001b[0;34m(self, input_ids, attention_mask, position_ids, past_key_values, inputs_embeds, use_cache, output_attentions, output_hidden_states, return_dict)\u001b[0m\n\u001b[1;32m    928\u001b[0m     layer_outputs \u001b[39m=\u001b[39m \u001b[39mself\u001b[39m\u001b[39m.\u001b[39m_gradient_checkpointing_func(\n\u001b[1;32m    929\u001b[0m         decoder_layer\u001b[39m.\u001b[39m\u001b[39m__call__\u001b[39m,\n\u001b[1;32m    930\u001b[0m         hidden_states,\n\u001b[0;32m   (...)\u001b[0m\n\u001b[1;32m    935\u001b[0m         use_cache,\n\u001b[1;32m    936\u001b[0m     )\n\u001b[1;32m    937\u001b[0m \u001b[39melse\u001b[39;00m:\n\u001b[0;32m--> 938\u001b[0m     layer_outputs \u001b[39m=\u001b[39m decoder_layer(\n\u001b[1;32m    939\u001b[0m         hidden_states,\n\u001b[1;32m    940\u001b[0m         attention_mask\u001b[39m=\u001b[39;49mattention_mask,\n\u001b[1;32m    941\u001b[0m         position_ids\u001b[39m=\u001b[39;49mposition_ids,\n\u001b[1;32m    942\u001b[0m         past_key_value\u001b[39m=\u001b[39;49mpast_key_values,\n\u001b[1;32m    943\u001b[0m         output_attentions\u001b[39m=\u001b[39;49moutput_attentions,\n\u001b[1;32m    944\u001b[0m         use_cache\u001b[39m=\u001b[39;49muse_cache,\n\u001b[1;32m    945\u001b[0m     )\n\u001b[1;32m    947\u001b[0m hidden_states \u001b[39m=\u001b[39m layer_outputs[\u001b[39m0\u001b[39m]\n\u001b[1;32m    949\u001b[0m \u001b[39mif\u001b[39;00m use_cache:\n",
      "File \u001b[0;32m~/anaconda3/envs/rlhf-gen-div/lib/python3.10/site-packages/torch/nn/modules/module.py:1501\u001b[0m, in \u001b[0;36mModule._call_impl\u001b[0;34m(self, *args, **kwargs)\u001b[0m\n\u001b[1;32m   1496\u001b[0m \u001b[39m# If we don't have any hooks, we want to skip the rest of the logic in\u001b[39;00m\n\u001b[1;32m   1497\u001b[0m \u001b[39m# this function, and just call forward.\u001b[39;00m\n\u001b[1;32m   1498\u001b[0m \u001b[39mif\u001b[39;00m \u001b[39mnot\u001b[39;00m (\u001b[39mself\u001b[39m\u001b[39m.\u001b[39m_backward_hooks \u001b[39mor\u001b[39;00m \u001b[39mself\u001b[39m\u001b[39m.\u001b[39m_backward_pre_hooks \u001b[39mor\u001b[39;00m \u001b[39mself\u001b[39m\u001b[39m.\u001b[39m_forward_hooks \u001b[39mor\u001b[39;00m \u001b[39mself\u001b[39m\u001b[39m.\u001b[39m_forward_pre_hooks\n\u001b[1;32m   1499\u001b[0m         \u001b[39mor\u001b[39;00m _global_backward_pre_hooks \u001b[39mor\u001b[39;00m _global_backward_hooks\n\u001b[1;32m   1500\u001b[0m         \u001b[39mor\u001b[39;00m _global_forward_hooks \u001b[39mor\u001b[39;00m _global_forward_pre_hooks):\n\u001b[0;32m-> 1501\u001b[0m     \u001b[39mreturn\u001b[39;00m forward_call(\u001b[39m*\u001b[39;49margs, \u001b[39m*\u001b[39;49m\u001b[39m*\u001b[39;49mkwargs)\n\u001b[1;32m   1502\u001b[0m \u001b[39m# Do not call functions when jit is used\u001b[39;00m\n\u001b[1;32m   1503\u001b[0m full_backward_hooks, non_full_backward_hooks \u001b[39m=\u001b[39m [], []\n",
      "File \u001b[0;32m~/anaconda3/envs/rlhf-gen-div/lib/python3.10/site-packages/accelerate/hooks.py:169\u001b[0m, in \u001b[0;36madd_hook_to_module.<locals>.new_forward\u001b[0;34m(module, *args, **kwargs)\u001b[0m\n\u001b[1;32m    167\u001b[0m         output \u001b[39m=\u001b[39m module\u001b[39m.\u001b[39m_old_forward(\u001b[39m*\u001b[39margs, \u001b[39m*\u001b[39m\u001b[39m*\u001b[39mkwargs)\n\u001b[1;32m    168\u001b[0m \u001b[39melse\u001b[39;00m:\n\u001b[0;32m--> 169\u001b[0m     output \u001b[39m=\u001b[39m module\u001b[39m.\u001b[39;49m_old_forward(\u001b[39m*\u001b[39;49margs, \u001b[39m*\u001b[39;49m\u001b[39m*\u001b[39;49mkwargs)\n\u001b[1;32m    170\u001b[0m \u001b[39mreturn\u001b[39;00m module\u001b[39m.\u001b[39m_hf_hook\u001b[39m.\u001b[39mpost_forward(module, output)\n",
      "File \u001b[0;32m~/anaconda3/envs/rlhf-gen-div/lib/python3.10/site-packages/transformers/models/mistral/modeling_mistral.py:676\u001b[0m, in \u001b[0;36mMistralDecoderLayer.forward\u001b[0;34m(self, hidden_states, attention_mask, position_ids, past_key_value, output_attentions, use_cache, **kwargs)\u001b[0m\n\u001b[1;32m    674\u001b[0m residual \u001b[39m=\u001b[39m hidden_states\n\u001b[1;32m    675\u001b[0m hidden_states \u001b[39m=\u001b[39m \u001b[39mself\u001b[39m\u001b[39m.\u001b[39mpost_attention_layernorm(hidden_states)\n\u001b[0;32m--> 676\u001b[0m hidden_states \u001b[39m=\u001b[39m \u001b[39mself\u001b[39;49m\u001b[39m.\u001b[39;49mmlp(hidden_states)\n\u001b[1;32m    677\u001b[0m hidden_states \u001b[39m=\u001b[39m residual \u001b[39m+\u001b[39m hidden_states\n\u001b[1;32m    679\u001b[0m outputs \u001b[39m=\u001b[39m (hidden_states,)\n",
      "File \u001b[0;32m~/anaconda3/envs/rlhf-gen-div/lib/python3.10/site-packages/torch/nn/modules/module.py:1501\u001b[0m, in \u001b[0;36mModule._call_impl\u001b[0;34m(self, *args, **kwargs)\u001b[0m\n\u001b[1;32m   1496\u001b[0m \u001b[39m# If we don't have any hooks, we want to skip the rest of the logic in\u001b[39;00m\n\u001b[1;32m   1497\u001b[0m \u001b[39m# this function, and just call forward.\u001b[39;00m\n\u001b[1;32m   1498\u001b[0m \u001b[39mif\u001b[39;00m \u001b[39mnot\u001b[39;00m (\u001b[39mself\u001b[39m\u001b[39m.\u001b[39m_backward_hooks \u001b[39mor\u001b[39;00m \u001b[39mself\u001b[39m\u001b[39m.\u001b[39m_backward_pre_hooks \u001b[39mor\u001b[39;00m \u001b[39mself\u001b[39m\u001b[39m.\u001b[39m_forward_hooks \u001b[39mor\u001b[39;00m \u001b[39mself\u001b[39m\u001b[39m.\u001b[39m_forward_pre_hooks\n\u001b[1;32m   1499\u001b[0m         \u001b[39mor\u001b[39;00m _global_backward_pre_hooks \u001b[39mor\u001b[39;00m _global_backward_hooks\n\u001b[1;32m   1500\u001b[0m         \u001b[39mor\u001b[39;00m _global_forward_hooks \u001b[39mor\u001b[39;00m _global_forward_pre_hooks):\n\u001b[0;32m-> 1501\u001b[0m     \u001b[39mreturn\u001b[39;00m forward_call(\u001b[39m*\u001b[39;49margs, \u001b[39m*\u001b[39;49m\u001b[39m*\u001b[39;49mkwargs)\n\u001b[1;32m   1502\u001b[0m \u001b[39m# Do not call functions when jit is used\u001b[39;00m\n\u001b[1;32m   1503\u001b[0m full_backward_hooks, non_full_backward_hooks \u001b[39m=\u001b[39m [], []\n",
      "File \u001b[0;32m~/anaconda3/envs/rlhf-gen-div/lib/python3.10/site-packages/accelerate/hooks.py:169\u001b[0m, in \u001b[0;36madd_hook_to_module.<locals>.new_forward\u001b[0;34m(module, *args, **kwargs)\u001b[0m\n\u001b[1;32m    167\u001b[0m         output \u001b[39m=\u001b[39m module\u001b[39m.\u001b[39m_old_forward(\u001b[39m*\u001b[39margs, \u001b[39m*\u001b[39m\u001b[39m*\u001b[39mkwargs)\n\u001b[1;32m    168\u001b[0m \u001b[39melse\u001b[39;00m:\n\u001b[0;32m--> 169\u001b[0m     output \u001b[39m=\u001b[39m module\u001b[39m.\u001b[39;49m_old_forward(\u001b[39m*\u001b[39;49margs, \u001b[39m*\u001b[39;49m\u001b[39m*\u001b[39;49mkwargs)\n\u001b[1;32m    170\u001b[0m \u001b[39mreturn\u001b[39;00m module\u001b[39m.\u001b[39m_hf_hook\u001b[39m.\u001b[39mpost_forward(module, output)\n",
      "File \u001b[0;32m~/anaconda3/envs/rlhf-gen-div/lib/python3.10/site-packages/transformers/models/mistral/modeling_mistral.py:177\u001b[0m, in \u001b[0;36mMistralMLP.forward\u001b[0;34m(self, x)\u001b[0m\n\u001b[1;32m    176\u001b[0m \u001b[39mdef\u001b[39;00m \u001b[39mforward\u001b[39m(\u001b[39mself\u001b[39m, x):\n\u001b[0;32m--> 177\u001b[0m     \u001b[39mreturn\u001b[39;00m \u001b[39mself\u001b[39m\u001b[39m.\u001b[39mdown_proj(\u001b[39mself\u001b[39m\u001b[39m.\u001b[39mact_fn(\u001b[39mself\u001b[39;49m\u001b[39m.\u001b[39;49mgate_proj(x)) \u001b[39m*\u001b[39m \u001b[39mself\u001b[39m\u001b[39m.\u001b[39mup_proj(x))\n",
      "File \u001b[0;32m~/anaconda3/envs/rlhf-gen-div/lib/python3.10/site-packages/torch/nn/modules/module.py:1501\u001b[0m, in \u001b[0;36mModule._call_impl\u001b[0;34m(self, *args, **kwargs)\u001b[0m\n\u001b[1;32m   1496\u001b[0m \u001b[39m# If we don't have any hooks, we want to skip the rest of the logic in\u001b[39;00m\n\u001b[1;32m   1497\u001b[0m \u001b[39m# this function, and just call forward.\u001b[39;00m\n\u001b[1;32m   1498\u001b[0m \u001b[39mif\u001b[39;00m \u001b[39mnot\u001b[39;00m (\u001b[39mself\u001b[39m\u001b[39m.\u001b[39m_backward_hooks \u001b[39mor\u001b[39;00m \u001b[39mself\u001b[39m\u001b[39m.\u001b[39m_backward_pre_hooks \u001b[39mor\u001b[39;00m \u001b[39mself\u001b[39m\u001b[39m.\u001b[39m_forward_hooks \u001b[39mor\u001b[39;00m \u001b[39mself\u001b[39m\u001b[39m.\u001b[39m_forward_pre_hooks\n\u001b[1;32m   1499\u001b[0m         \u001b[39mor\u001b[39;00m _global_backward_pre_hooks \u001b[39mor\u001b[39;00m _global_backward_hooks\n\u001b[1;32m   1500\u001b[0m         \u001b[39mor\u001b[39;00m _global_forward_hooks \u001b[39mor\u001b[39;00m _global_forward_pre_hooks):\n\u001b[0;32m-> 1501\u001b[0m     \u001b[39mreturn\u001b[39;00m forward_call(\u001b[39m*\u001b[39;49margs, \u001b[39m*\u001b[39;49m\u001b[39m*\u001b[39;49mkwargs)\n\u001b[1;32m   1502\u001b[0m \u001b[39m# Do not call functions when jit is used\u001b[39;00m\n\u001b[1;32m   1503\u001b[0m full_backward_hooks, non_full_backward_hooks \u001b[39m=\u001b[39m [], []\n",
      "File \u001b[0;32m~/anaconda3/envs/rlhf-gen-div/lib/python3.10/site-packages/accelerate/hooks.py:169\u001b[0m, in \u001b[0;36madd_hook_to_module.<locals>.new_forward\u001b[0;34m(module, *args, **kwargs)\u001b[0m\n\u001b[1;32m    167\u001b[0m         output \u001b[39m=\u001b[39m module\u001b[39m.\u001b[39m_old_forward(\u001b[39m*\u001b[39margs, \u001b[39m*\u001b[39m\u001b[39m*\u001b[39mkwargs)\n\u001b[1;32m    168\u001b[0m \u001b[39melse\u001b[39;00m:\n\u001b[0;32m--> 169\u001b[0m     output \u001b[39m=\u001b[39m module\u001b[39m.\u001b[39;49m_old_forward(\u001b[39m*\u001b[39;49margs, \u001b[39m*\u001b[39;49m\u001b[39m*\u001b[39;49mkwargs)\n\u001b[1;32m    170\u001b[0m \u001b[39mreturn\u001b[39;00m module\u001b[39m.\u001b[39m_hf_hook\u001b[39m.\u001b[39mpost_forward(module, output)\n",
      "File \u001b[0;32m~/anaconda3/envs/rlhf-gen-div/lib/python3.10/site-packages/bitsandbytes/nn/modules.py:812\u001b[0m, in \u001b[0;36mLinear8bitLt.forward\u001b[0;34m(self, x)\u001b[0m\n\u001b[1;32m    809\u001b[0m \u001b[39mif\u001b[39;00m \u001b[39mself\u001b[39m\u001b[39m.\u001b[39mbias \u001b[39mis\u001b[39;00m \u001b[39mnot\u001b[39;00m \u001b[39mNone\u001b[39;00m \u001b[39mand\u001b[39;00m \u001b[39mself\u001b[39m\u001b[39m.\u001b[39mbias\u001b[39m.\u001b[39mdtype \u001b[39m!=\u001b[39m x\u001b[39m.\u001b[39mdtype:\n\u001b[1;32m    810\u001b[0m     \u001b[39mself\u001b[39m\u001b[39m.\u001b[39mbias\u001b[39m.\u001b[39mdata \u001b[39m=\u001b[39m \u001b[39mself\u001b[39m\u001b[39m.\u001b[39mbias\u001b[39m.\u001b[39mdata\u001b[39m.\u001b[39mto(x\u001b[39m.\u001b[39mdtype)\n\u001b[0;32m--> 812\u001b[0m out \u001b[39m=\u001b[39m bnb\u001b[39m.\u001b[39;49mmatmul(x, \u001b[39mself\u001b[39;49m\u001b[39m.\u001b[39;49mweight, bias\u001b[39m=\u001b[39;49m\u001b[39mself\u001b[39;49m\u001b[39m.\u001b[39;49mbias, state\u001b[39m=\u001b[39;49m\u001b[39mself\u001b[39;49m\u001b[39m.\u001b[39;49mstate)\n\u001b[1;32m    814\u001b[0m \u001b[39mif\u001b[39;00m \u001b[39mnot\u001b[39;00m \u001b[39mself\u001b[39m\u001b[39m.\u001b[39mstate\u001b[39m.\u001b[39mhas_fp16_weights:\n\u001b[1;32m    815\u001b[0m     \u001b[39mif\u001b[39;00m \u001b[39mself\u001b[39m\u001b[39m.\u001b[39mstate\u001b[39m.\u001b[39mCB \u001b[39mis\u001b[39;00m \u001b[39mnot\u001b[39;00m \u001b[39mNone\u001b[39;00m \u001b[39mand\u001b[39;00m \u001b[39mself\u001b[39m\u001b[39m.\u001b[39mstate\u001b[39m.\u001b[39mCxB \u001b[39mis\u001b[39;00m \u001b[39mnot\u001b[39;00m \u001b[39mNone\u001b[39;00m:\n\u001b[1;32m    816\u001b[0m         \u001b[39m# we converted 8-bit row major to turing/ampere format in the first inference pass\u001b[39;00m\n\u001b[1;32m    817\u001b[0m         \u001b[39m# we no longer need the row-major weight\u001b[39;00m\n",
      "File \u001b[0;32m~/anaconda3/envs/rlhf-gen-div/lib/python3.10/site-packages/bitsandbytes/autograd/_functions.py:556\u001b[0m, in \u001b[0;36mmatmul\u001b[0;34m(A, B, out, state, threshold, bias)\u001b[0m\n\u001b[1;32m    554\u001b[0m \u001b[39mif\u001b[39;00m threshold \u001b[39m>\u001b[39m \u001b[39m0.0\u001b[39m:\n\u001b[1;32m    555\u001b[0m     state\u001b[39m.\u001b[39mthreshold \u001b[39m=\u001b[39m threshold\n\u001b[0;32m--> 556\u001b[0m \u001b[39mreturn\u001b[39;00m MatMul8bitLt\u001b[39m.\u001b[39;49mapply(A, B, out, bias, state)\n",
      "File \u001b[0;32m~/anaconda3/envs/rlhf-gen-div/lib/python3.10/site-packages/torch/autograd/function.py:506\u001b[0m, in \u001b[0;36mFunction.apply\u001b[0;34m(cls, *args, **kwargs)\u001b[0m\n\u001b[1;32m    503\u001b[0m \u001b[39mif\u001b[39;00m \u001b[39mnot\u001b[39;00m torch\u001b[39m.\u001b[39m_C\u001b[39m.\u001b[39m_are_functorch_transforms_active():\n\u001b[1;32m    504\u001b[0m     \u001b[39m# See NOTE: [functorch vjp and autograd interaction]\u001b[39;00m\n\u001b[1;32m    505\u001b[0m     args \u001b[39m=\u001b[39m _functorch\u001b[39m.\u001b[39mutils\u001b[39m.\u001b[39munwrap_dead_wrappers(args)\n\u001b[0;32m--> 506\u001b[0m     \u001b[39mreturn\u001b[39;00m \u001b[39msuper\u001b[39;49m()\u001b[39m.\u001b[39;49mapply(\u001b[39m*\u001b[39;49margs, \u001b[39m*\u001b[39;49m\u001b[39m*\u001b[39;49mkwargs)  \u001b[39m# type: ignore[misc]\u001b[39;00m\n\u001b[1;32m    508\u001b[0m \u001b[39mif\u001b[39;00m \u001b[39mcls\u001b[39m\u001b[39m.\u001b[39msetup_context \u001b[39m==\u001b[39m _SingleLevelFunction\u001b[39m.\u001b[39msetup_context:\n\u001b[1;32m    509\u001b[0m     \u001b[39mraise\u001b[39;00m \u001b[39mRuntimeError\u001b[39;00m(\n\u001b[1;32m    510\u001b[0m         \u001b[39m'\u001b[39m\u001b[39mIn order to use an autograd.Function with functorch transforms \u001b[39m\u001b[39m'\u001b[39m\n\u001b[1;32m    511\u001b[0m         \u001b[39m'\u001b[39m\u001b[39m(vmap, grad, jvp, jacrev, ...), it must override the setup_context \u001b[39m\u001b[39m'\u001b[39m\n\u001b[1;32m    512\u001b[0m         \u001b[39m'\u001b[39m\u001b[39mstaticmethod. For more details, please see \u001b[39m\u001b[39m'\u001b[39m\n\u001b[1;32m    513\u001b[0m         \u001b[39m'\u001b[39m\u001b[39mhttps://pytorch.org/docs/master/notes/extending.func.html\u001b[39m\u001b[39m'\u001b[39m)\n",
      "File \u001b[0;32m~/anaconda3/envs/rlhf-gen-div/lib/python3.10/site-packages/bitsandbytes/autograd/_functions.py:321\u001b[0m, in \u001b[0;36mMatMul8bitLt.forward\u001b[0;34m(ctx, A, B, out, bias, state)\u001b[0m\n\u001b[1;32m    319\u001b[0m \u001b[39mif\u001b[39;00m \u001b[39mlen\u001b[39m(A\u001b[39m.\u001b[39mshape) \u001b[39m==\u001b[39m \u001b[39m3\u001b[39m:\n\u001b[1;32m    320\u001b[0m     A \u001b[39m=\u001b[39m A\u001b[39m.\u001b[39mreshape(\u001b[39m-\u001b[39m\u001b[39m1\u001b[39m, A\u001b[39m.\u001b[39mshape[\u001b[39m-\u001b[39m\u001b[39m1\u001b[39m])\n\u001b[0;32m--> 321\u001b[0m CA, CAt, SCA, SCAt, coo_tensorA \u001b[39m=\u001b[39m F\u001b[39m.\u001b[39;49mdouble_quant(A\u001b[39m.\u001b[39;49mto(torch\u001b[39m.\u001b[39;49mfloat16), threshold\u001b[39m=\u001b[39;49mstate\u001b[39m.\u001b[39;49mthreshold)\n\u001b[1;32m    323\u001b[0m \u001b[39mif\u001b[39;00m state\u001b[39m.\u001b[39mthreshold \u001b[39m>\u001b[39m \u001b[39m0.0\u001b[39m \u001b[39mand\u001b[39;00m coo_tensorA \u001b[39mis\u001b[39;00m \u001b[39mnot\u001b[39;00m \u001b[39mNone\u001b[39;00m:\n\u001b[1;32m    324\u001b[0m     \u001b[39mif\u001b[39;00m state\u001b[39m.\u001b[39mhas_fp16_weights:\n",
      "File \u001b[0;32m~/anaconda3/envs/rlhf-gen-div/lib/python3.10/site-packages/bitsandbytes/functional.py:2595\u001b[0m, in \u001b[0;36mdouble_quant\u001b[0;34m(A, col_stats, row_stats, out_col, out_row, threshold)\u001b[0m\n\u001b[1;32m   2580\u001b[0m \u001b[39melse\u001b[39;00m:\n\u001b[1;32m   2581\u001b[0m     lib\u001b[39m.\u001b[39mcdouble_rowcol_quant(\n\u001b[1;32m   2582\u001b[0m         ptrA,\n\u001b[1;32m   2583\u001b[0m         ptrRowStats,\n\u001b[0;32m   (...)\u001b[0m\n\u001b[1;32m   2593\u001b[0m         ct\u001b[39m.\u001b[39mc_int32(cols),\n\u001b[1;32m   2594\u001b[0m     )\n\u001b[0;32m-> 2595\u001b[0m post_call(prev_device)\n\u001b[1;32m   2597\u001b[0m \u001b[39mreturn\u001b[39;00m out_row, out_col, row_stats, col_stats, coo_tensor\n",
      "File \u001b[0;32m~/anaconda3/envs/rlhf-gen-div/lib/python3.10/site-packages/bitsandbytes/functional.py:467\u001b[0m, in \u001b[0;36mpost_call\u001b[0;34m(prev_device)\u001b[0m\n\u001b[1;32m    463\u001b[0m     torch\u001b[39m.\u001b[39mcuda\u001b[39m.\u001b[39mset_device(device)\n\u001b[1;32m    464\u001b[0m     \u001b[39mreturn\u001b[39;00m prev_device\n\u001b[0;32m--> 467\u001b[0m \u001b[39mdef\u001b[39;00m \u001b[39mpost_call\u001b[39m(prev_device):\n\u001b[1;32m    468\u001b[0m     torch\u001b[39m.\u001b[39mcuda\u001b[39m.\u001b[39mset_device(prev_device)\n\u001b[1;32m    471\u001b[0m \u001b[39mdef\u001b[39;00m \u001b[39mget_transform_func\u001b[39m(dtype, orderA, orderOut, transpose\u001b[39m=\u001b[39m\u001b[39mFalse\u001b[39;00m):\n",
      "\u001b[0;31mKeyboardInterrupt\u001b[0m: "
     ]
    }
   ],
   "source": [
    "from tqdm import tqdm\n",
    "\n",
    "outputs = []\n",
    "\n",
    "\n",
    "prompt_input_ids = tokenizer.encode(prompt, return_tensors=\"pt\").to(device)\n",
    "\n",
    "summarization_ratio_lenth = 0.15\n",
    "max_length = int(len(prompt_input_ids[0]) * (1 + summarization_ratio_lenth))\n",
    "print(max_length)\n",
    "\n",
    "for _ in tqdm(range(16)):\n",
    "    with torch.no_grad():\n",
    "        output = model.generate(prompt_input_ids.to(device),\n",
    "                                pad_token_id=tokenizer.eos_token_id,\n",
    "                                do_sample=True, \n",
    "                                max_length=max_length,\n",
    "                                temperature=1.0, \n",
    "                                top_k=0,\n",
    "                                top_p=1\n",
    "                                )\n",
    "        generated_text = tokenizer.decode(output[0], skip_special_tokens=True)\n",
    "    print(generated_text)\n",
    "    print(\"==============================\")"
   ]
  },
  {
   "cell_type": "code",
   "execution_count": null,
   "metadata": {},
   "outputs": [],
   "source": []
  },
  {
   "cell_type": "code",
   "execution_count": 50,
   "metadata": {},
   "outputs": [
    {
     "data": {
      "text/plain": [
       "2503"
      ]
     },
     "execution_count": 50,
     "metadata": {},
     "output_type": "execute_result"
    }
   ],
   "source": [
    "len(output[0])"
   ]
  },
  {
   "cell_type": "code",
   "execution_count": 51,
   "metadata": {},
   "outputs": [
    {
     "data": {
      "text/plain": [
       "'Twoim zadaniem jest przeczytanie podanego tekstu i napisanie streszczenia w języku polskim. Streszczenie powinno zawierać najważniejsze informacje i wydarzenia opisane w tekście, być zwięzłe i dobrze zorganizowane. Unikaj wprowadzania nowych informacji oraz osobistych opinii.\\n\\n###\\n\\nTekst: Zamach w Sarajewie Zamach w Sarajewie – zamach na następcę austro-węgierskiego tronu, arcyksięcia Franciszka Ferdynanda i jego żonę Zofię, księżnę Hohenberg, dokonany 28 czerwca 1914 roku przez bośniackiego Serba Gavrila Principa, członka serbskiej nacjonalistycznej organizacji \"Młoda Bośnia\". Princip wraz z pięcioma innymi uczestnikami zamachu powiązany był z serbską tajną organizacją \"Zjednoczenie lub śmierć\", popularnie nazywaną \"Czarna Ręka\", którą kierował Dragutin Dimitrijević pseudonim \"Apis\", szef serbskiego wywiadu wojskowego. Morderstwo następcy tronu austro-węgierskiego stworzyło napięcie pomiędzy Wiedniem a Belgradem. Austro-Węgry wysunęły ultimatum domagając się usunięcia wrogiej propagandy, a także udziału reprezentantów rządu cesarsko-królewskiego w śledztwie na terenie Serbii. Odrzucenie części żądań przez Serbię doprowadziło do tzw. kryzysu lipcowego, a w konsekwencji do wybuchu I wojny światowej. Przygotowania Przygotowania do zamachu rozpoczęto w marcu 1914 r., gdy prasa zapowiedziała przyjazd Franciszka Ferdynanda do Sarajewa. Ćwiczenia prowadzono w lasach pod Belgradem. Nedeljko Čabrinović, Gavrilo Princip i Trifko Grabež dotarli do Sarajewa 4 czerwca i zamieszkali u krewnych lub znajomych. Zamachowcy byli wyposażeni w cztery pistolety, sześć bomb domowej roboty i kapsułki z cyjankiem. Koordynacją działań na miejscu zajmował się miejscowy dziennikarz Danilo Ilić, on też zwerbował na miejscu Cvjetka Popovicia i Muhameda Mehmedbašicia. Zamachowcy zajęli pozycje na liczącej 4 km trasie z dworca kolejowego do ratusza, gdzie na arcyksięcia czekały władze miasta. Obstawili odcinek 300 metrów od Mostu Ćumurija, gdzie czekali Popović i Ilić, do Mostu Cesarskiego. Przy kawiarni Mostar oczekiwali Mehmedbašić i Čubrilović, Čabrinović na wysokości Drewnianego Mostu, Princip przy Moście Łacińskim, a Grabež przy Moście Cesarskim. Przebieg wydarzenia 28 czerwca 1914 roku arcyksiążę Franciszek Ferdynand Habsburg wraz z towarzyszącą mu małżonką Zofią von Chotek obchodzili rocznicę swojego ślubu. Z tej okazji wzięli udział we mszy odprawionej w hotelu „Bosna” w kurorcie Ilidža (godz. 9:00), 10 km na zachód od Sarajewa, do którego wyruszyli pociągiem około godz. 9:42. Do samego Sarajewa para przybyła o godz. 10:07. Na dworcu miejskim czekała kolumna sześciu aut, w tym oliwkowoszara sportowa limuzyna marki Gräf &amp; Stift ze składanym dachem dla wizytującej pary. W limuzynie wraz z Franciszkiem Ferdynandem i jego żoną jechali także: szofer Leopold Lojka, szef straży przybocznej – hrabia Franz von Harrach oraz wojskowy gubernator Bośni i Hercegowiny – Oskar Potiorek. Trasa przejazdu była publicznie podana do wiadomości kilka dni wcześniej. W trakcie przejazdu pierwszemu z zamachowców, Mehmedbašiciowi, nie udało się rozeznać, w którym aucie siedzi arcyksiążę. Kolejny ze spiskowców, Vaso Čubrilović, nie odważył się strzelać, widząc w pojeździe Franciszka i jego żonę, a Popović stał zbyt daleko i ze względu na słaby wzrok nie wiedział, w kogo celować. Pierwsza próba zamachu miała miejsce około godz. 10:26 przy Moście Ćumurija. Čabrinović rzucił w kierunku auta ręczny granat, ale dzięki refleksowi kierowcy limuzyny z arcyksięciem granat odbił się od płóciennego dachu samochodu i eksplodując, zniszczył następny samochód jadący w kolumnie raniąc pasażerów, policjanta i osoby z tłumu – łącznie 17 osób. Stojący w pobliżu Princip nie zaatakował, gdyż jego uwagę przyciągnęło aresztowanie Čabrinovicia, a Grabež był nieprzygotowany na to, że samochód arcyksięcia będzie poruszać się tak szybko. Para książęca przybyła do sarajewskiego ratusza o godzinie 10:30. Dziesięć minut później Franciszek Ferdynand z żoną opuścił ratusz z zamiarem odwiedzenia rannych w wyniku eksplozji, a ochrona zdecydowała o zmianie trasy przejazdu. Samochód z arcyksięciem, zwalniając na zakręcie na wysokości Mostu Łacińskiego, mijał kolejnego spiskowca, Grabeža, który nie chciał ryzykować postrzału postronnych osób. W tym miejscu samochód miał skręcić w prawo, a nie jak pierwotnie planowano pojechać prosto, ale kierowca nie dowiedział się o zmianie planów. Po przejechaniu skrzyżowania szofer zatrzymał auto na rozkaz szefa ochrony i zaczął zawracać. Drugi ze znajdujących się przypadkowo przy drugim przejeździe arcyksięcia zamachowiec, Princip, oddał dwa strzały w kierunku pary arcyksiążęcej. Pierwszy strzał trafił Zofię von Chotek w podbrzusze, druga kula przeszyła tchawicę i tętnicę szyjną jej męża. Oboje nie przeżyli (atak Principa około godz. 10:50). Napastnika zauważył detektyw Smail Spahović, który usiłował go obezwładnić, jednak Princip uderzył go pistoletem w głowę. Princip usiłował się zastrzelić, ale broń wytrącił mu detektyw Anto Velić. Następnie bezskutecznie próbował otruć się przygotowaną dawką cyjanku. Tłum chciał go zlinczować, lecz nie dopuściła do tego policja. Kolumna samochodów ze śmiertelnie postrzeloną parą o godz. 10:55 dotarła do rezydencji (konaku), gdzie urzędował Oskar Potiorek, współpasażer tragicznej jazdy pary arcyksiążęcej. Akt zgonu określił śmierć arcyksięcia Ferdynanda i jego żony na\\n\\nStreszczenie:\\n\\nPraca dotyczy zamachu an ulicach Sarajewa sprzed 100 lat. Odniesionw wtedy rany zmarłego 1 czerwca 1914 roku Arcyksięcia Franciszka Ferdynanda doprowadziły do wybuchu I Wojny światowej. Autorka opisuje w pracy kulisy przygotowania oraz sam przebbieg ataku zamachowca. Podkreślając pierwsze kroki spiskowców jak: wizę w konsulacie austriackiego w Berlinie, misje wywiadowcze w Belgradzie, gromadzenie informacji na temat pary arcyksiążęcej zabijanie niewinnych osób dla zyskania ważnych informacji w formie zmylni przed śmiercią. Ciekawe kolejne strzały, treść \"brat by wolał a ty wolisz brata\" oraz niewłaściwe zachowywanie zamachowców, którzy musieli postrzelić ofiary żeby później je unieszkodliwić.'"
      ]
     },
     "execution_count": 51,
     "metadata": {},
     "output_type": "execute_result"
    }
   ],
   "source": [
    "tokenizer.decode(output[0], skip_special_tokens=True)"
   ]
  },
  {
   "cell_type": "code",
   "execution_count": 53,
   "metadata": {},
   "outputs": [
    {
     "data": {
      "text/plain": [
       "'Praca dotyczy zamachu an ulicach Sarajewa sprzed 100 lat. Odniesionw wtedy rany zmarłego 1 czerwca 1914 roku Arcyksięcia Franciszka Ferdynanda doprowadziły do wybuchu I Wojny światowej. Autorka opisuje w pracy kulisy przygotowania oraz sam przebbieg ataku zamachowca. Podkreślając pierwsze kroki spiskowców jak: wizę w konsulacie austriackiego w Berlinie, misje wywiadowcze w Belgradzie, gromadzenie informacji na temat pary arcyksiążęcej zabijanie niewinnych osób dla zyskania ważnych informacji w formie zmylni przed śmiercią. Ciekawe kolejne strzały, treść \"brat by wolał a ty wolisz brata\" oraz niewłaściwe zachowywanie zamachowców, którzy musieli postrzelić ofiary żeby później je unieszkodliwić.'"
      ]
     },
     "execution_count": 53,
     "metadata": {},
     "output_type": "execute_result"
    }
   ],
   "source": [
    "tokenizer.decode(output[0][len(input_ids[0]):], skip_special_tokens=True).strip()"
   ]
  },
  {
   "cell_type": "code",
   "execution_count": 16,
   "metadata": {},
   "outputs": [],
   "source": [
    "#read json\n",
    "import json\n",
    "\n",
    "with open('../Bielik-7B-v0.1_summarization-chat-annotated.json') as f:\n",
    "    data = json.load(f)"
   ]
  },
  {
   "cell_type": "code",
   "execution_count": 20,
   "metadata": {},
   "outputs": [
    {
     "data": {
      "text/plain": [
       "['1. 2. 3. 4. 5. podsumowanie',\n",
       " 'Zamach w Sarajewie był spowodowany przez Gavrila Principa i sześciu innych członków Zjednoczenia lub śmierci. Cel zamachu był arcyksiążę Franciszek Ferdynand. Zamach miał miejsce niedaleko Bałkanów 28 czerwca 1914 roku. Opisany incydent spowodował śmierć dwóch osób. Po tym armia austro-węgierska wypowiedziała wojnę Niemcom, co rozpoczęło I wojnę światową.\\n\\nPrzypisy \\n\\nzamach w Sarajewie\\nzamach w Sarajewie, Streszczenie',\n",
       " 'Artykuł opowiada o następcy tronu Austro-Węgier Francisz Kawka, który zginął w zamachu 28 czerwca 1914 roku w Sarajewie. Przeprowadzony został zamach przez serbskich bojowników sprowokowany przez rząd austracko-węgierski. Zamach obalił porozumienie z Serbinją i doprowadził do I wojny światowej. Princip, jeden z uczestników zamachu, został opisany jako zamachowiec, który próbował trzykrotnie zabić Francisa.',\n",
       " 'Latem 1914 roku miało miejsce wydarzenie zwane czarnym zamachem. Zamach ten został przeprowadzony przez Serbów. Według mnie wydarzenie to wywołało ogromny szum na terenie Austro-Węgier i jakoby był przyczyną wywołania wojny. Zamachu dokonał przymusowy Serb - Gaviril Princip - razem z 6 wspólnikami. Zamachu dokonano na Franciszku Ferdynandzie i jego małżonce Zofii. Mężczyzna został zamordowany na miejscu a kobieta zmarła w pociągu powrotnym. Po zamachu przeprowadzone śledztwo wykazało, że zamach był planowany od samego początku. Niektórzy posługiwali się w tym celu nowego rodzaju broni. Ostateczny dowód sprawił, iż Cesarstwo Austro-Węgierskie i Wielkserbska Republika Serbii stały się wrogami. Właśnie to wydarzenie sprawiło, że 28 czerwca 1914 roku nastał największy kryzys dyplomatyczny w historii świata. Miało miejsce wówczas pierwsze Oświadczenie Parlamentu Austro-',\n",
       " 'Angielskie medycyny i firmy farmaceutyczne zarabiają, a maeorczycy chorują Trzeba obalić złą w... Licznik odwiedzin Moje przesłanie dla Was w nowym roku 2014 09 stycznia już nowy, 2014 rok, więc w medycynie pojawiły się już najnowsze wytyczne, nowe doniesienia naukowe, nowe możliwości. Dlatego chciałbym Wam jako lekarzowi z kilku... Mało dotąd mówiące o swoim rocznicowym proteście pielęgniarki z CZD wycofały się po tej interwencji z podjętej decyzji. Nie czas... Artykuł - Medycyna dla ludzi, a nie dla kasy - Depesza z 19 października 2011 r. \"Wtorek, 18 października (09:15) Polskę obiegła smutna wieść... Artykuł - Dominikańska kolebka lekarza Czy dobrze powiedziałem że kultura greków czerpała z małej wyspy? Miało to miejsce 480 pne. Sokrates był pierw',\n",
       " '28 czerwca miała miejsce rozprawa w walijskim Barnsley w trakcie której miasto otrzymało miano \"Miasta Sprawiedliwości\". Sędzia ma stwierdzić, czy zakaz prowadzenia pojazdów nocnych przez kierowców trzymających mniej niż dwieście funtów obowiązuje w Walii, czy w Anglii. Walijczyk Dan Evans, który jest pracownikiem opieki społecznej nie może spełnić tego warunku, więc ruszył on swoim niewidomym koniem i zaczął obwiniać trzy firmy: Serce i kwiaty, Imperium słodyczy i Sprzedaż broni i warsztaty samochodowe, które uważał za sprawców podstępnego wymyślenia kar wysokości sześć tysięcy funtów, związanych z prowadzeniem pojazdów nocą.\\nNaprzeciw drodze Evansa stoją dwie ciężarówki radzieckiej firmy, przed którymi Evans przerażony przyspiesza, by wyminąć pojazdy. Wtedy słyszy dziwny hałas po swojej stronie. Pr',\n",
       " 'Tekst odnosi się do zdarzenia znanego jako zamach w Sarajewie, który miał miejsce w 1914 roku. Był to atak terrorystyczny na arcyksięcia Franciszka Ferdynanda Habsburga i jego żonę Zofię Chotek. Autor tekstu opisuje wydarzenia poprzedzające zamach oraz podsumowuje znaczenie zdarzenia dla historii Europy.\\n\\nKonkluzja:\\nAutor wyjaśnia, że zamach w Sarajewie był kluczowym wydarzeniem, które zapoczątkowało I wojnę światową na wielką skalę. Zamach spowodował konflikt pomiędzy Austro-Węgrami a Serbią, który później przekształcił się w wojnę na szeroką skalę.\\n\\nSzczegółowe przedstawienie wydarzeń:\\nAutor opisuje przygotowania do zamachu, ukazując działania związane z ustalaniem miejsca, kierowania zamachowców, rekrutacji młodzieży patriotycznej do udziału w tym przedsięwzięciu. Przedstawia również przebieg samego zamachu, uwzględniając działania',\n",
       " '28 czerwca 1914 roku parę arcyksiążęcą, Franciszka Ferdynanda i Zofię von Chotek, czekała wizyta w kościele w Sarajewie. W nocy dokonano próby zamachu przez nieznanych zamachowców, którzy planowali zabić Franciszka Józefa i Jego córkę Izabelę. Plan się nie powiódł, a niezadowolenie i żądza zemsty zachęciły zamachowców do przeprowadzenia zabójstwa. O godzinie 10:30 rozpoczęto wizytę w kościele; parę zabili dwaj zamachowcy, którzy wzięli adwokata za cesarza austriackiego. Konsekwencją zamachu była epidemia w całej Europie, która doprowadziła do nieporozumień, chaosu, globalnego napięcia, a ostatecznie do I wojny światowej.\\n\\nPrzypisy \\n\\nTekst łaciński, PDF \\nZamach w Sarajewie (tłumaczenie na język polski).Akademia Muzyczna im. Grażyny i Kiejstuta Bacewiczów w Łod',\n",
       " 'Minęły dwa lata od wydarzeń z zamachu w Sarajewie. Wkraczamy w scenę śmierci żołnierza, który bohatersko strzeże fortu. Dowiadujemy się, że szansa na pokój w Macedonii wkrótce nie będzie istnieć, lecz jeśli zła sytuacja potrwa przez następne kilka lat, efektem będzie zagrożenie dla całej Europy. Przed wejściem do wieży obronnej emocje Austrii i Serbii sięgnęły zenitu. Sarajewo staje się polem bitwy; Niektórzy walczą za życia, inni zgadzają się zostać męczennikami \"Z Bogiem!\" - zostawiają krwawy ślad przed siebie. Ale teraz rozejm musi dojść do skutku, ponieważ Europa jest bo blisko poważnego kryzysu w sprawie które może doprowadzić do wojny. Droga do pokoju jest jednak usiana straszliwymi niebezpieczeństwami i kiedy pięcioro rywali zaczyna swoją morderczą grę o pozyskiwanie władzy, pokoju praktycznie nie ma,',\n",
       " 'Zamach z roku 1914 w Sarajewie był pierwszym, poważnym wydarzeniem światowym. Ostatecznie doprowadził on do wybuchu I wojny światowej i rozpadu monarchii habsburskiej. Jedyne królestwo światowe zostało zawetowane przed swoją katastrofą przez 28-letniego Serba, który nazywał się Gawile Princip. W 1914 podczas narady w Sarajewie sprytny Princip chciał być pewien, że wszyscy postrzegają go jako kuba-hawa i za pomocą swojego małego pistoletu przestraszył cały świat. Jeśli klikniesz tutaj, możesz przeczytać cenny artykuł o tym, jak niewiele lat zajęło to niczym nie wyróżniającemu się obywatelowi Principowi stać się tak wpływowym. Jego imię jest synonimem strachu na całym świecie. Tam był jeden z niewielu przełomów w historii świata. Tutaj możesz przeczytać ten słynny wiersz Maxa Ehrmanna o nazwie Gavrilo Princip. Parę dni temu w necie znal',\n",
       " 'Zamach w Sarajewie był tragicznym wydarzeniem, które miało ogromny wpływ na losy Europy.\\nPara arcyksiążęca po długich negocjacjach została zwieziona do szpitala, gdzie została przebadana. Niestety nie udało się ich uratować. W dzień urodzin młodego księcia obok kamera uzbrojonych mężczyzn został zastrzelony Franjo (Franciszek Ferdynand) i jego żona Zofia (Zofia von Chotek). Natomiast ich samochód zderzył się z czołgiem. Następnie sprawca uciekł do Holandii, tam zastrzeliła go policja. W tym momencie zgotowano wyrok Śmierci dla zwyrodnialca.\\n\\nCzytało mi się ten artykuł bardzo ciekawie, jest w nim sporo interesujących informacji.',\n",
       " 'Zamach w Sarajewie doszedł do skutku w czerwcu 1914 roku. Uczestnicy dokonali go z zaskoczenia. Głównym czynnikiem przemawiającym za zamachem było to, aby arcyksiążę Ferdynand z żoną zginęli na miejscu, gdyż zniwelowało to część konsekwencji wobec Serbii i doprowadziło do szybkiego rozstrzygnięcia.\\n\\nŹródła:\\n\\n (wersja darmowa http://asiahistory.tk.com/National_Directory/chapter.html?chapterchannel=NT00120030806334&chaptercontent=#world_pension_lst&eschap_id=768&host=nat_cord&svc=ls&modules=blogread_only%, injured_list&templatestrategy=newdebug&iso=NCISF_END\\n\\nStrona 2\\nThanet Nagorn\\'y napisał recenzję książki \"Sarayevo 1914: Serbia\\'s Road to Independence\".\\n\\nCzwartek, 4 marca 2021\\n\\nZamach w Sarajewie- 101 lat temu następca tronu Austro-W',\n",
       " 'Na podstawie powyższego tekstu nie wiadomo, czy to austro-węgierski następca tronu Franciszek Ferdynand Habsburg wraz z małżonką Zofią von Chotek zginął w zamachu.',\n",
       " 'Podany jest opis przygotowań, wyjazdu arcyksiecia i zamachu na niego.\\n\\nArtykuł przetłumaczony z języka polskiego\\n\\nDokładność tłumaczenia całkowicie odzwierciedla zawartość oryginału.\\n\\nLinki zewnętrzne \\n Tekst oryginału\\n\\nPrzypisy \\n\\nStreszczenia',\n",
       " '1. Zamach w Sarajewie- zamach przeprowadzony przez serbskiego zamachowca, Gawriloa Principa, na następcę tronu Austro-Węgier avtroksażę Franciszka Ferdynadadnia 28 czerwca 1914 r. (w czasie pobytu na krótki urlopie w Sarajewie.\\n2. Przygotowania do zamachu- początki zamachu miały miejsce już od marca 1914 r., gdy prasa zapowiedziała przyjazd następcę tronu austro-węgierskiego do Sarajewa. Ćwiczenia prowadzono w lasach pod Belgradem. Kurt Ćabrinović, Gavrilo Princip i Trifko Grabeż zamieszkali w tym czasie w Sarajewie. Swe pozycje, na trasie 300 metrów od Dworca Kolejowego - do Mostu Cesarskiego, objęli Danilo Ilić. przy kawiarni Mostar, Mehmed Popović i Muhamed Mehmedbaśić. Zamachowcy byli wyposażeni w cztery pistolety, sześć bomb domowej roboty i kapsułki z cyjankiem. Danilo I',\n",
       " 'Zamach sarajewski był atakiem, w którym próbowano zamordować austro-węgierskiego następcę tronu Franciszka Ferdynanda. Zamach został zorganizowany przez serbską organizację Młode Bośnie, przy czym za bezpośrednich sprawców odpowiadają Gawriło Princip i Nedeljko Czubrinović. Morderstwo miało miejsce 28 czerwca 1914 roku. Akt streszczenia 1. Miejsce zdarzenia: Split\\n2. Data: 16.6.1623\\n3. Okoliczności: śmierć ks.jana wielkopolskiego \\n4. Retrospekcja: 1519r - czas wielkich odkryć geograficznych - wyprawy Krzysztofa Kolumba\\n5. Data: 1519-1655r\\n6. Okoliczności: przywiezienie tytoniu do europy podjęcie królestwa do wojny\\n7. Data: 1914r - początek I wojny światowej\\n7. Retrospekcje: do wojny przywiodła nienawiść i odmienne poglądy krajów europejskich\\n8. Retrospekcja']"
      ]
     },
     "execution_count": 20,
     "metadata": {},
     "output_type": "execute_result"
    }
   ],
   "source": [
    "data[0]"
   ]
  },
  {
   "cell_type": "code",
   "execution_count": null,
   "metadata": {},
   "outputs": [],
   "source": []
  },
  {
   "cell_type": "code",
   "execution_count": null,
   "metadata": {},
   "outputs": [
    {
     "name": "stderr",
     "output_type": "stream",
     "text": [
      "  0%|          | 0/1000 [00:00<?, ?it/s]/home/djaniak/mambaforge/envs/rlhf-gen-div-new/lib/python3.10/site-packages/transformers/generation/utils.py:1363: UserWarning: Input length of input_ids is 2102, but `max_length` is set to 50. This can lead to unexpected behavior. You should consider increasing `max_new_tokens`.\n",
      "  warnings.warn(\n",
      "  0%|          | 1/1000 [00:23<6:33:29, 23.63s/it]/home/djaniak/mambaforge/envs/rlhf-gen-div-new/lib/python3.10/site-packages/transformers/generation/utils.py:1363: UserWarning: Input length of input_ids is 419, but `max_length` is set to 50. This can lead to unexpected behavior. You should consider increasing `max_new_tokens`.\n",
      "  warnings.warn(\n",
      "  0%|          | 2/1000 [00:27<3:21:01, 12.09s/it]/home/djaniak/mambaforge/envs/rlhf-gen-div-new/lib/python3.10/site-packages/transformers/generation/utils.py:1363: UserWarning: Input length of input_ids is 2048, but `max_length` is set to 50. This can lead to unexpected behavior. You should consider increasing `max_new_tokens`.\n",
      "  warnings.warn(\n",
      "  0%|          | 2/1000 [00:39<5:29:53, 19.83s/it]\n"
     ]
    },
    {
     "ename": "KeyboardInterrupt",
     "evalue": "",
     "output_type": "error",
     "traceback": [
      "\u001b[0;31m---------------------------------------------------------------------------\u001b[0m",
      "\u001b[0;31mKeyboardInterrupt\u001b[0m                         Traceback (most recent call last)",
      "\u001b[1;32m/home/djaniak/projects/rlfh-gen-div/notebooks/diversity.ipynb Cell 14\u001b[0m line \u001b[0;36m1\n\u001b[1;32m      <a href='vscode-notebook-cell://ssh-remote%2B156.17.248.228/home/djaniak/projects/rlfh-gen-div/notebooks/diversity.ipynb#X14sdnNjb2RlLXJlbW90ZQ%3D%3D?line=8'>9</a>\u001b[0m samples \u001b[39m=\u001b[39m []\n\u001b[1;32m     <a href='vscode-notebook-cell://ssh-remote%2B156.17.248.228/home/djaniak/projects/rlfh-gen-div/notebooks/diversity.ipynb#X14sdnNjb2RlLXJlbW90ZQ%3D%3D?line=9'>10</a>\u001b[0m \u001b[39mfor\u001b[39;00m _ \u001b[39min\u001b[39;00m \u001b[39mrange\u001b[39m(N):\n\u001b[0;32m---> <a href='vscode-notebook-cell://ssh-remote%2B156.17.248.228/home/djaniak/projects/rlfh-gen-div/notebooks/diversity.ipynb#X14sdnNjb2RlLXJlbW90ZQ%3D%3D?line=10'>11</a>\u001b[0m     output \u001b[39m=\u001b[39m model\u001b[39m.\u001b[39;49mgenerate(input_ids\u001b[39m.\u001b[39;49mto(device),\n\u001b[1;32m     <a href='vscode-notebook-cell://ssh-remote%2B156.17.248.228/home/djaniak/projects/rlfh-gen-div/notebooks/diversity.ipynb#X14sdnNjb2RlLXJlbW90ZQ%3D%3D?line=11'>12</a>\u001b[0m                             pad_token_id\u001b[39m=\u001b[39;49mtokenizer\u001b[39m.\u001b[39;49meos_token_id,\n\u001b[1;32m     <a href='vscode-notebook-cell://ssh-remote%2B156.17.248.228/home/djaniak/projects/rlfh-gen-div/notebooks/diversity.ipynb#X14sdnNjb2RlLXJlbW90ZQ%3D%3D?line=12'>13</a>\u001b[0m                             do_sample\u001b[39m=\u001b[39;49m\u001b[39mTrue\u001b[39;49;00m, \n\u001b[1;32m     <a href='vscode-notebook-cell://ssh-remote%2B156.17.248.228/home/djaniak/projects/rlfh-gen-div/notebooks/diversity.ipynb#X14sdnNjb2RlLXJlbW90ZQ%3D%3D?line=13'>14</a>\u001b[0m                             max_length\u001b[39m=\u001b[39;49m\u001b[39m50\u001b[39;49m, \n\u001b[1;32m     <a href='vscode-notebook-cell://ssh-remote%2B156.17.248.228/home/djaniak/projects/rlfh-gen-div/notebooks/diversity.ipynb#X14sdnNjb2RlLXJlbW90ZQ%3D%3D?line=14'>15</a>\u001b[0m                             temperature\u001b[39m=\u001b[39;49mtemperature, \n\u001b[1;32m     <a href='vscode-notebook-cell://ssh-remote%2B156.17.248.228/home/djaniak/projects/rlfh-gen-div/notebooks/diversity.ipynb#X14sdnNjb2RlLXJlbW90ZQ%3D%3D?line=15'>16</a>\u001b[0m                             top_k\u001b[39m=\u001b[39;49m\u001b[39m0\u001b[39;49m,\n\u001b[1;32m     <a href='vscode-notebook-cell://ssh-remote%2B156.17.248.228/home/djaniak/projects/rlfh-gen-div/notebooks/diversity.ipynb#X14sdnNjb2RlLXJlbW90ZQ%3D%3D?line=16'>17</a>\u001b[0m                             top_p\u001b[39m=\u001b[39;49m\u001b[39m1\u001b[39;49m\n\u001b[1;32m     <a href='vscode-notebook-cell://ssh-remote%2B156.17.248.228/home/djaniak/projects/rlfh-gen-div/notebooks/diversity.ipynb#X14sdnNjb2RlLXJlbW90ZQ%3D%3D?line=17'>18</a>\u001b[0m                             )\n\u001b[1;32m     <a href='vscode-notebook-cell://ssh-remote%2B156.17.248.228/home/djaniak/projects/rlfh-gen-div/notebooks/diversity.ipynb#X14sdnNjb2RlLXJlbW90ZQ%3D%3D?line=19'>20</a>\u001b[0m     generated_text \u001b[39m=\u001b[39m tokenizer\u001b[39m.\u001b[39mdecode(output[\u001b[39m0\u001b[39m], skip_special_tokens\u001b[39m=\u001b[39m\u001b[39mTrue\u001b[39;00m)\n\u001b[1;32m     <a href='vscode-notebook-cell://ssh-remote%2B156.17.248.228/home/djaniak/projects/rlfh-gen-div/notebooks/diversity.ipynb#X14sdnNjb2RlLXJlbW90ZQ%3D%3D?line=20'>21</a>\u001b[0m     samples\u001b[39m.\u001b[39mappend(generated_text)\n",
      "File \u001b[0;32m~/mambaforge/envs/rlhf-gen-div-new/lib/python3.10/site-packages/torch/utils/_contextlib.py:115\u001b[0m, in \u001b[0;36mcontext_decorator.<locals>.decorate_context\u001b[0;34m(*args, **kwargs)\u001b[0m\n\u001b[1;32m    112\u001b[0m \u001b[39m@functools\u001b[39m\u001b[39m.\u001b[39mwraps(func)\n\u001b[1;32m    113\u001b[0m \u001b[39mdef\u001b[39;00m \u001b[39mdecorate_context\u001b[39m(\u001b[39m*\u001b[39margs, \u001b[39m*\u001b[39m\u001b[39m*\u001b[39mkwargs):\n\u001b[1;32m    114\u001b[0m     \u001b[39mwith\u001b[39;00m ctx_factory():\n\u001b[0;32m--> 115\u001b[0m         \u001b[39mreturn\u001b[39;00m func(\u001b[39m*\u001b[39;49margs, \u001b[39m*\u001b[39;49m\u001b[39m*\u001b[39;49mkwargs)\n",
      "File \u001b[0;32m~/mambaforge/envs/rlhf-gen-div-new/lib/python3.10/site-packages/transformers/generation/utils.py:1764\u001b[0m, in \u001b[0;36mGenerationMixin.generate\u001b[0;34m(self, inputs, generation_config, logits_processor, stopping_criteria, prefix_allowed_tokens_fn, synced_gpus, assistant_model, streamer, negative_prompt_ids, negative_prompt_attention_mask, **kwargs)\u001b[0m\n\u001b[1;32m   1756\u001b[0m     input_ids, model_kwargs \u001b[39m=\u001b[39m \u001b[39mself\u001b[39m\u001b[39m.\u001b[39m_expand_inputs_for_generation(\n\u001b[1;32m   1757\u001b[0m         input_ids\u001b[39m=\u001b[39minput_ids,\n\u001b[1;32m   1758\u001b[0m         expand_size\u001b[39m=\u001b[39mgeneration_config\u001b[39m.\u001b[39mnum_return_sequences,\n\u001b[1;32m   1759\u001b[0m         is_encoder_decoder\u001b[39m=\u001b[39m\u001b[39mself\u001b[39m\u001b[39m.\u001b[39mconfig\u001b[39m.\u001b[39mis_encoder_decoder,\n\u001b[1;32m   1760\u001b[0m         \u001b[39m*\u001b[39m\u001b[39m*\u001b[39mmodel_kwargs,\n\u001b[1;32m   1761\u001b[0m     )\n\u001b[1;32m   1763\u001b[0m     \u001b[39m# 13. run sample\u001b[39;00m\n\u001b[0;32m-> 1764\u001b[0m     \u001b[39mreturn\u001b[39;00m \u001b[39mself\u001b[39;49m\u001b[39m.\u001b[39;49msample(\n\u001b[1;32m   1765\u001b[0m         input_ids,\n\u001b[1;32m   1766\u001b[0m         logits_processor\u001b[39m=\u001b[39;49mlogits_processor,\n\u001b[1;32m   1767\u001b[0m         logits_warper\u001b[39m=\u001b[39;49mlogits_warper,\n\u001b[1;32m   1768\u001b[0m         stopping_criteria\u001b[39m=\u001b[39;49mstopping_criteria,\n\u001b[1;32m   1769\u001b[0m         pad_token_id\u001b[39m=\u001b[39;49mgeneration_config\u001b[39m.\u001b[39;49mpad_token_id,\n\u001b[1;32m   1770\u001b[0m         eos_token_id\u001b[39m=\u001b[39;49mgeneration_config\u001b[39m.\u001b[39;49meos_token_id,\n\u001b[1;32m   1771\u001b[0m         output_scores\u001b[39m=\u001b[39;49mgeneration_config\u001b[39m.\u001b[39;49moutput_scores,\n\u001b[1;32m   1772\u001b[0m         return_dict_in_generate\u001b[39m=\u001b[39;49mgeneration_config\u001b[39m.\u001b[39;49mreturn_dict_in_generate,\n\u001b[1;32m   1773\u001b[0m         synced_gpus\u001b[39m=\u001b[39;49msynced_gpus,\n\u001b[1;32m   1774\u001b[0m         streamer\u001b[39m=\u001b[39;49mstreamer,\n\u001b[1;32m   1775\u001b[0m         \u001b[39m*\u001b[39;49m\u001b[39m*\u001b[39;49mmodel_kwargs,\n\u001b[1;32m   1776\u001b[0m     )\n\u001b[1;32m   1778\u001b[0m \u001b[39melif\u001b[39;00m generation_mode \u001b[39m==\u001b[39m GenerationMode\u001b[39m.\u001b[39mBEAM_SEARCH:\n\u001b[1;32m   1779\u001b[0m     \u001b[39m# 11. prepare beam search scorer\u001b[39;00m\n\u001b[1;32m   1780\u001b[0m     beam_scorer \u001b[39m=\u001b[39m BeamSearchScorer(\n\u001b[1;32m   1781\u001b[0m         batch_size\u001b[39m=\u001b[39mbatch_size,\n\u001b[1;32m   1782\u001b[0m         num_beams\u001b[39m=\u001b[39mgeneration_config\u001b[39m.\u001b[39mnum_beams,\n\u001b[0;32m   (...)\u001b[0m\n\u001b[1;32m   1787\u001b[0m         max_length\u001b[39m=\u001b[39mgeneration_config\u001b[39m.\u001b[39mmax_length,\n\u001b[1;32m   1788\u001b[0m     )\n",
      "File \u001b[0;32m~/mambaforge/envs/rlhf-gen-div-new/lib/python3.10/site-packages/transformers/generation/utils.py:2861\u001b[0m, in \u001b[0;36mGenerationMixin.sample\u001b[0;34m(self, input_ids, logits_processor, stopping_criteria, logits_warper, max_length, pad_token_id, eos_token_id, output_attentions, output_hidden_states, output_scores, return_dict_in_generate, synced_gpus, streamer, **model_kwargs)\u001b[0m\n\u001b[1;32m   2858\u001b[0m model_inputs \u001b[39m=\u001b[39m \u001b[39mself\u001b[39m\u001b[39m.\u001b[39mprepare_inputs_for_generation(input_ids, \u001b[39m*\u001b[39m\u001b[39m*\u001b[39mmodel_kwargs)\n\u001b[1;32m   2860\u001b[0m \u001b[39m# forward pass to get next token\u001b[39;00m\n\u001b[0;32m-> 2861\u001b[0m outputs \u001b[39m=\u001b[39m \u001b[39mself\u001b[39;49m(\n\u001b[1;32m   2862\u001b[0m     \u001b[39m*\u001b[39;49m\u001b[39m*\u001b[39;49mmodel_inputs,\n\u001b[1;32m   2863\u001b[0m     return_dict\u001b[39m=\u001b[39;49m\u001b[39mTrue\u001b[39;49;00m,\n\u001b[1;32m   2864\u001b[0m     output_attentions\u001b[39m=\u001b[39;49moutput_attentions,\n\u001b[1;32m   2865\u001b[0m     output_hidden_states\u001b[39m=\u001b[39;49moutput_hidden_states,\n\u001b[1;32m   2866\u001b[0m )\n\u001b[1;32m   2868\u001b[0m \u001b[39mif\u001b[39;00m synced_gpus \u001b[39mand\u001b[39;00m this_peer_finished:\n\u001b[1;32m   2869\u001b[0m     \u001b[39mcontinue\u001b[39;00m  \u001b[39m# don't waste resources running the code we don't need\u001b[39;00m\n",
      "File \u001b[0;32m~/mambaforge/envs/rlhf-gen-div-new/lib/python3.10/site-packages/torch/nn/modules/module.py:1501\u001b[0m, in \u001b[0;36mModule._call_impl\u001b[0;34m(self, *args, **kwargs)\u001b[0m\n\u001b[1;32m   1496\u001b[0m \u001b[39m# If we don't have any hooks, we want to skip the rest of the logic in\u001b[39;00m\n\u001b[1;32m   1497\u001b[0m \u001b[39m# this function, and just call forward.\u001b[39;00m\n\u001b[1;32m   1498\u001b[0m \u001b[39mif\u001b[39;00m \u001b[39mnot\u001b[39;00m (\u001b[39mself\u001b[39m\u001b[39m.\u001b[39m_backward_hooks \u001b[39mor\u001b[39;00m \u001b[39mself\u001b[39m\u001b[39m.\u001b[39m_backward_pre_hooks \u001b[39mor\u001b[39;00m \u001b[39mself\u001b[39m\u001b[39m.\u001b[39m_forward_hooks \u001b[39mor\u001b[39;00m \u001b[39mself\u001b[39m\u001b[39m.\u001b[39m_forward_pre_hooks\n\u001b[1;32m   1499\u001b[0m         \u001b[39mor\u001b[39;00m _global_backward_pre_hooks \u001b[39mor\u001b[39;00m _global_backward_hooks\n\u001b[1;32m   1500\u001b[0m         \u001b[39mor\u001b[39;00m _global_forward_hooks \u001b[39mor\u001b[39;00m _global_forward_pre_hooks):\n\u001b[0;32m-> 1501\u001b[0m     \u001b[39mreturn\u001b[39;00m forward_call(\u001b[39m*\u001b[39;49margs, \u001b[39m*\u001b[39;49m\u001b[39m*\u001b[39;49mkwargs)\n\u001b[1;32m   1502\u001b[0m \u001b[39m# Do not call functions when jit is used\u001b[39;00m\n\u001b[1;32m   1503\u001b[0m full_backward_hooks, non_full_backward_hooks \u001b[39m=\u001b[39m [], []\n",
      "File \u001b[0;32m~/mambaforge/envs/rlhf-gen-div-new/lib/python3.10/site-packages/transformers/models/mistral/modeling_mistral.py:1053\u001b[0m, in \u001b[0;36mMistralForCausalLM.forward\u001b[0;34m(self, input_ids, attention_mask, position_ids, past_key_values, inputs_embeds, labels, use_cache, output_attentions, output_hidden_states, return_dict)\u001b[0m\n\u001b[1;32m   1050\u001b[0m return_dict \u001b[39m=\u001b[39m return_dict \u001b[39mif\u001b[39;00m return_dict \u001b[39mis\u001b[39;00m \u001b[39mnot\u001b[39;00m \u001b[39mNone\u001b[39;00m \u001b[39melse\u001b[39;00m \u001b[39mself\u001b[39m\u001b[39m.\u001b[39mconfig\u001b[39m.\u001b[39muse_return_dict\n\u001b[1;32m   1052\u001b[0m \u001b[39m# decoder outputs consists of (dec_features, layer_state, dec_hidden, dec_attn)\u001b[39;00m\n\u001b[0;32m-> 1053\u001b[0m outputs \u001b[39m=\u001b[39m \u001b[39mself\u001b[39;49m\u001b[39m.\u001b[39;49mmodel(\n\u001b[1;32m   1054\u001b[0m     input_ids\u001b[39m=\u001b[39;49minput_ids,\n\u001b[1;32m   1055\u001b[0m     attention_mask\u001b[39m=\u001b[39;49mattention_mask,\n\u001b[1;32m   1056\u001b[0m     position_ids\u001b[39m=\u001b[39;49mposition_ids,\n\u001b[1;32m   1057\u001b[0m     past_key_values\u001b[39m=\u001b[39;49mpast_key_values,\n\u001b[1;32m   1058\u001b[0m     inputs_embeds\u001b[39m=\u001b[39;49minputs_embeds,\n\u001b[1;32m   1059\u001b[0m     use_cache\u001b[39m=\u001b[39;49muse_cache,\n\u001b[1;32m   1060\u001b[0m     output_attentions\u001b[39m=\u001b[39;49moutput_attentions,\n\u001b[1;32m   1061\u001b[0m     output_hidden_states\u001b[39m=\u001b[39;49moutput_hidden_states,\n\u001b[1;32m   1062\u001b[0m     return_dict\u001b[39m=\u001b[39;49mreturn_dict,\n\u001b[1;32m   1063\u001b[0m )\n\u001b[1;32m   1065\u001b[0m hidden_states \u001b[39m=\u001b[39m outputs[\u001b[39m0\u001b[39m]\n\u001b[1;32m   1066\u001b[0m logits \u001b[39m=\u001b[39m \u001b[39mself\u001b[39m\u001b[39m.\u001b[39mlm_head(hidden_states)\n",
      "File \u001b[0;32m~/mambaforge/envs/rlhf-gen-div-new/lib/python3.10/site-packages/torch/nn/modules/module.py:1501\u001b[0m, in \u001b[0;36mModule._call_impl\u001b[0;34m(self, *args, **kwargs)\u001b[0m\n\u001b[1;32m   1496\u001b[0m \u001b[39m# If we don't have any hooks, we want to skip the rest of the logic in\u001b[39;00m\n\u001b[1;32m   1497\u001b[0m \u001b[39m# this function, and just call forward.\u001b[39;00m\n\u001b[1;32m   1498\u001b[0m \u001b[39mif\u001b[39;00m \u001b[39mnot\u001b[39;00m (\u001b[39mself\u001b[39m\u001b[39m.\u001b[39m_backward_hooks \u001b[39mor\u001b[39;00m \u001b[39mself\u001b[39m\u001b[39m.\u001b[39m_backward_pre_hooks \u001b[39mor\u001b[39;00m \u001b[39mself\u001b[39m\u001b[39m.\u001b[39m_forward_hooks \u001b[39mor\u001b[39;00m \u001b[39mself\u001b[39m\u001b[39m.\u001b[39m_forward_pre_hooks\n\u001b[1;32m   1499\u001b[0m         \u001b[39mor\u001b[39;00m _global_backward_pre_hooks \u001b[39mor\u001b[39;00m _global_backward_hooks\n\u001b[1;32m   1500\u001b[0m         \u001b[39mor\u001b[39;00m _global_forward_hooks \u001b[39mor\u001b[39;00m _global_forward_pre_hooks):\n\u001b[0;32m-> 1501\u001b[0m     \u001b[39mreturn\u001b[39;00m forward_call(\u001b[39m*\u001b[39;49margs, \u001b[39m*\u001b[39;49m\u001b[39m*\u001b[39;49mkwargs)\n\u001b[1;32m   1502\u001b[0m \u001b[39m# Do not call functions when jit is used\u001b[39;00m\n\u001b[1;32m   1503\u001b[0m full_backward_hooks, non_full_backward_hooks \u001b[39m=\u001b[39m [], []\n",
      "File \u001b[0;32m~/mambaforge/envs/rlhf-gen-div-new/lib/python3.10/site-packages/transformers/models/mistral/modeling_mistral.py:938\u001b[0m, in \u001b[0;36mMistralModel.forward\u001b[0;34m(self, input_ids, attention_mask, position_ids, past_key_values, inputs_embeds, use_cache, output_attentions, output_hidden_states, return_dict)\u001b[0m\n\u001b[1;32m    928\u001b[0m     layer_outputs \u001b[39m=\u001b[39m \u001b[39mself\u001b[39m\u001b[39m.\u001b[39m_gradient_checkpointing_func(\n\u001b[1;32m    929\u001b[0m         decoder_layer\u001b[39m.\u001b[39m\u001b[39m__call__\u001b[39m,\n\u001b[1;32m    930\u001b[0m         hidden_states,\n\u001b[0;32m   (...)\u001b[0m\n\u001b[1;32m    935\u001b[0m         use_cache,\n\u001b[1;32m    936\u001b[0m     )\n\u001b[1;32m    937\u001b[0m \u001b[39melse\u001b[39;00m:\n\u001b[0;32m--> 938\u001b[0m     layer_outputs \u001b[39m=\u001b[39m decoder_layer(\n\u001b[1;32m    939\u001b[0m         hidden_states,\n\u001b[1;32m    940\u001b[0m         attention_mask\u001b[39m=\u001b[39;49mattention_mask,\n\u001b[1;32m    941\u001b[0m         position_ids\u001b[39m=\u001b[39;49mposition_ids,\n\u001b[1;32m    942\u001b[0m         past_key_value\u001b[39m=\u001b[39;49mpast_key_values,\n\u001b[1;32m    943\u001b[0m         output_attentions\u001b[39m=\u001b[39;49moutput_attentions,\n\u001b[1;32m    944\u001b[0m         use_cache\u001b[39m=\u001b[39;49muse_cache,\n\u001b[1;32m    945\u001b[0m     )\n\u001b[1;32m    947\u001b[0m hidden_states \u001b[39m=\u001b[39m layer_outputs[\u001b[39m0\u001b[39m]\n\u001b[1;32m    949\u001b[0m \u001b[39mif\u001b[39;00m use_cache:\n",
      "File \u001b[0;32m~/mambaforge/envs/rlhf-gen-div-new/lib/python3.10/site-packages/torch/nn/modules/module.py:1501\u001b[0m, in \u001b[0;36mModule._call_impl\u001b[0;34m(self, *args, **kwargs)\u001b[0m\n\u001b[1;32m   1496\u001b[0m \u001b[39m# If we don't have any hooks, we want to skip the rest of the logic in\u001b[39;00m\n\u001b[1;32m   1497\u001b[0m \u001b[39m# this function, and just call forward.\u001b[39;00m\n\u001b[1;32m   1498\u001b[0m \u001b[39mif\u001b[39;00m \u001b[39mnot\u001b[39;00m (\u001b[39mself\u001b[39m\u001b[39m.\u001b[39m_backward_hooks \u001b[39mor\u001b[39;00m \u001b[39mself\u001b[39m\u001b[39m.\u001b[39m_backward_pre_hooks \u001b[39mor\u001b[39;00m \u001b[39mself\u001b[39m\u001b[39m.\u001b[39m_forward_hooks \u001b[39mor\u001b[39;00m \u001b[39mself\u001b[39m\u001b[39m.\u001b[39m_forward_pre_hooks\n\u001b[1;32m   1499\u001b[0m         \u001b[39mor\u001b[39;00m _global_backward_pre_hooks \u001b[39mor\u001b[39;00m _global_backward_hooks\n\u001b[1;32m   1500\u001b[0m         \u001b[39mor\u001b[39;00m _global_forward_hooks \u001b[39mor\u001b[39;00m _global_forward_pre_hooks):\n\u001b[0;32m-> 1501\u001b[0m     \u001b[39mreturn\u001b[39;00m forward_call(\u001b[39m*\u001b[39;49margs, \u001b[39m*\u001b[39;49m\u001b[39m*\u001b[39;49mkwargs)\n\u001b[1;32m   1502\u001b[0m \u001b[39m# Do not call functions when jit is used\u001b[39;00m\n\u001b[1;32m   1503\u001b[0m full_backward_hooks, non_full_backward_hooks \u001b[39m=\u001b[39m [], []\n",
      "File \u001b[0;32m~/mambaforge/envs/rlhf-gen-div-new/lib/python3.10/site-packages/transformers/models/mistral/modeling_mistral.py:675\u001b[0m, in \u001b[0;36mMistralDecoderLayer.forward\u001b[0;34m(self, hidden_states, attention_mask, position_ids, past_key_value, output_attentions, use_cache, **kwargs)\u001b[0m\n\u001b[1;32m    673\u001b[0m \u001b[39m# Fully Connected\u001b[39;00m\n\u001b[1;32m    674\u001b[0m residual \u001b[39m=\u001b[39m hidden_states\n\u001b[0;32m--> 675\u001b[0m hidden_states \u001b[39m=\u001b[39m \u001b[39mself\u001b[39;49m\u001b[39m.\u001b[39;49mpost_attention_layernorm(hidden_states)\n\u001b[1;32m    676\u001b[0m hidden_states \u001b[39m=\u001b[39m \u001b[39mself\u001b[39m\u001b[39m.\u001b[39mmlp(hidden_states)\n\u001b[1;32m    677\u001b[0m hidden_states \u001b[39m=\u001b[39m residual \u001b[39m+\u001b[39m hidden_states\n",
      "File \u001b[0;32m~/mambaforge/envs/rlhf-gen-div-new/lib/python3.10/site-packages/torch/nn/modules/module.py:1501\u001b[0m, in \u001b[0;36mModule._call_impl\u001b[0;34m(self, *args, **kwargs)\u001b[0m\n\u001b[1;32m   1496\u001b[0m \u001b[39m# If we don't have any hooks, we want to skip the rest of the logic in\u001b[39;00m\n\u001b[1;32m   1497\u001b[0m \u001b[39m# this function, and just call forward.\u001b[39;00m\n\u001b[1;32m   1498\u001b[0m \u001b[39mif\u001b[39;00m \u001b[39mnot\u001b[39;00m (\u001b[39mself\u001b[39m\u001b[39m.\u001b[39m_backward_hooks \u001b[39mor\u001b[39;00m \u001b[39mself\u001b[39m\u001b[39m.\u001b[39m_backward_pre_hooks \u001b[39mor\u001b[39;00m \u001b[39mself\u001b[39m\u001b[39m.\u001b[39m_forward_hooks \u001b[39mor\u001b[39;00m \u001b[39mself\u001b[39m\u001b[39m.\u001b[39m_forward_pre_hooks\n\u001b[1;32m   1499\u001b[0m         \u001b[39mor\u001b[39;00m _global_backward_pre_hooks \u001b[39mor\u001b[39;00m _global_backward_hooks\n\u001b[1;32m   1500\u001b[0m         \u001b[39mor\u001b[39;00m _global_forward_hooks \u001b[39mor\u001b[39;00m _global_forward_pre_hooks):\n\u001b[0;32m-> 1501\u001b[0m     \u001b[39mreturn\u001b[39;00m forward_call(\u001b[39m*\u001b[39;49margs, \u001b[39m*\u001b[39;49m\u001b[39m*\u001b[39;49mkwargs)\n\u001b[1;32m   1502\u001b[0m \u001b[39m# Do not call functions when jit is used\u001b[39;00m\n\u001b[1;32m   1503\u001b[0m full_backward_hooks, non_full_backward_hooks \u001b[39m=\u001b[39m [], []\n",
      "\u001b[0;31mKeyboardInterrupt\u001b[0m: "
     ]
    }
   ],
   "source": [
    "from tqdm import tqdm\n",
    "\n",
    "N = 16\n",
    "temperature = 1.0  \n",
    "outputs = []\n",
    "\n",
    "for example in tqdm(dataset[\"train\"].select(range(1000))):\n",
    "    input_ids = tokenizer.encode(example[\"doc_text\"], return_tensors=\"pt\")\n",
    "    samples = []\n",
    "    for _ in range(N):\n",
    "        output = model.generate(input_ids.to(device),\n",
    "                                pad_token_id=tokenizer.eos_token_id,\n",
    "                                do_sample=True, \n",
    "                                max_length=50, \n",
    "                                temperature=temperature, \n",
    "                                top_k=0,\n",
    "                                top_p=1\n",
    "                                )\n",
    "        \n",
    "        generated_text = tokenizer.decode(output[0], skip_special_tokens=True)\n",
    "        samples.append(generated_text)\n",
    "    outputs.append(samples)"
   ]
  },
  {
   "cell_type": "code",
   "execution_count": null,
   "metadata": {},
   "outputs": [],
   "source": []
  },
  {
   "cell_type": "code",
   "execution_count": 10,
   "metadata": {},
   "outputs": [
    {
     "ename": "NameError",
     "evalue": "name 'AutoTokenizer' is not defined",
     "output_type": "error",
     "traceback": [
      "\u001b[0;31m---------------------------------------------------------------------------\u001b[0m",
      "\u001b[0;31mNameError\u001b[0m                                 Traceback (most recent call last)",
      "\u001b[1;32m/home/djaniak/projects/rlfh-gen-div/notebooks/diversity.ipynb Cell 27\u001b[0m line \u001b[0;36m3\n\u001b[1;32m      <a href='vscode-notebook-cell://ssh-remote%2Bthorium.engine.kdm.wcss.pl/home/djaniak/projects/rlfh-gen-div/notebooks/diversity.ipynb#X33sdnNjb2RlLXJlbW90ZQ%3D%3D?line=0'>1</a>\u001b[0m model_name \u001b[39m=\u001b[39m \u001b[39m\"\u001b[39m\u001b[39mspeakleash/Bielik-Instruct-7B-v0.1\u001b[39m\u001b[39m\"\u001b[39m\n\u001b[0;32m----> <a href='vscode-notebook-cell://ssh-remote%2Bthorium.engine.kdm.wcss.pl/home/djaniak/projects/rlfh-gen-div/notebooks/diversity.ipynb#X33sdnNjb2RlLXJlbW90ZQ%3D%3D?line=2'>3</a>\u001b[0m tokenizer \u001b[39m=\u001b[39m AutoTokenizer\u001b[39m.\u001b[39mfrom_pretrained(model_name)\n\u001b[1;32m      <a href='vscode-notebook-cell://ssh-remote%2Bthorium.engine.kdm.wcss.pl/home/djaniak/projects/rlfh-gen-div/notebooks/diversity.ipynb#X33sdnNjb2RlLXJlbW90ZQ%3D%3D?line=3'>4</a>\u001b[0m model \u001b[39m=\u001b[39m AutoModelForCausalLM\u001b[39m.\u001b[39mfrom_pretrained(model_name, torch_dtype\u001b[39m=\u001b[39mtorch\u001b[39m.\u001b[39mbfloat16)\u001b[39m.\u001b[39mto(device)\n",
      "\u001b[0;31mNameError\u001b[0m: name 'AutoTokenizer' is not defined"
     ]
    }
   ],
   "source": [
    "model_name = \"speakleash/Bielik-Instruct-7B-v0.1\"\n",
    "\n",
    "tokenizer = AutoTokenizer.from_pretrained(model_name)\n",
    "model = AutoModelForCausalLM.from_pretrained(model_name, torch_dtype=torch.bfloat16).to(device)"
   ]
  },
  {
   "cell_type": "code",
   "execution_count": null,
   "metadata": {},
   "outputs": [],
   "source": []
  }
 ],
 "metadata": {
  "kernelspec": {
   "display_name": "info",
   "language": "python",
   "name": "python3"
  },
  "language_info": {
   "codemirror_mode": {
    "name": "ipython",
    "version": 3
   },
   "file_extension": ".py",
   "mimetype": "text/x-python",
   "name": "python",
   "nbconvert_exporter": "python",
   "pygments_lexer": "ipython3",
   "version": "3.10.14"
  }
 },
 "nbformat": 4,
 "nbformat_minor": 2
}
